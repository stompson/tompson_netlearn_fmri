{
 "cells": [
  {
   "cell_type": "markdown",
   "metadata": {},
   "source": [
    "# Behavioral Analyses\n",
    "\n",
    "This script loads the trial-level behavioral data and individual-level neural data and runs mixed effects models to test the effect of node type and network type on RT as well as the moderating effect of brain connectivity."
   ]
  },
  {
   "cell_type": "markdown",
   "metadata": {},
   "source": [
    "## Step 1: Set up"
   ]
  },
  {
   "cell_type": "code",
   "execution_count": 55,
   "metadata": {},
   "outputs": [],
   "source": [
    "## Load packages\n",
    "library(reshape2)\n",
    "library(plyr)\n",
    "library(QuantPsyc)\n",
    "library(psych)\n",
    "library(ggplot2)\n",
    "library(effects)\n",
    "library(lme4)\n",
    "library(lmerTest)\n",
    "\n",
    "## Set Working Directory to be location where CSV files are stored (change to the location you downloaded data to)\n",
    "wd1<-\"/Users/steventompson/Git/tompson_netlearn_fmri/data/subj_data/\"\n",
    "wd2<-\"/Users/steventompson/Git/tompson_netlearn_fmri/data/ppi_zscores/\"\n",
    "wd3<-\"/Users/steventompson/Git/tompson_netlearn_fmri/data/glm_means/\""
   ]
  },
  {
   "cell_type": "code",
   "execution_count": 56,
   "metadata": {},
   "outputs": [
    {
     "data": {
      "text/plain": [
       "R version 3.4.0 (2017-04-21)\n",
       "Platform: x86_64-apple-darwin15.6.0 (64-bit)\n",
       "Running under: macOS  10.14.6\n",
       "\n",
       "Matrix products: default\n",
       "BLAS: /Library/Frameworks/R.framework/Versions/3.4/Resources/lib/libRblas.0.dylib\n",
       "LAPACK: /Library/Frameworks/R.framework/Versions/3.4/Resources/lib/libRlapack.dylib\n",
       "\n",
       "locale:\n",
       "[1] en_US.UTF-8/en_US.UTF-8/en_US.UTF-8/C/en_US.UTF-8/en_US.UTF-8\n",
       "\n",
       "attached base packages:\n",
       "[1] stats     graphics  grDevices utils     datasets  methods   base     \n",
       "\n",
       "other attached packages:\n",
       " [1] lmerTest_3.0-1 lme4_1.1-19    Matrix_1.2-15  effects_4.0-0  carData_3.0-2 \n",
       " [6] ggplot2_3.1.0  psych_1.8.12   QuantPsyc_1.5  MASS_7.3-51.1  boot_1.3-20   \n",
       "[11] plyr_1.8.4     reshape2_1.4.3\n",
       "\n",
       "loaded via a namespace (and not attached):\n",
       " [1] pbdZMQ_0.3-3      tidyselect_0.2.5  repr_0.19.1       purrr_0.2.5      \n",
       " [5] splines_3.4.0     lattice_0.20-38   colorspace_1.4-0  htmltools_0.3.6  \n",
       " [9] base64enc_0.1-3   survival_2.43-3   rlang_0.3.1       pillar_1.3.1     \n",
       "[13] nloptr_1.2.1      foreign_0.8-71    glue_1.3.0        withr_2.1.2      \n",
       "[17] bindrcpp_0.2.2    uuid_0.1-2        bindr_0.1.1       stringr_1.3.1    \n",
       "[21] munsell_0.5.0     gtable_0.2.0      evaluate_0.12     parallel_3.4.0   \n",
       "[25] IRdisplay_0.7.0   Rcpp_1.0.0        scales_1.0.0      IRkernel_0.8.15  \n",
       "[29] jsonlite_1.6      mnormt_1.5-5      digest_0.6.18     stringi_1.2.4    \n",
       "[33] dplyr_0.7.8       numDeriv_2016.8-1 survey_3.35       grid_3.4.0       \n",
       "[37] tools_3.4.0       magrittr_1.5      lazyeval_0.2.1    tibble_2.0.1     \n",
       "[41] crayon_1.3.4      pkgconfig_2.0.2   assertthat_0.2.0  minqa_1.2.4      \n",
       "[45] R6_2.3.0          nnet_7.3-12       nlme_3.1-137      compiler_3.4.0   "
      ]
     },
     "metadata": {},
     "output_type": "display_data"
    }
   ],
   "source": [
    "sessionInfo()"
   ]
  },
  {
   "cell_type": "code",
   "execution_count": 57,
   "metadata": {},
   "outputs": [
    {
     "data": {
      "text/html": [
       "<table>\n",
       "<thead><tr><th scope=col>X</th><th scope=col>path</th><th scope=col>pID</th><th scope=col>walk</th><th scope=col>trialNum</th><th scope=col>altered</th><th scope=col>correct_raw</th><th scope=col>onset_raw</th><th scope=col>resp_raw</th><th scope=col>rt_raw</th><th scope=col>order</th><th scope=col>Cond</th><th scope=col>pre</th><th scope=col>transition</th><th scope=col>grouping</th></tr></thead>\n",
       "<tbody>\n",
       "\t<tr><td>1                      </td><td>img/18_circ.png        </td><td>1                      </td><td>2                      </td><td>0                      </td><td>False                  </td><td>0                      </td><td>0.00288415             </td><td>NA                     </td><td>      NA               </td><td>0                      </td><td>NS                     </td><td>0                      </td><td>0                      </td><td>x                      </td></tr>\n",
       "\t<tr><td>2                      </td><td>img/4_circ.png         </td><td>1                      </td><td>1                      </td><td>1                      </td><td>False                  </td><td>0                      </td><td>1.51719999             </td><td> 4                     </td><td>977.3271               </td><td>1                      </td><td>NS                     </td><td>0                      </td><td>0                      </td><td>x                      </td></tr>\n",
       "\t<tr><td>3                      </td><td>img/13_circ.png        </td><td>1                      </td><td>0                      </td><td>2                      </td><td>False                  </td><td>1                      </td><td>3.01679420             </td><td> 1                     </td><td>478.4188               </td><td>2                      </td><td>NS                     </td><td>0                      </td><td>0                      </td><td>x                      </td></tr>\n",
       "\t<tr><td>4                      </td><td>img/18_circ_rotated.png</td><td>1                      </td><td>2                      </td><td>3                      </td><td>True                   </td><td>0                      </td><td>4.51468945             </td><td> 1                     </td><td>681.2568               </td><td>3                      </td><td>NS                     </td><td>0                      </td><td>0                      </td><td>x                      </td></tr>\n",
       "\t<tr><td>5                      </td><td>img/15_circ.png        </td><td>1                      </td><td>3                      </td><td>4                      </td><td>False                  </td><td>0                      </td><td>6.01897907             </td><td> 4                     </td><td>327.5101               </td><td>4                      </td><td>NS                     </td><td>0                      </td><td>0                      </td><td>x                      </td></tr>\n",
       "\t<tr><td>6                      </td><td>img/18_circ.png        </td><td>1                      </td><td>2                      </td><td>5                      </td><td>False                  </td><td>1                      </td><td>7.51567698             </td><td> 1                     </td><td>263.9382               </td><td>5                      </td><td>NS                     </td><td>0                      </td><td>0                      </td><td>x                      </td></tr>\n",
       "</tbody>\n",
       "</table>\n"
      ],
      "text/latex": [
       "\\begin{tabular}{r|lllllllllllllll}\n",
       " X & path & pID & walk & trialNum & altered & correct\\_raw & onset\\_raw & resp\\_raw & rt\\_raw & order & Cond & pre & transition & grouping\\\\\n",
       "\\hline\n",
       "\t 1                         & img/18\\_circ.png         & 1                         & 2                         & 0                         & False                     & 0                         & 0.00288415                & NA                        &       NA                  & 0                         & NS                        & 0                         & 0                         & x                        \\\\\n",
       "\t 2                         & img/4\\_circ.png          & 1                         & 1                         & 1                         & False                     & 0                         & 1.51719999                &  4                        & 977.3271                  & 1                         & NS                        & 0                         & 0                         & x                        \\\\\n",
       "\t 3                         & img/13\\_circ.png         & 1                         & 0                         & 2                         & False                     & 1                         & 3.01679420                &  1                        & 478.4188                  & 2                         & NS                        & 0                         & 0                         & x                        \\\\\n",
       "\t 4                           & img/18\\_circ\\_rotated.png & 1                           & 2                           & 3                           & True                        & 0                           & 4.51468945                  &  1                          & 681.2568                    & 3                           & NS                          & 0                           & 0                           & x                          \\\\\n",
       "\t 5                         & img/15\\_circ.png         & 1                         & 3                         & 4                         & False                     & 0                         & 6.01897907                &  4                        & 327.5101                  & 4                         & NS                        & 0                         & 0                         & x                        \\\\\n",
       "\t 6                         & img/18\\_circ.png         & 1                         & 2                         & 5                         & False                     & 1                         & 7.51567698                &  1                        & 263.9382                  & 5                         & NS                        & 0                         & 0                         & x                        \\\\\n",
       "\\end{tabular}\n"
      ],
      "text/markdown": [
       "\n",
       "| X | path | pID | walk | trialNum | altered | correct_raw | onset_raw | resp_raw | rt_raw | order | Cond | pre | transition | grouping |\n",
       "|---|---|---|---|---|---|---|---|---|---|---|---|---|---|---|\n",
       "| 1                       | img/18_circ.png         | 1                       | 2                       | 0                       | False                   | 0                       | 0.00288415              | NA                      |       NA                | 0                       | NS                      | 0                       | 0                       | x                       |\n",
       "| 2                       | img/4_circ.png          | 1                       | 1                       | 1                       | False                   | 0                       | 1.51719999              |  4                      | 977.3271                | 1                       | NS                      | 0                       | 0                       | x                       |\n",
       "| 3                       | img/13_circ.png         | 1                       | 0                       | 2                       | False                   | 1                       | 3.01679420              |  1                      | 478.4188                | 2                       | NS                      | 0                       | 0                       | x                       |\n",
       "| 4                       | img/18_circ_rotated.png | 1                       | 2                       | 3                       | True                    | 0                       | 4.51468945              |  1                      | 681.2568                | 3                       | NS                      | 0                       | 0                       | x                       |\n",
       "| 5                       | img/15_circ.png         | 1                       | 3                       | 4                       | False                   | 0                       | 6.01897907              |  4                      | 327.5101                | 4                       | NS                      | 0                       | 0                       | x                       |\n",
       "| 6                       | img/18_circ.png         | 1                       | 2                       | 5                       | False                   | 1                       | 7.51567698              |  1                      | 263.9382                | 5                       | NS                      | 0                       | 0                       | x                       |\n",
       "\n"
      ],
      "text/plain": [
       "  X path                    pID walk trialNum altered correct_raw onset_raw \n",
       "1 1 img/18_circ.png         1   2    0        False   0           0.00288415\n",
       "2 2 img/4_circ.png          1   1    1        False   0           1.51719999\n",
       "3 3 img/13_circ.png         1   0    2        False   1           3.01679420\n",
       "4 4 img/18_circ_rotated.png 1   2    3        True    0           4.51468945\n",
       "5 5 img/15_circ.png         1   3    4        False   0           6.01897907\n",
       "6 6 img/18_circ.png         1   2    5        False   1           7.51567698\n",
       "  resp_raw rt_raw   order Cond pre transition grouping\n",
       "1 NA             NA 0     NS   0   0          x       \n",
       "2  4       977.3271 1     NS   0   0          x       \n",
       "3  1       478.4188 2     NS   0   0          x       \n",
       "4  1       681.2568 3     NS   0   0          x       \n",
       "5  4       327.5101 4     NS   0   0          x       \n",
       "6  1       263.9382 5     NS   0   0          x       "
      ]
     },
     "metadata": {},
     "output_type": "display_data"
    }
   ],
   "source": [
    "## Load trial-level behavioral data\n",
    "tdf<-read.csv(paste(wd1,\"tompson_netlearn_fmri_trial_data.csv\",sep=\"\"))\n",
    "\n",
    "tdfNS<-tdf[tdf$Cond==\"NS\",]\n",
    "tdfSoc<-tdf[tdf$Cond==\"Soc\",]\n",
    "head(tdf) "
   ]
  },
  {
   "cell_type": "markdown",
   "metadata": {},
   "source": [
    "## Step 2: Exclude bad subjects and trials"
   ]
  },
  {
   "cell_type": "code",
   "execution_count": 58,
   "metadata": {},
   "outputs": [
    {
     "name": "stdout",
     "output_type": "stream",
     "text": [
      "[1] \"\"\n",
      "[1] \"Combined Accuracy\"\n",
      "     1      2      4      5      8      9     11     12     13     15     16 \n",
      "0.7540 0.9230 0.8975 0.9010 0.9005 0.9085 0.8535 0.8845 0.3640 0.6020 0.9025 \n",
      "    18     19     20     21     23     24     25     26     27     28     29 \n",
      "0.8705 0.8610 0.4290 0.9580 0.7220 0.8960 0.9280 0.7190 0.8875 0.2390 0.9295 \n",
      "    30     31     32     33     34     35     36     37     39 \n",
      "0.8950 0.8590 0.7935 0.9025 0.7565 0.8320 0.8385 0.6340 0.9120 \n",
      "[1] \"\"\n",
      "[1] \"Non-Social Accuracy\"\n",
      "    1     2     4     5     8     9    11    12    13    15    16    18    19 \n",
      "0.753 0.916 0.887 0.926 0.913 0.873 0.886 0.884 0.728 0.645 0.892 0.861 0.881 \n",
      "   20    21    23    24    25    26    27    28    29    30    31    32    33 \n",
      "0.345 0.958 0.748 0.892 0.925 0.760 0.869 0.286 0.939 0.896 0.874 0.823 0.923 \n",
      "   34    35    36    37    39 \n",
      "0.636 0.818 0.801 0.636 0.910 \n",
      "[1] \"\"\n",
      "[1] \"Social Accuracy\"\n",
      "    1     2     4     5     8     9    11    12    15    16    18    19    20 \n",
      "0.755 0.930 0.908 0.876 0.888 0.944 0.821 0.885 0.559 0.913 0.880 0.841 0.513 \n",
      "   21    23    24    25    26    27    28    29    30    31    32    33    34 \n",
      "0.958 0.696 0.900 0.931 0.678 0.906 0.192 0.920 0.894 0.844 0.764 0.882 0.877 \n",
      "   35    36    37    39 \n",
      "0.846 0.876 0.632 0.914 \n"
     ]
    }
   ],
   "source": [
    "#################################################\n",
    "### check summary data for each subject to determine who to exclude\n",
    "#################################################\n",
    "\n",
    "print('')\n",
    "print('Combined Accuracy')\n",
    "print(tapply(tdf$correct,tdf$pID,function(i){sum(i,na.rm=T)/2000})) #percent correct trials\n",
    "\n",
    "print('')\n",
    "print('Non-Social Accuracy')\n",
    "print(tapply(tdfNS$correct,tdfNS$pID,function(i){sum(i,na.rm=T)/1000})) #percent correct trials\n",
    "\n",
    "print('')\n",
    "print('Social Accuracy')\n",
    "print(tapply(tdfSoc$correct,tdfSoc$pID,function(i){sum(i,na.rm=T)/1000})) #percent correct trials"
   ]
  },
  {
   "cell_type": "code",
   "execution_count": 59,
   "metadata": {},
   "outputs": [],
   "source": [
    "#################################################\n",
    "### Exclude subjects with fewer than 70% correct responses\n",
    "\n",
    "#NOTE: 18 subjects had greater than 70% correct\n",
    "#NOTE: 2 subjects missed greater than 50% of trials (20=43%, 28=24%)\n",
    "#NOTE: 2 subjects missed greater than 30% of trials (15=60%, 37=64%) but will keep them in for now\n",
    "#NOTE: 1 subject had to abort because they were feeling claustrophobic (13)\n",
    "#NOTE: 1 subject had to be excluded due to brain artifact (4=missing back part of parietal cortex)\n",
    "#################################################\n",
    "\n",
    "tdf<-subset(tdf,pID!= 1)\n",
    "tdf<-subset(tdf,pID!= 4)\n",
    "tdf<-subset(tdf,pID!= 13)\n",
    "#tdf<-subset(tdf,pID!= 15)\n",
    "tdf<-subset(tdf,pID!= 20)\n",
    "tdf<-subset(tdf,pID!= 28)\n",
    "#tdf<-subset(tdf,pID!= 37)"
   ]
  },
  {
   "cell_type": "code",
   "execution_count": 60,
   "metadata": {},
   "outputs": [
    {
     "name": "stdout",
     "output_type": "stream",
     "text": [
      "[1] \"# of transition trials\"\n",
      "  2   5   8   9  11  12  15  16  18  19  21  23  24  25  26  27  29  30  31  32 \n",
      " 97  99 108 103  97  99  65  91  89  83 104  97  94  99  99  98  97 107  86  82 \n",
      " 33  34  35  36  37  39 \n",
      " 85  93  90  89  67  95 \n",
      "[1] \"\"\n",
      "[1] \"Total # of subjects: 26\"\n"
     ]
    }
   ],
   "source": [
    "#################################################\n",
    "### Exclude bad trials and trials we won't use in analyses\n",
    "#################################################\n",
    "\n",
    "#remove incorrect trials\n",
    "tdf2<-subset(tdf,tdf$correct_raw==1)\n",
    "\n",
    "#remove altered trials\n",
    "tdf2<-subset(tdf2,tdf2$altered==\"False\")\n",
    "\n",
    "\n",
    "#Get rid of impossible reaction times (i.e., less than 100, >1500)\n",
    "tdf2 <- subset(tdf2, rt_raw < 1500)\n",
    "tdf2 <- subset(tdf2, rt_raw > 100)\n",
    "\n",
    "##remove Rts > 3 Sd from the mean\n",
    "tdf2 = ddply(tdf2, .(pID), transform, sRT = scale(rt_raw))\n",
    "tdf2= subset(tdf2, abs(sRT) < 3)\n",
    "\n",
    "#check # of transition trials left after cleaning\n",
    "print('# of transition trials')\n",
    "print(tapply(tdf2$grouping,tdf2$pID,function(i){sum(i==\"transition\",na.rm=T)})) #number of transition trials\n",
    "\n",
    "#convert trial grouping variable to a factor\n",
    "tdf2$grouping <- factor(tdf2$grouping, levels = c(\"x\", \"transition\"))\n",
    "\n",
    "\n",
    "rm(tdf,tdfNS,tdfSoc)\n",
    "\n",
    "print('')\n",
    "print(paste('Total # of subjects:',length(unique(tdf2$pID))))"
   ]
  },
  {
   "cell_type": "markdown",
   "metadata": {},
   "source": [
    "## Step 3: Load and merge neural data"
   ]
  },
  {
   "cell_type": "code",
   "execution_count": 92,
   "metadata": {},
   "outputs": [],
   "source": [
    "#################################################\n",
    "### Load data\n",
    "#################################################\n",
    "\n",
    "#Load IDs to link behavioral and neural data\n",
    "subjIDs<-read.csv(paste(wd1,\"netLearn_IDs_26subjs.csv\",sep=\"/\"))\n",
    "\n",
    "#Load head motion data file\n",
    "hmData<-read.csv(paste(wd1,\"netLearn_headMotion_26subjs.csv\",sep=\"/\"))\n",
    "\n",
    "#Define function for creating df\n",
    "create_df<-function(df_folder,dname1,dname2,df1,df2,add_cov=FALSE){\n",
    "  filepath<-paste(df_folder,\"netLearn_\",dname1,\n",
    "                  \"_26subjs_\",dname2,\".csv\",sep=\"\")\n",
    "  new.df<-read.csv(filepath,header=T,as.is=T)\n",
    "  new.df<-cbind(df1,new.df)\n",
    "  if(add_cov==TRUE){\n",
    "      new.df<-merge(new.df,df2,by=\"pID\")\n",
    "  }\n",
    "    \n",
    "  new.df$task<-gsub(\"Data\",\"\",unlist(strsplit(dname1,\"_\"))[1])\n",
    "  return(new.df)\n",
    "}\n",
    "\n",
    "# Load neural data and merge with behavioral/head motion data\n",
    "nsData_gc<-create_df(wd2,\"NSData_zscores\",\"sighubs_global_conn\",subjIDs,hmData,add_cov=TRUE)\n",
    "socData_gc<-create_df(wd2,\"SocData_zscores\",\"sighubs_global_conn\",subjIDs,hmData,add_cov=TRUE)\n",
    "\n",
    "nsData_ss<-create_df(wd2,\"NSData_zscores\",\"sighubs_to_sighubs\",subjIDs,hmData)\n",
    "socData_ss<-create_df(wd2,\"SocData_zscores\",\"sighubs_to_sighubs\",subjIDs,hmData)\n",
    "\n",
    "nsData_glm<-create_df(wd3,\"NSData_glm_transition\",\"sighubs_activation\",subjIDs,hmData)\n",
    "socData_glm<-create_df(wd3,\"SocData_glm_transition\",\"sighubs_activation\",subjIDs,hmData)\n",
    "\n",
    "\n",
    "#################################################\n",
    "# Combine neural dataframes\n",
    "#################################################\n",
    "\n",
    "longData_gc<-rbind(socData_gc,nsData_gc)\n",
    "longData_ss<-rbind(socData_ss,nsData_ss)\n",
    "\n",
    "\n",
    "longData<-merge(longData_gc,longData_ss,by = c(\"pID\",\"task\",\"CondNum\",\"rowID\",\"scanID\"))\n",
    "longData<-merge(longData,longData_glm,by = c(\"pID\",\"task\",\"CondNum\",\"rowID\",\"scanID\"))"
   ]
  },
  {
   "cell_type": "code",
   "execution_count": 99,
   "metadata": {},
   "outputs": [],
   "source": [
    "hublist1<-c(\"combhubs_global\", \"Hippocampus_L_global\",\"Hippocampus_R_global\",\n",
    "            \"diffhubs_global\",\"TPJ_L_global\",\"TPJ_R_global\",\n",
    "            \"diffhubs_ns_global\",\"dmPFC_L_global\",\"dmPFC_R_global\",\"lPFC_L_global\",\"lPFC_R_global\")\n",
    "hublist2<-c(\"ws_combhubs\",\"ws_nshubs\",\"ws_sochubs\")\n",
    "glmlist1<-c(\"combhubs_glm\", \"Hippocampus_L_glm\",\"Hippocampus_R_glm\",\n",
    "            \"diffhubs_glm\",\"TPJ_L_glm\",\"TPJ_R_glm\",\n",
    "            \"diffhubs_ns_glm\",\"dmPFC_L_glm\",\"dmPFC_R_glm\",\"lPFC_L_glm\",\"lPFC_R_glm\")\n",
    "glmlist2<-c(\"combhubs_glm\", \"diffhubs_ns_glm\",\"diffhubs_glm\")"
   ]
  },
  {
   "cell_type": "code",
   "execution_count": 107,
   "metadata": {},
   "outputs": [
    {
     "name": "stdout",
     "output_type": "stream",
     "text": [
      "[1] \"combhubs_global corr with combhubs_glm\"\n",
      "[1] \"r = 0.09 p = 0.525\"\n",
      "[1] \"\"\n",
      "[1] \"Hippocampus_L_global corr with Hippocampus_L_glm\"\n",
      "[1] \"r = 0.057 p = 0.686\"\n",
      "[1] \"\"\n",
      "[1] \"Hippocampus_R_global corr with Hippocampus_R_glm\"\n",
      "[1] \"r = -0.02 p = 0.889\"\n",
      "[1] \"\"\n",
      "[1] \"diffhubs_global corr with diffhubs_glm\"\n",
      "[1] \"r = 0.107 p = 0.452\"\n",
      "[1] \"\"\n",
      "[1] \"TPJ_L_global corr with TPJ_L_glm\"\n",
      "[1] \"r = 0.129 p = 0.361\"\n",
      "[1] \"\"\n",
      "[1] \"TPJ_R_global corr with TPJ_R_glm\"\n",
      "[1] \"r = 0.064 p = 0.652\"\n",
      "[1] \"\"\n",
      "[1] \"diffhubs_ns_global corr with diffhubs_ns_glm\"\n",
      "[1] \"r = -0.002 p = 0.989\"\n",
      "[1] \"\"\n",
      "[1] \"dmPFC_L_global corr with dmPFC_L_glm\"\n",
      "[1] \"r = -0.054 p = 0.702\"\n",
      "[1] \"\"\n",
      "[1] \"dmPFC_R_global corr with dmPFC_R_glm\"\n",
      "[1] \"r = 0.069 p = 0.627\"\n",
      "[1] \"\"\n",
      "[1] \"lPFC_L_global corr with lPFC_L_glm\"\n",
      "[1] \"r = -0.018 p = 0.902\"\n",
      "[1] \"\"\n",
      "[1] \"lPFC_R_global corr with lPFC_R_glm\"\n",
      "[1] \"r = 0.065 p = 0.646\"\n",
      "[1] \"\"\n"
     ]
    }
   ],
   "source": [
    "for(i in 1:length(hublist1)){\n",
    "    name1<-hublist1[i]\n",
    "    name2<-glmlist1[i]\n",
    "    test<-cor.test(longData[,name1],longData[,name2])\n",
    "    print(paste(name1,'corr with',name2))\n",
    "    print(paste('r =',round(test$estimate,3),'p =',round(test$p.value,3)))\n",
    "    print('')\n",
    "}"
   ]
  },
  {
   "cell_type": "markdown",
   "metadata": {},
   "source": [
    "# Test correlations between connectivity measures and brain activity"
   ]
  },
  {
   "cell_type": "code",
   "execution_count": 108,
   "metadata": {},
   "outputs": [
    {
     "name": "stdout",
     "output_type": "stream",
     "text": [
      "[1] \"ws_combhubs corr with combhubs_glm\"\n",
      "[1] \"r = 0.126 p = 0.375\"\n",
      "[1] \"\"\n",
      "[1] \"ws_nshubs corr with diffhubs_ns_glm\"\n",
      "[1] \"r = -0.231 p = 0.099\"\n",
      "[1] \"\"\n",
      "[1] \"ws_sochubs corr with diffhubs_glm\"\n",
      "[1] \"r = 0.119 p = 0.399\"\n",
      "[1] \"\"\n"
     ]
    }
   ],
   "source": [
    "for(i in 1:length(hublist2)){\n",
    "    name1<-hublist2[i]\n",
    "    name2<-glmlist2[i]\n",
    "    test<-cor.test(longData[,name1],longData[,name2])\n",
    "    print(paste(name1,'corr with',name2))\n",
    "    print(paste('r =',round(test$estimate,3),'p =',round(test$p.value,3)))\n",
    "    print('')\n",
    "}"
   ]
  },
  {
   "cell_type": "code",
   "execution_count": 123,
   "metadata": {},
   "outputs": [
    {
     "name": "stderr",
     "output_type": "stream",
     "text": [
      "Warning message in merge.data.frame(tdf2, longData, by.x = c(\"pID\", \"Cond\"), by.y = c(\"pID\", :\n",
      "“column names ‘X.x’, ‘X.y’ are duplicated in the result”"
     ]
    },
    {
     "data": {
      "text/html": [
       "<table>\n",
       "<thead><tr><th scope=col>pID</th><th scope=col>Cond</th><th scope=col>X.x</th><th scope=col>path</th><th scope=col>walk</th><th scope=col>trialNum</th><th scope=col>altered</th><th scope=col>correct_raw</th><th scope=col>onset_raw</th><th scope=col>resp_raw</th><th scope=col>⋯</th><th scope=col>Hippocampus_L_glm</th><th scope=col>Hippocampus_R_glm</th><th scope=col>diffhubs_glm</th><th scope=col>TPJ_L_glm</th><th scope=col>TPJ_R_glm</th><th scope=col>diffhubs_ns_glm</th><th scope=col>dmPFC_L_glm</th><th scope=col>dmPFC_R_glm</th><th scope=col>lPFC_L_glm</th><th scope=col>lPFC_R_glm</th></tr></thead>\n",
       "<tbody>\n",
       "\t<tr><td>11             </td><td>NS             </td><td>2002           </td><td>img/5_circ.png </td><td>9              </td><td>1              </td><td>False          </td><td>1              </td><td> 1.513404      </td><td>1              </td><td>⋯              </td><td>0.3777449      </td><td>0.09631367     </td><td>1.111413       </td><td>0.2089689      </td><td>1.562636       </td><td>0.6278472      </td><td>-0.130339      </td><td>0.7294553      </td><td>-0.5032621     </td><td>1.340994       </td></tr>\n",
       "\t<tr><td>11             </td><td>NS             </td><td>2003           </td><td>img/1_circ.png </td><td>8              </td><td>2              </td><td>False          </td><td>1              </td><td> 3.016448      </td><td>1              </td><td>⋯              </td><td>0.3777449      </td><td>0.09631367     </td><td>1.111413       </td><td>0.2089689      </td><td>1.562636       </td><td>0.6278472      </td><td>-0.130339      </td><td>0.7294553      </td><td>-0.5032621     </td><td>1.340994       </td></tr>\n",
       "\t<tr><td>11             </td><td>NS             </td><td>2005           </td><td>img/1_circ.png </td><td>8              </td><td>4              </td><td>False          </td><td>1              </td><td> 6.018421      </td><td>1              </td><td>⋯              </td><td>0.3777449      </td><td>0.09631367     </td><td>1.111413       </td><td>0.2089689      </td><td>1.562636       </td><td>0.6278472      </td><td>-0.130339      </td><td>0.7294553      </td><td>-0.5032621     </td><td>1.340994       </td></tr>\n",
       "\t<tr><td>11             </td><td>NS             </td><td>2007           </td><td>img/3_circ.png </td><td>4              </td><td>6              </td><td>False          </td><td>1              </td><td> 9.018356      </td><td>1              </td><td>⋯              </td><td>0.3777449      </td><td>0.09631367     </td><td>1.111413       </td><td>0.2089689      </td><td>1.562636       </td><td>0.6278472      </td><td>-0.130339      </td><td>0.7294553      </td><td>-0.5032621     </td><td>1.340994       </td></tr>\n",
       "\t<tr><td>11             </td><td>NS             </td><td>2009           </td><td>img/17_circ.png</td><td>1              </td><td>8              </td><td>False          </td><td>1              </td><td>12.018660      </td><td>1              </td><td>⋯              </td><td>0.3777449      </td><td>0.09631367     </td><td>1.111413       </td><td>0.2089689      </td><td>1.562636       </td><td>0.6278472      </td><td>-0.130339      </td><td>0.7294553      </td><td>-0.5032621     </td><td>1.340994       </td></tr>\n",
       "\t<tr><td>11             </td><td>NS             </td><td>2010           </td><td>img/18_circ.png</td><td>3              </td><td>9              </td><td>False          </td><td>1              </td><td>13.518142      </td><td>1              </td><td>⋯              </td><td>0.3777449      </td><td>0.09631367     </td><td>1.111413       </td><td>0.2089689      </td><td>1.562636       </td><td>0.6278472      </td><td>-0.130339      </td><td>0.7294553      </td><td>-0.5032621     </td><td>1.340994       </td></tr>\n",
       "</tbody>\n",
       "</table>\n"
      ],
      "text/latex": [
       "\\begin{tabular}{r|lllllllllllllllllllllllllllllllllllllllllllllllllllllllllllllllllllll}\n",
       " pID & Cond & X.x & path & walk & trialNum & altered & correct\\_raw & onset\\_raw & resp\\_raw & ⋯ & Hippocampus\\_L\\_glm & Hippocampus\\_R\\_glm & diffhubs\\_glm & TPJ\\_L\\_glm & TPJ\\_R\\_glm & diffhubs\\_ns\\_glm & dmPFC\\_L\\_glm & dmPFC\\_R\\_glm & lPFC\\_L\\_glm & lPFC\\_R\\_glm\\\\\n",
       "\\hline\n",
       "\t 11                & NS                & 2002              & img/5\\_circ.png  & 9                 & 1                 & False             & 1                 &  1.513404         & 1                 & ⋯                 & 0.3777449         & 0.09631367        & 1.111413          & 0.2089689         & 1.562636          & 0.6278472         & -0.130339         & 0.7294553         & -0.5032621        & 1.340994         \\\\\n",
       "\t 11                & NS                & 2003              & img/1\\_circ.png  & 8                 & 2                 & False             & 1                 &  3.016448         & 1                 & ⋯                 & 0.3777449         & 0.09631367        & 1.111413          & 0.2089689         & 1.562636          & 0.6278472         & -0.130339         & 0.7294553         & -0.5032621        & 1.340994         \\\\\n",
       "\t 11                & NS                & 2005              & img/1\\_circ.png  & 8                 & 4                 & False             & 1                 &  6.018421         & 1                 & ⋯                 & 0.3777449         & 0.09631367        & 1.111413          & 0.2089689         & 1.562636          & 0.6278472         & -0.130339         & 0.7294553         & -0.5032621        & 1.340994         \\\\\n",
       "\t 11                & NS                & 2007              & img/3\\_circ.png  & 4                 & 6                 & False             & 1                 &  9.018356         & 1                 & ⋯                 & 0.3777449         & 0.09631367        & 1.111413          & 0.2089689         & 1.562636          & 0.6278472         & -0.130339         & 0.7294553         & -0.5032621        & 1.340994         \\\\\n",
       "\t 11                & NS                & 2009              & img/17\\_circ.png & 1                 & 8                 & False             & 1                 & 12.018660         & 1                 & ⋯                 & 0.3777449         & 0.09631367        & 1.111413          & 0.2089689         & 1.562636          & 0.6278472         & -0.130339         & 0.7294553         & -0.5032621        & 1.340994         \\\\\n",
       "\t 11                & NS                & 2010              & img/18\\_circ.png & 3                 & 9                 & False             & 1                 & 13.518142         & 1                 & ⋯                 & 0.3777449         & 0.09631367        & 1.111413          & 0.2089689         & 1.562636          & 0.6278472         & -0.130339         & 0.7294553         & -0.5032621        & 1.340994         \\\\\n",
       "\\end{tabular}\n"
      ],
      "text/markdown": [
       "\n",
       "| pID | Cond | X.x | path | walk | trialNum | altered | correct_raw | onset_raw | resp_raw | ⋯ | Hippocampus_L_glm | Hippocampus_R_glm | diffhubs_glm | TPJ_L_glm | TPJ_R_glm | diffhubs_ns_glm | dmPFC_L_glm | dmPFC_R_glm | lPFC_L_glm | lPFC_R_glm |\n",
       "|---|---|---|---|---|---|---|---|---|---|---|---|---|---|---|---|---|---|---|---|---|\n",
       "| 11              | NS              | 2002            | img/5_circ.png  | 9               | 1               | False           | 1               |  1.513404       | 1               | ⋯               | 0.3777449       | 0.09631367      | 1.111413        | 0.2089689       | 1.562636        | 0.6278472       | -0.130339       | 0.7294553       | -0.5032621      | 1.340994        |\n",
       "| 11              | NS              | 2003            | img/1_circ.png  | 8               | 2               | False           | 1               |  3.016448       | 1               | ⋯               | 0.3777449       | 0.09631367      | 1.111413        | 0.2089689       | 1.562636        | 0.6278472       | -0.130339       | 0.7294553       | -0.5032621      | 1.340994        |\n",
       "| 11              | NS              | 2005            | img/1_circ.png  | 8               | 4               | False           | 1               |  6.018421       | 1               | ⋯               | 0.3777449       | 0.09631367      | 1.111413        | 0.2089689       | 1.562636        | 0.6278472       | -0.130339       | 0.7294553       | -0.5032621      | 1.340994        |\n",
       "| 11              | NS              | 2007            | img/3_circ.png  | 4               | 6               | False           | 1               |  9.018356       | 1               | ⋯               | 0.3777449       | 0.09631367      | 1.111413        | 0.2089689       | 1.562636        | 0.6278472       | -0.130339       | 0.7294553       | -0.5032621      | 1.340994        |\n",
       "| 11              | NS              | 2009            | img/17_circ.png | 1               | 8               | False           | 1               | 12.018660       | 1               | ⋯               | 0.3777449       | 0.09631367      | 1.111413        | 0.2089689       | 1.562636        | 0.6278472       | -0.130339       | 0.7294553       | -0.5032621      | 1.340994        |\n",
       "| 11              | NS              | 2010            | img/18_circ.png | 3               | 9               | False           | 1               | 13.518142       | 1               | ⋯               | 0.3777449       | 0.09631367      | 1.111413        | 0.2089689       | 1.562636        | 0.6278472       | -0.130339       | 0.7294553       | -0.5032621      | 1.340994        |\n",
       "\n"
      ],
      "text/plain": [
       "  pID Cond X.x  path            walk trialNum altered correct_raw onset_raw\n",
       "1 11  NS   2002 img/5_circ.png  9    1        False   1            1.513404\n",
       "2 11  NS   2003 img/1_circ.png  8    2        False   1            3.016448\n",
       "3 11  NS   2005 img/1_circ.png  8    4        False   1            6.018421\n",
       "4 11  NS   2007 img/3_circ.png  4    6        False   1            9.018356\n",
       "5 11  NS   2009 img/17_circ.png 1    8        False   1           12.018660\n",
       "6 11  NS   2010 img/18_circ.png 3    9        False   1           13.518142\n",
       "  resp_raw ⋯ Hippocampus_L_glm Hippocampus_R_glm diffhubs_glm TPJ_L_glm\n",
       "1 1        ⋯ 0.3777449         0.09631367        1.111413     0.2089689\n",
       "2 1        ⋯ 0.3777449         0.09631367        1.111413     0.2089689\n",
       "3 1        ⋯ 0.3777449         0.09631367        1.111413     0.2089689\n",
       "4 1        ⋯ 0.3777449         0.09631367        1.111413     0.2089689\n",
       "5 1        ⋯ 0.3777449         0.09631367        1.111413     0.2089689\n",
       "6 1        ⋯ 0.3777449         0.09631367        1.111413     0.2089689\n",
       "  TPJ_R_glm diffhubs_ns_glm dmPFC_L_glm dmPFC_R_glm lPFC_L_glm lPFC_R_glm\n",
       "1 1.562636  0.6278472       -0.130339   0.7294553   -0.5032621 1.340994  \n",
       "2 1.562636  0.6278472       -0.130339   0.7294553   -0.5032621 1.340994  \n",
       "3 1.562636  0.6278472       -0.130339   0.7294553   -0.5032621 1.340994  \n",
       "4 1.562636  0.6278472       -0.130339   0.7294553   -0.5032621 1.340994  \n",
       "5 1.562636  0.6278472       -0.130339   0.7294553   -0.5032621 1.340994  \n",
       "6 1.562636  0.6278472       -0.130339   0.7294553   -0.5032621 1.340994  "
      ]
     },
     "metadata": {},
     "output_type": "display_data"
    }
   ],
   "source": [
    "#################################################\n",
    "# Merge neural and trial-level data\n",
    "#################################################\n",
    "\n",
    "combData2<-merge(tdf2,longData,by.x = c(\"pID\",\"Cond\"),by.y=c(\"pID\",\"task\"))\n",
    "\n",
    "head(combData2)"
   ]
  },
  {
   "cell_type": "code",
   "execution_count": 124,
   "metadata": {},
   "outputs": [],
   "source": [
    "#################################################\n",
    "# Convert key variables to z-scores\n",
    "#################################################\n",
    "\n",
    "create_zscores<-function(varlist,df1){\n",
    "  newlist<-c()\n",
    "  for(var in varlist){\n",
    "    newvar<-paste(var,\"z\",sep=\"_\")\n",
    "    newlist<-c(newlist,newvar)\n",
    "    df1[,newvar]<-as.numeric(Make.Z(df1[,var]))\n",
    "  }\n",
    "  return(list(newlist,df1))\n",
    "}\n",
    "\n",
    "brain_var_list<-unique(c(hublist1,hublist2,glmlist1,glmlist2))\n",
    "zscores<-create_zscores(brain_var_list,combData2)\n",
    "zvars<-zscores[[1]]\n",
    "combData2<-zscores[[2]]"
   ]
  },
  {
   "cell_type": "markdown",
   "metadata": {},
   "source": [
    "## Step 4: Brain Connectivity Moderation Analyses"
   ]
  },
  {
   "cell_type": "code",
   "execution_count": 125,
   "metadata": {},
   "outputs": [],
   "source": [
    "sighubs1<-c(\"Hippocampus_L_global_z\",\"diffhubs_global_z\",\"TPJ_L_global_z\",\"dmPFC_L_global_z\")\n",
    "sighubs2<-c(\"ws_sochubs_z\")\n",
    "sighubs<-c(sighubs1,sighubs2)\n",
    "\n",
    "i<-match(\"diffhubs_global\",hublist1)"
   ]
  },
  {
   "cell_type": "code",
   "execution_count": 126,
   "metadata": {},
   "outputs": [],
   "source": [
    "#################################################\n",
    "### Clean trial df\n",
    "#################################################\n",
    "\n",
    "# Create function to clean df\n",
    "clean_trial_df<-function(df1){\n",
    "    # Add order info to trial-level df\n",
    "    df1$order<-NA\n",
    "    for(subj in unique(df1$pID)){\n",
    "        df1$order[df1$pID==subj]<-subjIDs$CondNum[subjIDs$pID==subj]\n",
    "    }\n",
    "\n",
    "    #z-score variables\n",
    "    df1$strial<-as.numeric(Make.Z(df1$trialNum))\n",
    "\n",
    "    #contrast coding\n",
    "    contrasts(df1$grouping) <- contr.helmert(2) \n",
    "    contrasts(df1$grouping)\n",
    "  \n",
    "    df1$Cond<-factor(df1$Cond)\n",
    "    contrasts(df1$Cond) <- contr.helmert(2) \n",
    "    contrasts(df1$Cond)\n",
    "  \n",
    "    df1$order<-factor(df1$order)\n",
    "    contrasts(df1$order) <- contr.helmert(2) \n",
    "    contrasts(df1$order)\n",
    "    \n",
    "    #log-transform variables\n",
    "    df1$rt_log<-log(df1$rt_raw)\n",
    "    df1$rt_log<-df1$rt_log-mean(df1$rt_log)\n",
    "    return(df1)\n",
    "}\n",
    "\n",
    "#################################################\n",
    "### Clean merged trial/neural data\n",
    "#################################################\n",
    "combData2<-clean_trial_df(combData2)\n",
    "\n",
    "\n",
    "nsData2<-combData2[combData2$Cond=='NS',]\n",
    "socData2<-combData2[combData2$Cond=='Soc',]"
   ]
  },
  {
   "cell_type": "code",
   "execution_count": 133,
   "metadata": {},
   "outputs": [
    {
     "data": {
      "text/html": [
       "<table>\n",
       "<thead><tr><th></th><th scope=col>Estimate</th><th scope=col>Std. Error</th><th scope=col>df</th><th scope=col>t value</th><th scope=col>Pr(&gt;|t|)</th></tr></thead>\n",
       "<tbody>\n",
       "\t<tr><th scope=row>(Intercept)</th><td> 0.020526368</td><td>0.028657079 </td><td>   23.99539 </td><td> 0.71627567 </td><td>0.4807347252</td></tr>\n",
       "\t<tr><th scope=row>grouping1</th><td> 0.014294772</td><td>0.003068755 </td><td>   23.21794 </td><td> 4.65816606 </td><td>0.0001067874</td></tr>\n",
       "\t<tr><th scope=row>Cond1</th><td>-0.001585695</td><td>0.007867043 </td><td>   27.00115 </td><td>-0.20156180 </td><td>0.8417701357</td></tr>\n",
       "\t<tr><th scope=row>order1</th><td>-0.013158241</td><td>0.028657079 </td><td>   23.99539 </td><td>-0.45916199 </td><td>0.6502503395</td></tr>\n",
       "\t<tr><th scope=row>strial</th><td>-0.019946422</td><td>0.005160087 </td><td>   31.84179 </td><td>-3.86552053 </td><td>0.0005132681</td></tr>\n",
       "\t<tr><th scope=row>grouping1:Cond1</th><td>-0.001369913</td><td>0.002204693 </td><td>30910.26038 </td><td>-0.62136220 </td><td>0.5343659220</td></tr>\n",
       "\t<tr><th scope=row>grouping1:order1</th><td> 0.007667564</td><td>0.003068755 </td><td>   23.21794 </td><td> 2.49859084 </td><td>0.0199794961</td></tr>\n",
       "\t<tr><th scope=row>Cond1:order1</th><td> 0.002908558</td><td>0.007867043 </td><td>   27.00115 </td><td> 0.36971424 </td><td>0.7144793888</td></tr>\n",
       "\t<tr><th scope=row>grouping1:strial</th><td> 0.004453051</td><td>0.002201904 </td><td>31622.97688 </td><td> 2.02236358 </td><td>0.0431472053</td></tr>\n",
       "\t<tr><th scope=row>Cond1:strial</th><td>-0.002061825</td><td>0.002203906 </td><td>30959.66667 </td><td>-0.93553228 </td><td>0.3495213548</td></tr>\n",
       "\t<tr><th scope=row>order1:strial</th><td>-0.010681224</td><td>0.005160087 </td><td>   31.84179 </td><td>-2.06996980 </td><td>0.0466481838</td></tr>\n",
       "\t<tr><th scope=row>grouping1:Cond1:order1</th><td>-0.002325638</td><td>0.002204693 </td><td>30910.26038 </td><td>-1.05485767 </td><td>0.2914986698</td></tr>\n",
       "\t<tr><th scope=row>grouping1:Cond1:strial</th><td> 0.000218821</td><td>0.002203238 </td><td>30941.54818 </td><td> 0.09931792 </td><td>0.9208864973</td></tr>\n",
       "\t<tr><th scope=row>grouping1:order1:strial</th><td>-0.005261006</td><td>0.002201904 </td><td>31622.97696 </td><td>-2.38929849 </td><td>0.0168864046</td></tr>\n",
       "\t<tr><th scope=row>Cond1:order1:strial</th><td>-0.006459774</td><td>0.002203906 </td><td>30959.66622 </td><td>-2.93105709 </td><td>0.0033805759</td></tr>\n",
       "\t<tr><th scope=row>grouping1:Cond1:order1:strial</th><td> 0.002183141</td><td>0.002203238 </td><td>30941.54796 </td><td> 0.99087845 </td><td>0.3217526839</td></tr>\n",
       "</tbody>\n",
       "</table>\n"
      ],
      "text/latex": [
       "\\begin{tabular}{r|lllll}\n",
       "  & Estimate & Std. Error & df & t value & Pr(>\\textbar{}t\\textbar{})\\\\\n",
       "\\hline\n",
       "\t(Intercept) &  0.020526368 & 0.028657079  &    23.99539  &  0.71627567  & 0.4807347252\\\\\n",
       "\tgrouping1 &  0.014294772 & 0.003068755  &    23.21794  &  4.65816606  & 0.0001067874\\\\\n",
       "\tCond1 & -0.001585695 & 0.007867043  &    27.00115  & -0.20156180  & 0.8417701357\\\\\n",
       "\torder1 & -0.013158241 & 0.028657079  &    23.99539  & -0.45916199  & 0.6502503395\\\\\n",
       "\tstrial & -0.019946422 & 0.005160087  &    31.84179  & -3.86552053  & 0.0005132681\\\\\n",
       "\tgrouping1:Cond1 & -0.001369913 & 0.002204693  & 30910.26038  & -0.62136220  & 0.5343659220\\\\\n",
       "\tgrouping1:order1 &  0.007667564 & 0.003068755  &    23.21794  &  2.49859084  & 0.0199794961\\\\\n",
       "\tCond1:order1 &  0.002908558 & 0.007867043  &    27.00115  &  0.36971424  & 0.7144793888\\\\\n",
       "\tgrouping1:strial &  0.004453051 & 0.002201904  & 31622.97688  &  2.02236358  & 0.0431472053\\\\\n",
       "\tCond1:strial & -0.002061825 & 0.002203906  & 30959.66667  & -0.93553228  & 0.3495213548\\\\\n",
       "\torder1:strial & -0.010681224 & 0.005160087  &    31.84179  & -2.06996980  & 0.0466481838\\\\\n",
       "\tgrouping1:Cond1:order1 & -0.002325638 & 0.002204693  & 30910.26038  & -1.05485767  & 0.2914986698\\\\\n",
       "\tgrouping1:Cond1:strial &  0.000218821 & 0.002203238  & 30941.54818  &  0.09931792  & 0.9208864973\\\\\n",
       "\tgrouping1:order1:strial & -0.005261006 & 0.002201904  & 31622.97696  & -2.38929849  & 0.0168864046\\\\\n",
       "\tCond1:order1:strial & -0.006459774 & 0.002203906  & 30959.66622  & -2.93105709  & 0.0033805759\\\\\n",
       "\tgrouping1:Cond1:order1:strial &  0.002183141 & 0.002203238  & 30941.54796  &  0.99087845  & 0.3217526839\\\\\n",
       "\\end{tabular}\n"
      ],
      "text/markdown": [
       "\n",
       "| <!--/--> | Estimate | Std. Error | df | t value | Pr(>|t|) |\n",
       "|---|---|---|---|---|---|\n",
       "| (Intercept) |  0.020526368 | 0.028657079  |    23.99539  |  0.71627567  | 0.4807347252 |\n",
       "| grouping1 |  0.014294772 | 0.003068755  |    23.21794  |  4.65816606  | 0.0001067874 |\n",
       "| Cond1 | -0.001585695 | 0.007867043  |    27.00115  | -0.20156180  | 0.8417701357 |\n",
       "| order1 | -0.013158241 | 0.028657079  |    23.99539  | -0.45916199  | 0.6502503395 |\n",
       "| strial | -0.019946422 | 0.005160087  |    31.84179  | -3.86552053  | 0.0005132681 |\n",
       "| grouping1:Cond1 | -0.001369913 | 0.002204693  | 30910.26038  | -0.62136220  | 0.5343659220 |\n",
       "| grouping1:order1 |  0.007667564 | 0.003068755  |    23.21794  |  2.49859084  | 0.0199794961 |\n",
       "| Cond1:order1 |  0.002908558 | 0.007867043  |    27.00115  |  0.36971424  | 0.7144793888 |\n",
       "| grouping1:strial |  0.004453051 | 0.002201904  | 31622.97688  |  2.02236358  | 0.0431472053 |\n",
       "| Cond1:strial | -0.002061825 | 0.002203906  | 30959.66667  | -0.93553228  | 0.3495213548 |\n",
       "| order1:strial | -0.010681224 | 0.005160087  |    31.84179  | -2.06996980  | 0.0466481838 |\n",
       "| grouping1:Cond1:order1 | -0.002325638 | 0.002204693  | 30910.26038  | -1.05485767  | 0.2914986698 |\n",
       "| grouping1:Cond1:strial |  0.000218821 | 0.002203238  | 30941.54818  |  0.09931792  | 0.9208864973 |\n",
       "| grouping1:order1:strial | -0.005261006 | 0.002201904  | 31622.97696  | -2.38929849  | 0.0168864046 |\n",
       "| Cond1:order1:strial | -0.006459774 | 0.002203906  | 30959.66622  | -2.93105709  | 0.0033805759 |\n",
       "| grouping1:Cond1:order1:strial |  0.002183141 | 0.002203238  | 30941.54796  |  0.99087845  | 0.3217526839 |\n",
       "\n"
      ],
      "text/plain": [
       "                              Estimate     Std. Error  df          t value    \n",
       "(Intercept)                    0.020526368 0.028657079    23.99539  0.71627567\n",
       "grouping1                      0.014294772 0.003068755    23.21794  4.65816606\n",
       "Cond1                         -0.001585695 0.007867043    27.00115 -0.20156180\n",
       "order1                        -0.013158241 0.028657079    23.99539 -0.45916199\n",
       "strial                        -0.019946422 0.005160087    31.84179 -3.86552053\n",
       "grouping1:Cond1               -0.001369913 0.002204693 30910.26038 -0.62136220\n",
       "grouping1:order1               0.007667564 0.003068755    23.21794  2.49859084\n",
       "Cond1:order1                   0.002908558 0.007867043    27.00115  0.36971424\n",
       "grouping1:strial               0.004453051 0.002201904 31622.97688  2.02236358\n",
       "Cond1:strial                  -0.002061825 0.002203906 30959.66667 -0.93553228\n",
       "order1:strial                 -0.010681224 0.005160087    31.84179 -2.06996980\n",
       "grouping1:Cond1:order1        -0.002325638 0.002204693 30910.26038 -1.05485767\n",
       "grouping1:Cond1:strial         0.000218821 0.002203238 30941.54818  0.09931792\n",
       "grouping1:order1:strial       -0.005261006 0.002201904 31622.97696 -2.38929849\n",
       "Cond1:order1:strial           -0.006459774 0.002203906 30959.66622 -2.93105709\n",
       "grouping1:Cond1:order1:strial  0.002183141 0.002203238 30941.54796  0.99087845\n",
       "                              Pr(>|t|)    \n",
       "(Intercept)                   0.4807347252\n",
       "grouping1                     0.0001067874\n",
       "Cond1                         0.8417701357\n",
       "order1                        0.6502503395\n",
       "strial                        0.0005132681\n",
       "grouping1:Cond1               0.5343659220\n",
       "grouping1:order1              0.0199794961\n",
       "Cond1:order1                  0.7144793888\n",
       "grouping1:strial              0.0431472053\n",
       "Cond1:strial                  0.3495213548\n",
       "order1:strial                 0.0466481838\n",
       "grouping1:Cond1:order1        0.2914986698\n",
       "grouping1:Cond1:strial        0.9208864973\n",
       "grouping1:order1:strial       0.0168864046\n",
       "Cond1:order1:strial           0.0033805759\n",
       "grouping1:Cond1:order1:strial 0.3217526839"
      ]
     },
     "metadata": {},
     "output_type": "display_data"
    }
   ],
   "source": [
    "mm1<-lmer(rt_log~grouping*Cond*order*strial + (1+grouping+Cond+strial | pID),data=combData2)\n",
    "summary(mm1)$coefficients"
   ]
  },
  {
   "cell_type": "code",
   "execution_count": 154,
   "metadata": {},
   "outputs": [
    {
     "name": "stdout",
     "output_type": "stream",
     "text": [
      "[1] \"Original Results\"\n"
     ]
    },
    {
     "data": {
      "text/html": [
       "<table>\n",
       "<thead><tr><th></th><th scope=col>Estimate</th><th scope=col>Std. Error</th><th scope=col>df</th><th scope=col>t value</th><th scope=col>Pr(&gt;|t|)</th></tr></thead>\n",
       "<tbody>\n",
       "\t<tr><th scope=row>Hippocampus_L_global_z</th><td> 0.020328063</td><td>0.010461254 </td><td> 25.16780   </td><td> 1.9431765  </td><td>0.06325971  </td></tr>\n",
       "\t<tr><th scope=row>grouping1:Hippocampus_L_global_z</th><td> 0.001378950</td><td>0.002773085 </td><td>139.79446   </td><td> 0.4972622  </td><td>0.61978537  </td></tr>\n",
       "\t<tr><th scope=row>Cond1:Hippocampus_L_global_z</th><td>-0.002975316</td><td>0.009527138 </td><td> 24.60182   </td><td>-0.3122990  </td><td>0.75744495  </td></tr>\n",
       "\t<tr><th scope=row>grouping1:Cond1:Hippocampus_L_global_z</th><td> 0.006925894</td><td>0.002694042 </td><td>231.16062   </td><td> 2.5708189  </td><td>0.01077323  </td></tr>\n",
       "</tbody>\n",
       "</table>\n"
      ],
      "text/latex": [
       "\\begin{tabular}{r|lllll}\n",
       "  & Estimate & Std. Error & df & t value & Pr(>\\textbar{}t\\textbar{})\\\\\n",
       "\\hline\n",
       "\tHippocampus\\_L\\_global\\_z &  0.020328063 & 0.010461254  &  25.16780    &  1.9431765   & 0.06325971  \\\\\n",
       "\tgrouping1:Hippocampus\\_L\\_global\\_z &  0.001378950 & 0.002773085  & 139.79446    &  0.4972622   & 0.61978537  \\\\\n",
       "\tCond1:Hippocampus\\_L\\_global\\_z & -0.002975316 & 0.009527138  &  24.60182    & -0.3122990   & 0.75744495  \\\\\n",
       "\tgrouping1:Cond1:Hippocampus\\_L\\_global\\_z &  0.006925894 & 0.002694042  & 231.16062    &  2.5708189   & 0.01077323  \\\\\n",
       "\\end{tabular}\n"
      ],
      "text/markdown": [
       "\n",
       "| <!--/--> | Estimate | Std. Error | df | t value | Pr(>|t|) |\n",
       "|---|---|---|---|---|---|\n",
       "| Hippocampus_L_global_z |  0.020328063 | 0.010461254  |  25.16780    |  1.9431765   | 0.06325971   |\n",
       "| grouping1:Hippocampus_L_global_z |  0.001378950 | 0.002773085  | 139.79446    |  0.4972622   | 0.61978537   |\n",
       "| Cond1:Hippocampus_L_global_z | -0.002975316 | 0.009527138  |  24.60182    | -0.3122990   | 0.75744495   |\n",
       "| grouping1:Cond1:Hippocampus_L_global_z |  0.006925894 | 0.002694042  | 231.16062    |  2.5708189   | 0.01077323   |\n",
       "\n"
      ],
      "text/plain": [
       "                                       Estimate     Std. Error  df       \n",
       "Hippocampus_L_global_z                  0.020328063 0.010461254  25.16780\n",
       "grouping1:Hippocampus_L_global_z        0.001378950 0.002773085 139.79446\n",
       "Cond1:Hippocampus_L_global_z           -0.002975316 0.009527138  24.60182\n",
       "grouping1:Cond1:Hippocampus_L_global_z  0.006925894 0.002694042 231.16062\n",
       "                                       t value    Pr(>|t|)  \n",
       "Hippocampus_L_global_z                  1.9431765 0.06325971\n",
       "grouping1:Hippocampus_L_global_z        0.4972622 0.61978537\n",
       "Cond1:Hippocampus_L_global_z           -0.3122990 0.75744495\n",
       "grouping1:Cond1:Hippocampus_L_global_z  2.5708189 0.01077323"
      ]
     },
     "metadata": {},
     "output_type": "display_data"
    },
    {
     "name": "stdout",
     "output_type": "stream",
     "text": [
      "[1] \"Results with Brain Activity as Covariate\"\n"
     ]
    },
    {
     "data": {
      "text/html": [
       "<table>\n",
       "<thead><tr><th></th><th scope=col>Estimate</th><th scope=col>Std. Error</th><th scope=col>df</th><th scope=col>t value</th><th scope=col>Pr(&gt;|t|)</th></tr></thead>\n",
       "<tbody>\n",
       "\t<tr><th scope=row>Hippocampus_L_global_z</th><td> 0.020323213</td><td>0.010672176 </td><td> 24.08126   </td><td> 1.9043175  </td><td>0.06888281  </td></tr>\n",
       "\t<tr><th scope=row>grouping1:Hippocampus_L_global_z</th><td> 0.001410481</td><td>0.002774076 </td><td>139.98602   </td><td> 0.5084506  </td><td>0.61193775  </td></tr>\n",
       "\t<tr><th scope=row>Cond1:Hippocampus_L_global_z</th><td>-0.002491997</td><td>0.009843683 </td><td> 23.34980   </td><td>-0.2531570  </td><td>0.80236245  </td></tr>\n",
       "\t<tr><th scope=row>grouping1:Cond1:Hippocampus_L_global_z</th><td> 0.006877821</td><td>0.002694852 </td><td>231.57694   </td><td> 2.5522073  </td><td>0.01134786  </td></tr>\n",
       "</tbody>\n",
       "</table>\n"
      ],
      "text/latex": [
       "\\begin{tabular}{r|lllll}\n",
       "  & Estimate & Std. Error & df & t value & Pr(>\\textbar{}t\\textbar{})\\\\\n",
       "\\hline\n",
       "\tHippocampus\\_L\\_global\\_z &  0.020323213 & 0.010672176  &  24.08126    &  1.9043175   & 0.06888281  \\\\\n",
       "\tgrouping1:Hippocampus\\_L\\_global\\_z &  0.001410481 & 0.002774076  & 139.98602    &  0.5084506   & 0.61193775  \\\\\n",
       "\tCond1:Hippocampus\\_L\\_global\\_z & -0.002491997 & 0.009843683  &  23.34980    & -0.2531570   & 0.80236245  \\\\\n",
       "\tgrouping1:Cond1:Hippocampus\\_L\\_global\\_z &  0.006877821 & 0.002694852  & 231.57694    &  2.5522073   & 0.01134786  \\\\\n",
       "\\end{tabular}\n"
      ],
      "text/markdown": [
       "\n",
       "| <!--/--> | Estimate | Std. Error | df | t value | Pr(>|t|) |\n",
       "|---|---|---|---|---|---|\n",
       "| Hippocampus_L_global_z |  0.020323213 | 0.010672176  |  24.08126    |  1.9043175   | 0.06888281   |\n",
       "| grouping1:Hippocampus_L_global_z |  0.001410481 | 0.002774076  | 139.98602    |  0.5084506   | 0.61193775   |\n",
       "| Cond1:Hippocampus_L_global_z | -0.002491997 | 0.009843683  |  23.34980    | -0.2531570   | 0.80236245   |\n",
       "| grouping1:Cond1:Hippocampus_L_global_z |  0.006877821 | 0.002694852  | 231.57694    |  2.5522073   | 0.01134786   |\n",
       "\n"
      ],
      "text/plain": [
       "                                       Estimate     Std. Error  df       \n",
       "Hippocampus_L_global_z                  0.020323213 0.010672176  24.08126\n",
       "grouping1:Hippocampus_L_global_z        0.001410481 0.002774076 139.98602\n",
       "Cond1:Hippocampus_L_global_z           -0.002491997 0.009843683  23.34980\n",
       "grouping1:Cond1:Hippocampus_L_global_z  0.006877821 0.002694852 231.57694\n",
       "                                       t value    Pr(>|t|)  \n",
       "Hippocampus_L_global_z                  1.9043175 0.06888281\n",
       "grouping1:Hippocampus_L_global_z        0.5084506 0.61193775\n",
       "Cond1:Hippocampus_L_global_z           -0.2531570 0.80236245\n",
       "grouping1:Cond1:Hippocampus_L_global_z  2.5522073 0.01134786"
      ]
     },
     "metadata": {},
     "output_type": "display_data"
    },
    {
     "name": "stdout",
     "output_type": "stream",
     "text": [
      "[1] \"Results with Head Motion as Covariate\"\n"
     ]
    },
    {
     "data": {
      "text/html": [
       "<table>\n",
       "<thead><tr><th></th><th scope=col>Estimate</th><th scope=col>Std. Error</th><th scope=col>df</th><th scope=col>t value</th><th scope=col>Pr(&gt;|t|)</th></tr></thead>\n",
       "<tbody>\n",
       "\t<tr><th scope=row>Hippocampus_L_global_z</th><td> 0.019581223</td><td>0.010424558 </td><td> 25.14977   </td><td> 1.8783744  </td><td>0.07197066  </td></tr>\n",
       "\t<tr><th scope=row>grouping1:Hippocampus_L_global_z</th><td> 0.001470977</td><td>0.002771326 </td><td>139.34831   </td><td> 0.5307847  </td><td>0.59641294  </td></tr>\n",
       "\t<tr><th scope=row>Cond1:Hippocampus_L_global_z</th><td>-0.002050673</td><td>0.009489723 </td><td> 24.63646   </td><td>-0.2160941  </td><td>0.83069364  </td></tr>\n",
       "\t<tr><th scope=row>grouping1:Cond1:Hippocampus_L_global_z</th><td> 0.006892228</td><td>0.002692624 </td><td>230.14785   </td><td> 2.5596699  </td><td>0.01111777  </td></tr>\n",
       "</tbody>\n",
       "</table>\n"
      ],
      "text/latex": [
       "\\begin{tabular}{r|lllll}\n",
       "  & Estimate & Std. Error & df & t value & Pr(>\\textbar{}t\\textbar{})\\\\\n",
       "\\hline\n",
       "\tHippocampus\\_L\\_global\\_z &  0.019581223 & 0.010424558  &  25.14977    &  1.8783744   & 0.07197066  \\\\\n",
       "\tgrouping1:Hippocampus\\_L\\_global\\_z &  0.001470977 & 0.002771326  & 139.34831    &  0.5307847   & 0.59641294  \\\\\n",
       "\tCond1:Hippocampus\\_L\\_global\\_z & -0.002050673 & 0.009489723  &  24.63646    & -0.2160941   & 0.83069364  \\\\\n",
       "\tgrouping1:Cond1:Hippocampus\\_L\\_global\\_z &  0.006892228 & 0.002692624  & 230.14785    &  2.5596699   & 0.01111777  \\\\\n",
       "\\end{tabular}\n"
      ],
      "text/markdown": [
       "\n",
       "| <!--/--> | Estimate | Std. Error | df | t value | Pr(>|t|) |\n",
       "|---|---|---|---|---|---|\n",
       "| Hippocampus_L_global_z |  0.019581223 | 0.010424558  |  25.14977    |  1.8783744   | 0.07197066   |\n",
       "| grouping1:Hippocampus_L_global_z |  0.001470977 | 0.002771326  | 139.34831    |  0.5307847   | 0.59641294   |\n",
       "| Cond1:Hippocampus_L_global_z | -0.002050673 | 0.009489723  |  24.63646    | -0.2160941   | 0.83069364   |\n",
       "| grouping1:Cond1:Hippocampus_L_global_z |  0.006892228 | 0.002692624  | 230.14785    |  2.5596699   | 0.01111777   |\n",
       "\n"
      ],
      "text/plain": [
       "                                       Estimate     Std. Error  df       \n",
       "Hippocampus_L_global_z                  0.019581223 0.010424558  25.14977\n",
       "grouping1:Hippocampus_L_global_z        0.001470977 0.002771326 139.34831\n",
       "Cond1:Hippocampus_L_global_z           -0.002050673 0.009489723  24.63646\n",
       "grouping1:Cond1:Hippocampus_L_global_z  0.006892228 0.002692624 230.14785\n",
       "                                       t value    Pr(>|t|)  \n",
       "Hippocampus_L_global_z                  1.8783744 0.07197066\n",
       "grouping1:Hippocampus_L_global_z        0.5307847 0.59641294\n",
       "Cond1:Hippocampus_L_global_z           -0.2160941 0.83069364\n",
       "grouping1:Cond1:Hippocampus_L_global_z  2.5596699 0.01111777"
      ]
     },
     "metadata": {},
     "output_type": "display_data"
    }
   ],
   "source": [
    "mm_hipp<-lmer(rt_log~grouping*Cond*order*strial*Hippocampus_L_global_z + (1+grouping+Cond+strial | pID),data=combData2)\n",
    "mm_hipp_glm<-lmer(rt_log~grouping*Cond*order*strial*Hippocampus_L_global_z + diffhubs_glm + (1+grouping+Cond+strial | pID),data=combData2)\n",
    "mm_hipp_hm<-lmer(rt_log~grouping*Cond*order*strial*Hippocampus_L_global_z + mean_fd_all + (1+grouping+Cond+strial | pID),data=combData2)\n",
    "\n",
    "print('Original Results')\n",
    "summary(mm_hipp)$coefficients[c(6,13,14,21),]\n",
    "\n",
    "print('Results with Brain Activity as Covariate')\n",
    "summary(mm_hipp_glm)$coefficients[c(6,14,15,22),]\n",
    "\n",
    "print('Results with Head Motion as Covariate')\n",
    "summary(mm_hipp_hm)$coefficients[c(6,14,15,22),]"
   ]
  },
  {
   "cell_type": "code",
   "execution_count": 149,
   "metadata": {},
   "outputs": [
    {
     "name": "stdout",
     "output_type": "stream",
     "text": [
      "[1] \"Original Results\"\n"
     ]
    },
    {
     "data": {
      "text/html": [
       "<table>\n",
       "<thead><tr><th></th><th scope=col>Estimate</th><th scope=col>Std. Error</th><th scope=col>df</th><th scope=col>t value</th><th scope=col>Pr(&gt;|t|)</th></tr></thead>\n",
       "<tbody>\n",
       "\t<tr><th scope=row>diffhubs_global_z</th><td> 9.862521e-05</td><td>0.011059499  </td><td> 25.65461    </td><td> 0.008917692 </td><td>0.992953791  </td></tr>\n",
       "\t<tr><th scope=row>grouping1:diffhubs_global_z</th><td> 7.772852e-03</td><td>0.002847614  </td><td>190.89613    </td><td> 2.729601648 </td><td>0.006934173  </td></tr>\n",
       "\t<tr><th scope=row>Cond1:diffhubs_global_z</th><td>-2.946977e-03</td><td>0.010958235  </td><td> 25.59730    </td><td>-0.268928076 </td><td>0.790140792  </td></tr>\n",
       "\t<tr><th scope=row>grouping1:Cond1:diffhubs_global_z</th><td> 1.986273e-03</td><td>0.002850859  </td><td>188.56052    </td><td> 0.696728096 </td><td>0.486830995  </td></tr>\n",
       "</tbody>\n",
       "</table>\n"
      ],
      "text/latex": [
       "\\begin{tabular}{r|lllll}\n",
       "  & Estimate & Std. Error & df & t value & Pr(>\\textbar{}t\\textbar{})\\\\\n",
       "\\hline\n",
       "\tdiffhubs\\_global\\_z &  9.862521e-05 & 0.011059499   &  25.65461     &  0.008917692  & 0.992953791  \\\\\n",
       "\tgrouping1:diffhubs\\_global\\_z &  7.772852e-03 & 0.002847614   & 190.89613     &  2.729601648  & 0.006934173  \\\\\n",
       "\tCond1:diffhubs\\_global\\_z & -2.946977e-03 & 0.010958235   &  25.59730     & -0.268928076  & 0.790140792  \\\\\n",
       "\tgrouping1:Cond1:diffhubs\\_global\\_z &  1.986273e-03 & 0.002850859   & 188.56052     &  0.696728096  & 0.486830995  \\\\\n",
       "\\end{tabular}\n"
      ],
      "text/markdown": [
       "\n",
       "| <!--/--> | Estimate | Std. Error | df | t value | Pr(>|t|) |\n",
       "|---|---|---|---|---|---|\n",
       "| diffhubs_global_z |  9.862521e-05 | 0.011059499   |  25.65461     |  0.008917692  | 0.992953791   |\n",
       "| grouping1:diffhubs_global_z |  7.772852e-03 | 0.002847614   | 190.89613     |  2.729601648  | 0.006934173   |\n",
       "| Cond1:diffhubs_global_z | -2.946977e-03 | 0.010958235   |  25.59730     | -0.268928076  | 0.790140792   |\n",
       "| grouping1:Cond1:diffhubs_global_z |  1.986273e-03 | 0.002850859   | 188.56052     |  0.696728096  | 0.486830995   |\n",
       "\n"
      ],
      "text/plain": [
       "                                  Estimate      Std. Error  df       \n",
       "diffhubs_global_z                  9.862521e-05 0.011059499  25.65461\n",
       "grouping1:diffhubs_global_z        7.772852e-03 0.002847614 190.89613\n",
       "Cond1:diffhubs_global_z           -2.946977e-03 0.010958235  25.59730\n",
       "grouping1:Cond1:diffhubs_global_z  1.986273e-03 0.002850859 188.56052\n",
       "                                  t value      Pr(>|t|)   \n",
       "diffhubs_global_z                  0.008917692 0.992953791\n",
       "grouping1:diffhubs_global_z        2.729601648 0.006934173\n",
       "Cond1:diffhubs_global_z           -0.268928076 0.790140792\n",
       "grouping1:Cond1:diffhubs_global_z  0.696728096 0.486830995"
      ]
     },
     "metadata": {},
     "output_type": "display_data"
    },
    {
     "name": "stdout",
     "output_type": "stream",
     "text": [
      "[1] \"Results with Brain Activity as Covariate\"\n"
     ]
    },
    {
     "data": {
      "text/html": [
       "<table>\n",
       "<thead><tr><th></th><th scope=col>Estimate</th><th scope=col>Std. Error</th><th scope=col>df</th><th scope=col>t value</th><th scope=col>Pr(&gt;|t|)</th></tr></thead>\n",
       "<tbody>\n",
       "\t<tr><th scope=row>diffhubs_global_z</th><td> 0.001268572</td><td>0.010111758 </td><td> 25.62906   </td><td> 0.1254551  </td><td>0.901142198 </td></tr>\n",
       "\t<tr><th scope=row>grouping1:diffhubs_global_z</th><td> 0.007886257</td><td>0.002843703 </td><td>190.63327   </td><td> 2.7732350  </td><td>0.006101563 </td></tr>\n",
       "\t<tr><th scope=row>Cond1:diffhubs_global_z</th><td>-0.004055145</td><td>0.010086967 </td><td> 25.91908   </td><td>-0.4020182  </td><td>0.690966612 </td></tr>\n",
       "\t<tr><th scope=row>grouping1:Cond1:diffhubs_global_z</th><td> 0.001892466</td><td>0.002846869 </td><td>188.35878   </td><td> 0.6647534  </td><td>0.507021261 </td></tr>\n",
       "</tbody>\n",
       "</table>\n"
      ],
      "text/latex": [
       "\\begin{tabular}{r|lllll}\n",
       "  & Estimate & Std. Error & df & t value & Pr(>\\textbar{}t\\textbar{})\\\\\n",
       "\\hline\n",
       "\tdiffhubs\\_global\\_z &  0.001268572 & 0.010111758  &  25.62906    &  0.1254551   & 0.901142198 \\\\\n",
       "\tgrouping1:diffhubs\\_global\\_z &  0.007886257 & 0.002843703  & 190.63327    &  2.7732350   & 0.006101563 \\\\\n",
       "\tCond1:diffhubs\\_global\\_z & -0.004055145 & 0.010086967  &  25.91908    & -0.4020182   & 0.690966612 \\\\\n",
       "\tgrouping1:Cond1:diffhubs\\_global\\_z &  0.001892466 & 0.002846869  & 188.35878    &  0.6647534   & 0.507021261 \\\\\n",
       "\\end{tabular}\n"
      ],
      "text/markdown": [
       "\n",
       "| <!--/--> | Estimate | Std. Error | df | t value | Pr(>|t|) |\n",
       "|---|---|---|---|---|---|\n",
       "| diffhubs_global_z |  0.001268572 | 0.010111758  |  25.62906    |  0.1254551   | 0.901142198  |\n",
       "| grouping1:diffhubs_global_z |  0.007886257 | 0.002843703  | 190.63327    |  2.7732350   | 0.006101563  |\n",
       "| Cond1:diffhubs_global_z | -0.004055145 | 0.010086967  |  25.91908    | -0.4020182   | 0.690966612  |\n",
       "| grouping1:Cond1:diffhubs_global_z |  0.001892466 | 0.002846869  | 188.35878    |  0.6647534   | 0.507021261  |\n",
       "\n"
      ],
      "text/plain": [
       "                                  Estimate     Std. Error  df        t value   \n",
       "diffhubs_global_z                  0.001268572 0.010111758  25.62906  0.1254551\n",
       "grouping1:diffhubs_global_z        0.007886257 0.002843703 190.63327  2.7732350\n",
       "Cond1:diffhubs_global_z           -0.004055145 0.010086967  25.91908 -0.4020182\n",
       "grouping1:Cond1:diffhubs_global_z  0.001892466 0.002846869 188.35878  0.6647534\n",
       "                                  Pr(>|t|)   \n",
       "diffhubs_global_z                 0.901142198\n",
       "grouping1:diffhubs_global_z       0.006101563\n",
       "Cond1:diffhubs_global_z           0.690966612\n",
       "grouping1:Cond1:diffhubs_global_z 0.507021261"
      ]
     },
     "metadata": {},
     "output_type": "display_data"
    },
    {
     "name": "stdout",
     "output_type": "stream",
     "text": [
      "[1] \"Results with Head Motion as Covariate\"\n"
     ]
    },
    {
     "data": {
      "text/html": [
       "<table>\n",
       "<thead><tr><th></th><th scope=col>Estimate</th><th scope=col>Std. Error</th><th scope=col>df</th><th scope=col>t value</th><th scope=col>Pr(&gt;|t|)</th></tr></thead>\n",
       "<tbody>\n",
       "\t<tr><th scope=row>diffhubs_global_z</th><td> 0.0002949421</td><td>0.011079214  </td><td> 25.57405    </td><td> 0.02662121  </td><td>0.978968503  </td></tr>\n",
       "\t<tr><th scope=row>grouping1:diffhubs_global_z</th><td> 0.0077428988</td><td>0.002847760  </td><td>191.01392    </td><td> 2.71894325  </td><td>0.007152438  </td></tr>\n",
       "\t<tr><th scope=row>Cond1:diffhubs_global_z</th><td>-0.0039707710</td><td>0.011008955  </td><td> 25.18970    </td><td>-0.36068555  </td><td>0.721341691  </td></tr>\n",
       "\t<tr><th scope=row>grouping1:Cond1:diffhubs_global_z</th><td> 0.0020254718</td><td>0.002851126  </td><td>188.71352    </td><td> 0.71041116  </td><td>0.478326201  </td></tr>\n",
       "</tbody>\n",
       "</table>\n"
      ],
      "text/latex": [
       "\\begin{tabular}{r|lllll}\n",
       "  & Estimate & Std. Error & df & t value & Pr(>\\textbar{}t\\textbar{})\\\\\n",
       "\\hline\n",
       "\tdiffhubs\\_global\\_z &  0.0002949421 & 0.011079214   &  25.57405     &  0.02662121   & 0.978968503  \\\\\n",
       "\tgrouping1:diffhubs\\_global\\_z &  0.0077428988 & 0.002847760   & 191.01392     &  2.71894325   & 0.007152438  \\\\\n",
       "\tCond1:diffhubs\\_global\\_z & -0.0039707710 & 0.011008955   &  25.18970     & -0.36068555   & 0.721341691  \\\\\n",
       "\tgrouping1:Cond1:diffhubs\\_global\\_z &  0.0020254718 & 0.002851126   & 188.71352     &  0.71041116   & 0.478326201  \\\\\n",
       "\\end{tabular}\n"
      ],
      "text/markdown": [
       "\n",
       "| <!--/--> | Estimate | Std. Error | df | t value | Pr(>|t|) |\n",
       "|---|---|---|---|---|---|\n",
       "| diffhubs_global_z |  0.0002949421 | 0.011079214   |  25.57405     |  0.02662121   | 0.978968503   |\n",
       "| grouping1:diffhubs_global_z |  0.0077428988 | 0.002847760   | 191.01392     |  2.71894325   | 0.007152438   |\n",
       "| Cond1:diffhubs_global_z | -0.0039707710 | 0.011008955   |  25.18970     | -0.36068555   | 0.721341691   |\n",
       "| grouping1:Cond1:diffhubs_global_z |  0.0020254718 | 0.002851126   | 188.71352     |  0.71041116   | 0.478326201   |\n",
       "\n"
      ],
      "text/plain": [
       "                                  Estimate      Std. Error  df       \n",
       "diffhubs_global_z                  0.0002949421 0.011079214  25.57405\n",
       "grouping1:diffhubs_global_z        0.0077428988 0.002847760 191.01392\n",
       "Cond1:diffhubs_global_z           -0.0039707710 0.011008955  25.18970\n",
       "grouping1:Cond1:diffhubs_global_z  0.0020254718 0.002851126 188.71352\n",
       "                                  t value     Pr(>|t|)   \n",
       "diffhubs_global_z                  0.02662121 0.978968503\n",
       "grouping1:diffhubs_global_z        2.71894325 0.007152438\n",
       "Cond1:diffhubs_global_z           -0.36068555 0.721341691\n",
       "grouping1:Cond1:diffhubs_global_z  0.71041116 0.478326201"
      ]
     },
     "metadata": {},
     "output_type": "display_data"
    }
   ],
   "source": [
    "mm_sochubs_global<-lmer(rt_log~grouping*Cond*order*strial*diffhubs_global_z + (1+grouping+Cond+strial | pID),data=combData2)\n",
    "mm_sochubs_global_glm<-lmer(rt_log~grouping*Cond*order*strial*diffhubs_global_z + diffhubs_glm + (1+grouping+Cond+strial | pID),data=combData2)\n",
    "mm_sochubs_global_hm<-lmer(rt_log~grouping*Cond*order*strial*diffhubs_global_z + mean_fd_all + (1+grouping+Cond+strial | pID),data=combData2)\n",
    "\n",
    "print('Original Results')\n",
    "summary(mm_sochubs_global)$coefficients[c(6,13,14,21),]\n",
    "\n",
    "print('Results with Brain Activity as Covariate')\n",
    "summary(mm_sochubs_global_glm)$coefficients[c(6,14,15,22),]\n",
    "\n",
    "print('Results with Head Motion as Covariate')\n",
    "summary(mm_sochubs_global_hm)$coefficients[c(6,14,15,22),]"
   ]
  },
  {
   "cell_type": "code",
   "execution_count": 151,
   "metadata": {},
   "outputs": [
    {
     "name": "stdout",
     "output_type": "stream",
     "text": [
      "[1] \"Original Results\"\n"
     ]
    },
    {
     "data": {
      "text/html": [
       "<table>\n",
       "<thead><tr><th></th><th scope=col>Estimate</th><th scope=col>Std. Error</th><th scope=col>df</th><th scope=col>t value</th><th scope=col>Pr(&gt;|t|)</th></tr></thead>\n",
       "<tbody>\n",
       "\t<tr><th scope=row>TPJ_L_global_z</th><td> 0.0035341999</td><td>0.010606816  </td><td> 24.82600    </td><td> 0.3332008   </td><td>7.417804e-01 </td></tr>\n",
       "\t<tr><th scope=row>grouping1:TPJ_L_global_z</th><td> 0.0108104346</td><td>0.002690376  </td><td>253.78501    </td><td> 4.0181874   </td><td>7.733409e-05 </td></tr>\n",
       "\t<tr><th scope=row>Cond1:TPJ_L_global_z</th><td>-0.0133831102</td><td>0.011812475  </td><td> 26.21747    </td><td>-1.1329641   </td><td>2.674845e-01 </td></tr>\n",
       "\t<tr><th scope=row>grouping1:Cond1:TPJ_L_global_z</th><td> 0.0004319044</td><td>0.002845087  </td><td>108.45226    </td><td> 0.1518071   </td><td>8.796211e-01 </td></tr>\n",
       "</tbody>\n",
       "</table>\n"
      ],
      "text/latex": [
       "\\begin{tabular}{r|lllll}\n",
       "  & Estimate & Std. Error & df & t value & Pr(>\\textbar{}t\\textbar{})\\\\\n",
       "\\hline\n",
       "\tTPJ\\_L\\_global\\_z &  0.0035341999 & 0.010606816   &  24.82600     &  0.3332008    & 7.417804e-01 \\\\\n",
       "\tgrouping1:TPJ\\_L\\_global\\_z &  0.0108104346 & 0.002690376   & 253.78501     &  4.0181874    & 7.733409e-05 \\\\\n",
       "\tCond1:TPJ\\_L\\_global\\_z & -0.0133831102 & 0.011812475   &  26.21747     & -1.1329641    & 2.674845e-01 \\\\\n",
       "\tgrouping1:Cond1:TPJ\\_L\\_global\\_z &  0.0004319044 & 0.002845087   & 108.45226     &  0.1518071    & 8.796211e-01 \\\\\n",
       "\\end{tabular}\n"
      ],
      "text/markdown": [
       "\n",
       "| <!--/--> | Estimate | Std. Error | df | t value | Pr(>|t|) |\n",
       "|---|---|---|---|---|---|\n",
       "| TPJ_L_global_z |  0.0035341999 | 0.010606816   |  24.82600     |  0.3332008    | 7.417804e-01  |\n",
       "| grouping1:TPJ_L_global_z |  0.0108104346 | 0.002690376   | 253.78501     |  4.0181874    | 7.733409e-05  |\n",
       "| Cond1:TPJ_L_global_z | -0.0133831102 | 0.011812475   |  26.21747     | -1.1329641    | 2.674845e-01  |\n",
       "| grouping1:Cond1:TPJ_L_global_z |  0.0004319044 | 0.002845087   | 108.45226     |  0.1518071    | 8.796211e-01  |\n",
       "\n"
      ],
      "text/plain": [
       "                               Estimate      Std. Error  df        t value   \n",
       "TPJ_L_global_z                  0.0035341999 0.010606816  24.82600  0.3332008\n",
       "grouping1:TPJ_L_global_z        0.0108104346 0.002690376 253.78501  4.0181874\n",
       "Cond1:TPJ_L_global_z           -0.0133831102 0.011812475  26.21747 -1.1329641\n",
       "grouping1:Cond1:TPJ_L_global_z  0.0004319044 0.002845087 108.45226  0.1518071\n",
       "                               Pr(>|t|)    \n",
       "TPJ_L_global_z                 7.417804e-01\n",
       "grouping1:TPJ_L_global_z       7.733409e-05\n",
       "Cond1:TPJ_L_global_z           2.674845e-01\n",
       "grouping1:Cond1:TPJ_L_global_z 8.796211e-01"
      ]
     },
     "metadata": {},
     "output_type": "display_data"
    },
    {
     "name": "stdout",
     "output_type": "stream",
     "text": [
      "[1] \"Results with Brain Activity as Covariate\"\n"
     ]
    },
    {
     "data": {
      "text/html": [
       "<table>\n",
       "<thead><tr><th></th><th scope=col>Estimate</th><th scope=col>Std. Error</th><th scope=col>df</th><th scope=col>t value</th><th scope=col>Pr(&gt;|t|)</th></tr></thead>\n",
       "<tbody>\n",
       "\t<tr><th scope=row>TPJ_L_global_z</th><td> 0.0093023631</td><td>0.010149786  </td><td> 23.93036    </td><td> 0.9165083   </td><td>3.685449e-01 </td></tr>\n",
       "\t<tr><th scope=row>grouping1:TPJ_L_global_z</th><td> 0.0108920904</td><td>0.002689857  </td><td>254.46135    </td><td> 4.0493194   </td><td>6.822989e-05 </td></tr>\n",
       "\t<tr><th scope=row>Cond1:TPJ_L_global_z</th><td>-0.0106307364</td><td>0.011257879  </td><td> 25.33082    </td><td>-0.9442930   </td><td>3.539405e-01 </td></tr>\n",
       "\t<tr><th scope=row>grouping1:Cond1:TPJ_L_global_z</th><td> 0.0004053073</td><td>0.002845055  </td><td>108.67580    </td><td> 0.1424603   </td><td>8.869803e-01 </td></tr>\n",
       "</tbody>\n",
       "</table>\n"
      ],
      "text/latex": [
       "\\begin{tabular}{r|lllll}\n",
       "  & Estimate & Std. Error & df & t value & Pr(>\\textbar{}t\\textbar{})\\\\\n",
       "\\hline\n",
       "\tTPJ\\_L\\_global\\_z &  0.0093023631 & 0.010149786   &  23.93036     &  0.9165083    & 3.685449e-01 \\\\\n",
       "\tgrouping1:TPJ\\_L\\_global\\_z &  0.0108920904 & 0.002689857   & 254.46135     &  4.0493194    & 6.822989e-05 \\\\\n",
       "\tCond1:TPJ\\_L\\_global\\_z & -0.0106307364 & 0.011257879   &  25.33082     & -0.9442930    & 3.539405e-01 \\\\\n",
       "\tgrouping1:Cond1:TPJ\\_L\\_global\\_z &  0.0004053073 & 0.002845055   & 108.67580     &  0.1424603    & 8.869803e-01 \\\\\n",
       "\\end{tabular}\n"
      ],
      "text/markdown": [
       "\n",
       "| <!--/--> | Estimate | Std. Error | df | t value | Pr(>|t|) |\n",
       "|---|---|---|---|---|---|\n",
       "| TPJ_L_global_z |  0.0093023631 | 0.010149786   |  23.93036     |  0.9165083    | 3.685449e-01  |\n",
       "| grouping1:TPJ_L_global_z |  0.0108920904 | 0.002689857   | 254.46135     |  4.0493194    | 6.822989e-05  |\n",
       "| Cond1:TPJ_L_global_z | -0.0106307364 | 0.011257879   |  25.33082     | -0.9442930    | 3.539405e-01  |\n",
       "| grouping1:Cond1:TPJ_L_global_z |  0.0004053073 | 0.002845055   | 108.67580     |  0.1424603    | 8.869803e-01  |\n",
       "\n"
      ],
      "text/plain": [
       "                               Estimate      Std. Error  df        t value   \n",
       "TPJ_L_global_z                  0.0093023631 0.010149786  23.93036  0.9165083\n",
       "grouping1:TPJ_L_global_z        0.0108920904 0.002689857 254.46135  4.0493194\n",
       "Cond1:TPJ_L_global_z           -0.0106307364 0.011257879  25.33082 -0.9442930\n",
       "grouping1:Cond1:TPJ_L_global_z  0.0004053073 0.002845055 108.67580  0.1424603\n",
       "                               Pr(>|t|)    \n",
       "TPJ_L_global_z                 3.685449e-01\n",
       "grouping1:TPJ_L_global_z       6.822989e-05\n",
       "Cond1:TPJ_L_global_z           3.539405e-01\n",
       "grouping1:Cond1:TPJ_L_global_z 8.869803e-01"
      ]
     },
     "metadata": {},
     "output_type": "display_data"
    },
    {
     "name": "stdout",
     "output_type": "stream",
     "text": [
      "[1] \"Results with Head Motion as Covariate\"\n"
     ]
    },
    {
     "data": {
      "text/html": [
       "<table>\n",
       "<thead><tr><th></th><th scope=col>Estimate</th><th scope=col>Std. Error</th><th scope=col>df</th><th scope=col>t value</th><th scope=col>Pr(&gt;|t|)</th></tr></thead>\n",
       "<tbody>\n",
       "\t<tr><th scope=row>TPJ_L_global_z</th><td> 0.0029055788</td><td>0.010611336  </td><td> 24.85240    </td><td> 0.2738184   </td><td>7.864871e-01 </td></tr>\n",
       "\t<tr><th scope=row>grouping1:TPJ_L_global_z</th><td> 0.0107560327</td><td>0.002690776  </td><td>254.04389    </td><td> 3.9973727   </td><td>8.399072e-05 </td></tr>\n",
       "\t<tr><th scope=row>Cond1:TPJ_L_global_z</th><td>-0.0145398601</td><td>0.011841892  </td><td> 26.08468    </td><td>-1.2278325   </td><td>2.304748e-01 </td></tr>\n",
       "\t<tr><th scope=row>grouping1:Cond1:TPJ_L_global_z</th><td> 0.0003646528</td><td>0.002845618  </td><td>108.52335    </td><td> 0.1281454   </td><td>8.982711e-01 </td></tr>\n",
       "</tbody>\n",
       "</table>\n"
      ],
      "text/latex": [
       "\\begin{tabular}{r|lllll}\n",
       "  & Estimate & Std. Error & df & t value & Pr(>\\textbar{}t\\textbar{})\\\\\n",
       "\\hline\n",
       "\tTPJ\\_L\\_global\\_z &  0.0029055788 & 0.010611336   &  24.85240     &  0.2738184    & 7.864871e-01 \\\\\n",
       "\tgrouping1:TPJ\\_L\\_global\\_z &  0.0107560327 & 0.002690776   & 254.04389     &  3.9973727    & 8.399072e-05 \\\\\n",
       "\tCond1:TPJ\\_L\\_global\\_z & -0.0145398601 & 0.011841892   &  26.08468     & -1.2278325    & 2.304748e-01 \\\\\n",
       "\tgrouping1:Cond1:TPJ\\_L\\_global\\_z &  0.0003646528 & 0.002845618   & 108.52335     &  0.1281454    & 8.982711e-01 \\\\\n",
       "\\end{tabular}\n"
      ],
      "text/markdown": [
       "\n",
       "| <!--/--> | Estimate | Std. Error | df | t value | Pr(>|t|) |\n",
       "|---|---|---|---|---|---|\n",
       "| TPJ_L_global_z |  0.0029055788 | 0.010611336   |  24.85240     |  0.2738184    | 7.864871e-01  |\n",
       "| grouping1:TPJ_L_global_z |  0.0107560327 | 0.002690776   | 254.04389     |  3.9973727    | 8.399072e-05  |\n",
       "| Cond1:TPJ_L_global_z | -0.0145398601 | 0.011841892   |  26.08468     | -1.2278325    | 2.304748e-01  |\n",
       "| grouping1:Cond1:TPJ_L_global_z |  0.0003646528 | 0.002845618   | 108.52335     |  0.1281454    | 8.982711e-01  |\n",
       "\n"
      ],
      "text/plain": [
       "                               Estimate      Std. Error  df        t value   \n",
       "TPJ_L_global_z                  0.0029055788 0.010611336  24.85240  0.2738184\n",
       "grouping1:TPJ_L_global_z        0.0107560327 0.002690776 254.04389  3.9973727\n",
       "Cond1:TPJ_L_global_z           -0.0145398601 0.011841892  26.08468 -1.2278325\n",
       "grouping1:Cond1:TPJ_L_global_z  0.0003646528 0.002845618 108.52335  0.1281454\n",
       "                               Pr(>|t|)    \n",
       "TPJ_L_global_z                 7.864871e-01\n",
       "grouping1:TPJ_L_global_z       8.399072e-05\n",
       "Cond1:TPJ_L_global_z           2.304748e-01\n",
       "grouping1:Cond1:TPJ_L_global_z 8.982711e-01"
      ]
     },
     "metadata": {},
     "output_type": "display_data"
    }
   ],
   "source": [
    "mm_TPJ<-lmer(rt_log~grouping*Cond*order*strial*TPJ_L_global_z + (1+grouping+Cond+strial | pID),data=combData2)\n",
    "mm_TPJ_glm<-lmer(rt_log~grouping*Cond*order*strial*TPJ_L_global_z + diffhubs_glm + (1+grouping+Cond+strial | pID),data=combData2)\n",
    "mm_TPJ_hm<-lmer(rt_log~grouping*Cond*order*strial*TPJ_L_global_z + mean_fd_all + (1+grouping+Cond+strial | pID),data=combData2)\n",
    "\n",
    "print('Original Results')\n",
    "summary(mm_TPJ)$coefficients[c(6,13,14,21),]\n",
    "\n",
    "print('Results with Brain Activity as Covariate')\n",
    "summary(mm_TPJ_glm)$coefficients[c(6,14,15,22),]\n",
    "\n",
    "print('Results with Head Motion as Covariate')\n",
    "summary(mm_TPJ_hm)$coefficients[c(6,14,15,22),]"
   ]
  },
  {
   "cell_type": "code",
   "execution_count": 152,
   "metadata": {},
   "outputs": [
    {
     "name": "stdout",
     "output_type": "stream",
     "text": [
      "[1] \"Original Results\"\n"
     ]
    },
    {
     "data": {
      "text/html": [
       "<table>\n",
       "<thead><tr><th></th><th scope=col>Estimate</th><th scope=col>Std. Error</th><th scope=col>df</th><th scope=col>t value</th><th scope=col>Pr(&gt;|t|)</th></tr></thead>\n",
       "<tbody>\n",
       "\t<tr><th scope=row>dmPFC_L_global_z</th><td>-0.001708180</td><td>0.013208182 </td><td> 22.99555   </td><td>-0.1293274  </td><td>0.898223124 </td></tr>\n",
       "\t<tr><th scope=row>grouping1:dmPFC_L_global_z</th><td> 0.001348741</td><td>0.002947381 </td><td>196.82921   </td><td> 0.4576066  </td><td>0.647739818 </td></tr>\n",
       "\t<tr><th scope=row>Cond1:dmPFC_L_global_z</th><td>-0.005771225</td><td>0.013422352 </td><td> 23.29314   </td><td>-0.4299712  </td><td>0.671168307 </td></tr>\n",
       "\t<tr><th scope=row>grouping1:Cond1:dmPFC_L_global_z</th><td>-0.008426089</td><td>0.002947420 </td><td>191.07984   </td><td>-2.8588017  </td><td>0.004724586 </td></tr>\n",
       "</tbody>\n",
       "</table>\n"
      ],
      "text/latex": [
       "\\begin{tabular}{r|lllll}\n",
       "  & Estimate & Std. Error & df & t value & Pr(>\\textbar{}t\\textbar{})\\\\\n",
       "\\hline\n",
       "\tdmPFC\\_L\\_global\\_z & -0.001708180 & 0.013208182  &  22.99555    & -0.1293274   & 0.898223124 \\\\\n",
       "\tgrouping1:dmPFC\\_L\\_global\\_z &  0.001348741 & 0.002947381  & 196.82921    &  0.4576066   & 0.647739818 \\\\\n",
       "\tCond1:dmPFC\\_L\\_global\\_z & -0.005771225 & 0.013422352  &  23.29314    & -0.4299712   & 0.671168307 \\\\\n",
       "\tgrouping1:Cond1:dmPFC\\_L\\_global\\_z & -0.008426089 & 0.002947420  & 191.07984    & -2.8588017   & 0.004724586 \\\\\n",
       "\\end{tabular}\n"
      ],
      "text/markdown": [
       "\n",
       "| <!--/--> | Estimate | Std. Error | df | t value | Pr(>|t|) |\n",
       "|---|---|---|---|---|---|\n",
       "| dmPFC_L_global_z | -0.001708180 | 0.013208182  |  22.99555    | -0.1293274   | 0.898223124  |\n",
       "| grouping1:dmPFC_L_global_z |  0.001348741 | 0.002947381  | 196.82921    |  0.4576066   | 0.647739818  |\n",
       "| Cond1:dmPFC_L_global_z | -0.005771225 | 0.013422352  |  23.29314    | -0.4299712   | 0.671168307  |\n",
       "| grouping1:Cond1:dmPFC_L_global_z | -0.008426089 | 0.002947420  | 191.07984    | -2.8588017   | 0.004724586  |\n",
       "\n"
      ],
      "text/plain": [
       "                                 Estimate     Std. Error  df        t value   \n",
       "dmPFC_L_global_z                 -0.001708180 0.013208182  22.99555 -0.1293274\n",
       "grouping1:dmPFC_L_global_z        0.001348741 0.002947381 196.82921  0.4576066\n",
       "Cond1:dmPFC_L_global_z           -0.005771225 0.013422352  23.29314 -0.4299712\n",
       "grouping1:Cond1:dmPFC_L_global_z -0.008426089 0.002947420 191.07984 -2.8588017\n",
       "                                 Pr(>|t|)   \n",
       "dmPFC_L_global_z                 0.898223124\n",
       "grouping1:dmPFC_L_global_z       0.647739818\n",
       "Cond1:dmPFC_L_global_z           0.671168307\n",
       "grouping1:Cond1:dmPFC_L_global_z 0.004724586"
      ]
     },
     "metadata": {},
     "output_type": "display_data"
    },
    {
     "name": "stdout",
     "output_type": "stream",
     "text": [
      "[1] \"Results with Brain Activity as Covariate\"\n"
     ]
    },
    {
     "data": {
      "text/html": [
       "<table>\n",
       "<thead><tr><th></th><th scope=col>Estimate</th><th scope=col>Std. Error</th><th scope=col>df</th><th scope=col>t value</th><th scope=col>Pr(&gt;|t|)</th></tr></thead>\n",
       "<tbody>\n",
       "\t<tr><th scope=row>dmPFC_L_global_z</th><td>-0.002877547</td><td>0.013060528 </td><td> 22.59845   </td><td>-0.2203239  </td><td>0.827597155 </td></tr>\n",
       "\t<tr><th scope=row>grouping1:dmPFC_L_global_z</th><td> 0.001354774</td><td>0.002948874 </td><td>198.41168   </td><td> 0.4594208  </td><td>0.646434972 </td></tr>\n",
       "\t<tr><th scope=row>Cond1:dmPFC_L_global_z</th><td>-0.006740301</td><td>0.013264787 </td><td> 22.89005   </td><td>-0.5081349  </td><td>0.616220842 </td></tr>\n",
       "\t<tr><th scope=row>grouping1:Cond1:dmPFC_L_global_z</th><td>-0.008481764</td><td>0.002949101 </td><td>192.41292   </td><td>-2.8760507  </td><td>0.004480923 </td></tr>\n",
       "</tbody>\n",
       "</table>\n"
      ],
      "text/latex": [
       "\\begin{tabular}{r|lllll}\n",
       "  & Estimate & Std. Error & df & t value & Pr(>\\textbar{}t\\textbar{})\\\\\n",
       "\\hline\n",
       "\tdmPFC\\_L\\_global\\_z & -0.002877547 & 0.013060528  &  22.59845    & -0.2203239   & 0.827597155 \\\\\n",
       "\tgrouping1:dmPFC\\_L\\_global\\_z &  0.001354774 & 0.002948874  & 198.41168    &  0.4594208   & 0.646434972 \\\\\n",
       "\tCond1:dmPFC\\_L\\_global\\_z & -0.006740301 & 0.013264787  &  22.89005    & -0.5081349   & 0.616220842 \\\\\n",
       "\tgrouping1:Cond1:dmPFC\\_L\\_global\\_z & -0.008481764 & 0.002949101  & 192.41292    & -2.8760507   & 0.004480923 \\\\\n",
       "\\end{tabular}\n"
      ],
      "text/markdown": [
       "\n",
       "| <!--/--> | Estimate | Std. Error | df | t value | Pr(>|t|) |\n",
       "|---|---|---|---|---|---|\n",
       "| dmPFC_L_global_z | -0.002877547 | 0.013060528  |  22.59845    | -0.2203239   | 0.827597155  |\n",
       "| grouping1:dmPFC_L_global_z |  0.001354774 | 0.002948874  | 198.41168    |  0.4594208   | 0.646434972  |\n",
       "| Cond1:dmPFC_L_global_z | -0.006740301 | 0.013264787  |  22.89005    | -0.5081349   | 0.616220842  |\n",
       "| grouping1:Cond1:dmPFC_L_global_z | -0.008481764 | 0.002949101  | 192.41292    | -2.8760507   | 0.004480923  |\n",
       "\n"
      ],
      "text/plain": [
       "                                 Estimate     Std. Error  df        t value   \n",
       "dmPFC_L_global_z                 -0.002877547 0.013060528  22.59845 -0.2203239\n",
       "grouping1:dmPFC_L_global_z        0.001354774 0.002948874 198.41168  0.4594208\n",
       "Cond1:dmPFC_L_global_z           -0.006740301 0.013264787  22.89005 -0.5081349\n",
       "grouping1:Cond1:dmPFC_L_global_z -0.008481764 0.002949101 192.41292 -2.8760507\n",
       "                                 Pr(>|t|)   \n",
       "dmPFC_L_global_z                 0.827597155\n",
       "grouping1:dmPFC_L_global_z       0.646434972\n",
       "Cond1:dmPFC_L_global_z           0.616220842\n",
       "grouping1:Cond1:dmPFC_L_global_z 0.004480923"
      ]
     },
     "metadata": {},
     "output_type": "display_data"
    },
    {
     "name": "stdout",
     "output_type": "stream",
     "text": [
      "[1] \"Results with Head Motion as Covariate\"\n"
     ]
    },
    {
     "data": {
      "text/html": [
       "<table>\n",
       "<thead><tr><th></th><th scope=col>Estimate</th><th scope=col>Std. Error</th><th scope=col>df</th><th scope=col>t value</th><th scope=col>Pr(&gt;|t|)</th></tr></thead>\n",
       "<tbody>\n",
       "\t<tr><th scope=row>dmPFC_L_global_z</th><td>-0.002606073</td><td>0.013176000 </td><td> 22.83230   </td><td>-0.1977894  </td><td>0.844960183 </td></tr>\n",
       "\t<tr><th scope=row>grouping1:dmPFC_L_global_z</th><td> 0.001310304</td><td>0.002948837 </td><td>197.41447   </td><td> 0.4443461  </td><td>0.657279112 </td></tr>\n",
       "\t<tr><th scope=row>Cond1:dmPFC_L_global_z</th><td>-0.006676164</td><td>0.013411636 </td><td> 23.03369   </td><td>-0.4977889  </td><td>0.623352087 </td></tr>\n",
       "\t<tr><th scope=row>grouping1:Cond1:dmPFC_L_global_z</th><td>-0.008483153</td><td>0.002948919 </td><td>191.66501   </td><td>-2.8766995  </td><td>0.004473922 </td></tr>\n",
       "</tbody>\n",
       "</table>\n"
      ],
      "text/latex": [
       "\\begin{tabular}{r|lllll}\n",
       "  & Estimate & Std. Error & df & t value & Pr(>\\textbar{}t\\textbar{})\\\\\n",
       "\\hline\n",
       "\tdmPFC\\_L\\_global\\_z & -0.002606073 & 0.013176000  &  22.83230    & -0.1977894   & 0.844960183 \\\\\n",
       "\tgrouping1:dmPFC\\_L\\_global\\_z &  0.001310304 & 0.002948837  & 197.41447    &  0.4443461   & 0.657279112 \\\\\n",
       "\tCond1:dmPFC\\_L\\_global\\_z & -0.006676164 & 0.013411636  &  23.03369    & -0.4977889   & 0.623352087 \\\\\n",
       "\tgrouping1:Cond1:dmPFC\\_L\\_global\\_z & -0.008483153 & 0.002948919  & 191.66501    & -2.8766995   & 0.004473922 \\\\\n",
       "\\end{tabular}\n"
      ],
      "text/markdown": [
       "\n",
       "| <!--/--> | Estimate | Std. Error | df | t value | Pr(>|t|) |\n",
       "|---|---|---|---|---|---|\n",
       "| dmPFC_L_global_z | -0.002606073 | 0.013176000  |  22.83230    | -0.1977894   | 0.844960183  |\n",
       "| grouping1:dmPFC_L_global_z |  0.001310304 | 0.002948837  | 197.41447    |  0.4443461   | 0.657279112  |\n",
       "| Cond1:dmPFC_L_global_z | -0.006676164 | 0.013411636  |  23.03369    | -0.4977889   | 0.623352087  |\n",
       "| grouping1:Cond1:dmPFC_L_global_z | -0.008483153 | 0.002948919  | 191.66501    | -2.8766995   | 0.004473922  |\n",
       "\n"
      ],
      "text/plain": [
       "                                 Estimate     Std. Error  df        t value   \n",
       "dmPFC_L_global_z                 -0.002606073 0.013176000  22.83230 -0.1977894\n",
       "grouping1:dmPFC_L_global_z        0.001310304 0.002948837 197.41447  0.4443461\n",
       "Cond1:dmPFC_L_global_z           -0.006676164 0.013411636  23.03369 -0.4977889\n",
       "grouping1:Cond1:dmPFC_L_global_z -0.008483153 0.002948919 191.66501 -2.8766995\n",
       "                                 Pr(>|t|)   \n",
       "dmPFC_L_global_z                 0.844960183\n",
       "grouping1:dmPFC_L_global_z       0.657279112\n",
       "Cond1:dmPFC_L_global_z           0.623352087\n",
       "grouping1:Cond1:dmPFC_L_global_z 0.004473922"
      ]
     },
     "metadata": {},
     "output_type": "display_data"
    }
   ],
   "source": [
    "mm_dmPFC<-lmer(rt_log~grouping*Cond*order*strial*dmPFC_L_global_z + (1+grouping+Cond+strial | pID),data=combData2)\n",
    "mm_dmPFC_glm<-lmer(rt_log~grouping*Cond*order*strial*dmPFC_L_global_z + diffhubs_glm + (1+grouping+Cond+strial | pID),data=combData2)\n",
    "mm_dmPFC_hm<-lmer(rt_log~grouping*Cond*order*strial*dmPFC_L_global_z + mean_fd_all + (1+grouping+Cond+strial | pID),data=combData2)\n",
    "\n",
    "print('Original Results')\n",
    "summary(mm_dmPFC)$coefficients[c(6,13,14,21),]\n",
    "\n",
    "print('Results with Brain Activity as Covariate')\n",
    "summary(mm_dmPFC_glm)$coefficients[c(6,14,15,22),]\n",
    "\n",
    "print('Results with Head Motion as Covariate')\n",
    "summary(mm_dmPFC_hm)$coefficients[c(6,14,15,22),]"
   ]
  },
  {
   "cell_type": "code",
   "execution_count": 153,
   "metadata": {},
   "outputs": [
    {
     "name": "stdout",
     "output_type": "stream",
     "text": [
      "[1] \"Original Results\"\n"
     ]
    },
    {
     "data": {
      "text/html": [
       "<table>\n",
       "<thead><tr><th></th><th scope=col>Estimate</th><th scope=col>Std. Error</th><th scope=col>df</th><th scope=col>t value</th><th scope=col>Pr(&gt;|t|)</th></tr></thead>\n",
       "<tbody>\n",
       "\t<tr><th scope=row>ws_sochubs_z</th><td>-0.006357605</td><td>0.010400450 </td><td> 26.11436   </td><td>-0.6112817  </td><td>0.546297959 </td></tr>\n",
       "\t<tr><th scope=row>grouping1:ws_sochubs_z</th><td> 0.006485251</td><td>0.002906298 </td><td>153.30763   </td><td> 2.2314473  </td><td>0.027102177 </td></tr>\n",
       "\t<tr><th scope=row>Cond1:ws_sochubs_z</th><td>-0.007507147</td><td>0.010046913 </td><td> 25.60526   </td><td>-0.7472094  </td><td>0.461744275 </td></tr>\n",
       "\t<tr><th scope=row>grouping1:Cond1:ws_sochubs_z</th><td> 0.008249908</td><td>0.002846645 </td><td>208.90766   </td><td> 2.8981162  </td><td>0.004154531 </td></tr>\n",
       "</tbody>\n",
       "</table>\n"
      ],
      "text/latex": [
       "\\begin{tabular}{r|lllll}\n",
       "  & Estimate & Std. Error & df & t value & Pr(>\\textbar{}t\\textbar{})\\\\\n",
       "\\hline\n",
       "\tws\\_sochubs\\_z & -0.006357605 & 0.010400450  &  26.11436    & -0.6112817   & 0.546297959 \\\\\n",
       "\tgrouping1:ws\\_sochubs\\_z &  0.006485251 & 0.002906298  & 153.30763    &  2.2314473   & 0.027102177 \\\\\n",
       "\tCond1:ws\\_sochubs\\_z & -0.007507147 & 0.010046913  &  25.60526    & -0.7472094   & 0.461744275 \\\\\n",
       "\tgrouping1:Cond1:ws\\_sochubs\\_z &  0.008249908 & 0.002846645  & 208.90766    &  2.8981162   & 0.004154531 \\\\\n",
       "\\end{tabular}\n"
      ],
      "text/markdown": [
       "\n",
       "| <!--/--> | Estimate | Std. Error | df | t value | Pr(>|t|) |\n",
       "|---|---|---|---|---|---|\n",
       "| ws_sochubs_z | -0.006357605 | 0.010400450  |  26.11436    | -0.6112817   | 0.546297959  |\n",
       "| grouping1:ws_sochubs_z |  0.006485251 | 0.002906298  | 153.30763    |  2.2314473   | 0.027102177  |\n",
       "| Cond1:ws_sochubs_z | -0.007507147 | 0.010046913  |  25.60526    | -0.7472094   | 0.461744275  |\n",
       "| grouping1:Cond1:ws_sochubs_z |  0.008249908 | 0.002846645  | 208.90766    |  2.8981162   | 0.004154531  |\n",
       "\n"
      ],
      "text/plain": [
       "                             Estimate     Std. Error  df        t value   \n",
       "ws_sochubs_z                 -0.006357605 0.010400450  26.11436 -0.6112817\n",
       "grouping1:ws_sochubs_z        0.006485251 0.002906298 153.30763  2.2314473\n",
       "Cond1:ws_sochubs_z           -0.007507147 0.010046913  25.60526 -0.7472094\n",
       "grouping1:Cond1:ws_sochubs_z  0.008249908 0.002846645 208.90766  2.8981162\n",
       "                             Pr(>|t|)   \n",
       "ws_sochubs_z                 0.546297959\n",
       "grouping1:ws_sochubs_z       0.027102177\n",
       "Cond1:ws_sochubs_z           0.461744275\n",
       "grouping1:Cond1:ws_sochubs_z 0.004154531"
      ]
     },
     "metadata": {},
     "output_type": "display_data"
    },
    {
     "name": "stdout",
     "output_type": "stream",
     "text": [
      "[1] \"Results with Brain Activity as Covariate\"\n"
     ]
    },
    {
     "data": {
      "text/html": [
       "<table>\n",
       "<thead><tr><th></th><th scope=col>Estimate</th><th scope=col>Std. Error</th><th scope=col>df</th><th scope=col>t value</th><th scope=col>Pr(&gt;|t|)</th></tr></thead>\n",
       "<tbody>\n",
       "\t<tr><th scope=row>ws_sochubs_z</th><td>-0.005928858</td><td>0.010092278 </td><td> 26.14146   </td><td>-0.5874648  </td><td>0.561932050 </td></tr>\n",
       "\t<tr><th scope=row>grouping1:ws_sochubs_z</th><td> 0.006568995</td><td>0.002904503 </td><td>153.72943   </td><td> 2.2616592  </td><td>0.025120634 </td></tr>\n",
       "\t<tr><th scope=row>Cond1:ws_sochubs_z</th><td>-0.007021729</td><td>0.009707406 </td><td> 25.58966   </td><td>-0.7233373  </td><td>0.476033080 </td></tr>\n",
       "\t<tr><th scope=row>grouping1:Cond1:ws_sochubs_z</th><td> 0.008310361</td><td>0.002844871 </td><td>209.35860   </td><td> 2.9211738  </td><td>0.003869517 </td></tr>\n",
       "</tbody>\n",
       "</table>\n"
      ],
      "text/latex": [
       "\\begin{tabular}{r|lllll}\n",
       "  & Estimate & Std. Error & df & t value & Pr(>\\textbar{}t\\textbar{})\\\\\n",
       "\\hline\n",
       "\tws\\_sochubs\\_z & -0.005928858 & 0.010092278  &  26.14146    & -0.5874648   & 0.561932050 \\\\\n",
       "\tgrouping1:ws\\_sochubs\\_z &  0.006568995 & 0.002904503  & 153.72943    &  2.2616592   & 0.025120634 \\\\\n",
       "\tCond1:ws\\_sochubs\\_z & -0.007021729 & 0.009707406  &  25.58966    & -0.7233373   & 0.476033080 \\\\\n",
       "\tgrouping1:Cond1:ws\\_sochubs\\_z &  0.008310361 & 0.002844871  & 209.35860    &  2.9211738   & 0.003869517 \\\\\n",
       "\\end{tabular}\n"
      ],
      "text/markdown": [
       "\n",
       "| <!--/--> | Estimate | Std. Error | df | t value | Pr(>|t|) |\n",
       "|---|---|---|---|---|---|\n",
       "| ws_sochubs_z | -0.005928858 | 0.010092278  |  26.14146    | -0.5874648   | 0.561932050  |\n",
       "| grouping1:ws_sochubs_z |  0.006568995 | 0.002904503  | 153.72943    |  2.2616592   | 0.025120634  |\n",
       "| Cond1:ws_sochubs_z | -0.007021729 | 0.009707406  |  25.58966    | -0.7233373   | 0.476033080  |\n",
       "| grouping1:Cond1:ws_sochubs_z |  0.008310361 | 0.002844871  | 209.35860    |  2.9211738   | 0.003869517  |\n",
       "\n"
      ],
      "text/plain": [
       "                             Estimate     Std. Error  df        t value   \n",
       "ws_sochubs_z                 -0.005928858 0.010092278  26.14146 -0.5874648\n",
       "grouping1:ws_sochubs_z        0.006568995 0.002904503 153.72943  2.2616592\n",
       "Cond1:ws_sochubs_z           -0.007021729 0.009707406  25.58966 -0.7233373\n",
       "grouping1:Cond1:ws_sochubs_z  0.008310361 0.002844871 209.35860  2.9211738\n",
       "                             Pr(>|t|)   \n",
       "ws_sochubs_z                 0.561932050\n",
       "grouping1:ws_sochubs_z       0.025120634\n",
       "Cond1:ws_sochubs_z           0.476033080\n",
       "grouping1:Cond1:ws_sochubs_z 0.003869517"
      ]
     },
     "metadata": {},
     "output_type": "display_data"
    },
    {
     "name": "stdout",
     "output_type": "stream",
     "text": [
      "[1] \"Results with Head Motion as Covariate\"\n"
     ]
    },
    {
     "data": {
      "text/html": [
       "<table>\n",
       "<thead><tr><th></th><th scope=col>Estimate</th><th scope=col>Std. Error</th><th scope=col>df</th><th scope=col>t value</th><th scope=col>Pr(&gt;|t|)</th></tr></thead>\n",
       "<tbody>\n",
       "\t<tr><th scope=row>ws_sochubs_z</th><td>-0.007580031</td><td>0.010427858 </td><td> 26.03547   </td><td>-0.7269020  </td><td>0.473771747 </td></tr>\n",
       "\t<tr><th scope=row>grouping1:ws_sochubs_z</th><td> 0.006488196</td><td>0.002907586 </td><td>154.35947   </td><td> 2.2314720  </td><td>0.027090553 </td></tr>\n",
       "\t<tr><th scope=row>Cond1:ws_sochubs_z</th><td>-0.008288248</td><td>0.010046777 </td><td> 25.71102   </td><td>-0.8249659  </td><td>0.416979575 </td></tr>\n",
       "\t<tr><th scope=row>grouping1:Cond1:ws_sochubs_z</th><td> 0.008197105</td><td>0.002847717 </td><td>210.40115   </td><td> 2.8784833  </td><td>0.004408362 </td></tr>\n",
       "</tbody>\n",
       "</table>\n"
      ],
      "text/latex": [
       "\\begin{tabular}{r|lllll}\n",
       "  & Estimate & Std. Error & df & t value & Pr(>\\textbar{}t\\textbar{})\\\\\n",
       "\\hline\n",
       "\tws\\_sochubs\\_z & -0.007580031 & 0.010427858  &  26.03547    & -0.7269020   & 0.473771747 \\\\\n",
       "\tgrouping1:ws\\_sochubs\\_z &  0.006488196 & 0.002907586  & 154.35947    &  2.2314720   & 0.027090553 \\\\\n",
       "\tCond1:ws\\_sochubs\\_z & -0.008288248 & 0.010046777  &  25.71102    & -0.8249659   & 0.416979575 \\\\\n",
       "\tgrouping1:Cond1:ws\\_sochubs\\_z &  0.008197105 & 0.002847717  & 210.40115    &  2.8784833   & 0.004408362 \\\\\n",
       "\\end{tabular}\n"
      ],
      "text/markdown": [
       "\n",
       "| <!--/--> | Estimate | Std. Error | df | t value | Pr(>|t|) |\n",
       "|---|---|---|---|---|---|\n",
       "| ws_sochubs_z | -0.007580031 | 0.010427858  |  26.03547    | -0.7269020   | 0.473771747  |\n",
       "| grouping1:ws_sochubs_z |  0.006488196 | 0.002907586  | 154.35947    |  2.2314720   | 0.027090553  |\n",
       "| Cond1:ws_sochubs_z | -0.008288248 | 0.010046777  |  25.71102    | -0.8249659   | 0.416979575  |\n",
       "| grouping1:Cond1:ws_sochubs_z |  0.008197105 | 0.002847717  | 210.40115    |  2.8784833   | 0.004408362  |\n",
       "\n"
      ],
      "text/plain": [
       "                             Estimate     Std. Error  df        t value   \n",
       "ws_sochubs_z                 -0.007580031 0.010427858  26.03547 -0.7269020\n",
       "grouping1:ws_sochubs_z        0.006488196 0.002907586 154.35947  2.2314720\n",
       "Cond1:ws_sochubs_z           -0.008288248 0.010046777  25.71102 -0.8249659\n",
       "grouping1:Cond1:ws_sochubs_z  0.008197105 0.002847717 210.40115  2.8784833\n",
       "                             Pr(>|t|)   \n",
       "ws_sochubs_z                 0.473771747\n",
       "grouping1:ws_sochubs_z       0.027090553\n",
       "Cond1:ws_sochubs_z           0.416979575\n",
       "grouping1:Cond1:ws_sochubs_z 0.004408362"
      ]
     },
     "metadata": {},
     "output_type": "display_data"
    }
   ],
   "source": [
    "mm_ws_sochubs<-lmer(rt_log~grouping*Cond*order*strial*ws_sochubs_z + (1+grouping+Cond+strial | pID),data=combData2)\n",
    "mm_ws_sochubs_glm<-lmer(rt_log~grouping*Cond*order*strial*ws_sochubs_z + diffhubs_glm + (1+grouping+Cond+strial | pID),data=combData2)\n",
    "mm_ws_sochubs_hm<-lmer(rt_log~grouping*Cond*order*strial*ws_sochubs_z + mean_fd_all + (1+grouping+Cond+strial | pID),data=combData2)\n",
    "\n",
    "print('Original Results')\n",
    "summary(mm_ws_sochubs)$coefficients[c(6,13,14,21),]\n",
    "\n",
    "print('Results with Brain Activity as Covariate')\n",
    "summary(mm_ws_sochubs_glm)$coefficients[c(6,14,15,22),]\n",
    "\n",
    "print('Results with Head Motion as Covariate')\n",
    "summary(mm_ws_sochubs_hm)$coefficients[c(6,14,15,22),]"
   ]
  },
  {
   "cell_type": "markdown",
   "metadata": {},
   "source": [
    "# Correlation with Social Traits"
   ]
  },
  {
   "cell_type": "code",
   "execution_count": 185,
   "metadata": {},
   "outputs": [],
   "source": [
    "traits<-read.csv(paste(wd1,\"netLearn_self_report_measures_26subjs.csv\",sep=\"/\"))\n",
    "\n",
    "# Load neural data and merge with behavioral/head motion data\n",
    "diffData_gc<-create_df(wd2,\"diffData_zscores\",\"sighubs_global_conn\",subjIDs,hmData,add_cov=TRUE)\n",
    "\n",
    "diffData_ss<-create_df(wd2,\"diffData_zscores\",\"sighubs_to_sighubs\",subjIDs,hmData)\n",
    "\n",
    "#################################################\n",
    "# Combine neural dataframes\n",
    "#################################################\n",
    "\n",
    "\n",
    "mdf<-merge(diffData_gc,diffData_ss,by = c(\"pID\",\"task\",\"CondNum\",\"rowID\",\"scanID\"))\n",
    "#longData<-merge(longData,longData_glm,by = c(\"pID\",\"task\",\"CondNum\",\"rowID\",\"scanID\"))\n",
    "mdf=merge(mdf,traits,by=\"pID\")\n",
    "mdf_soc=mdf[mdf$task==\"Soc\",]\n",
    "mdf_ns=mdf[mdf$task==\"NS\",]\n"
   ]
  },
  {
   "cell_type": "code",
   "execution_count": 209,
   "metadata": {},
   "outputs": [
    {
     "name": "stdout",
     "output_type": "stream",
     "text": [
      "                     INDvsCOL Holism IRI_PT Ravens_nCorr\n",
      "combhubs_global        -0.234  0.304 -0.004       -0.103\n",
      "Hippocampus_L_global    0.056 -0.089 -0.399       -0.219\n",
      "Hippocampus_R_global   -0.069 -0.015 -0.355       -0.070\n",
      "diffhubs_global        -0.135  0.328 -0.090       -0.135\n",
      "TPJ_L_global           -0.049  0.061 -0.083       -0.023\n",
      "TPJ_R_global           -0.126  0.360 -0.102       -0.151\n",
      "diffhubs_ns_global     -0.266  0.586  0.357       -0.252\n",
      "dmPFC_L_global         -0.050  0.184  0.321       -0.247\n",
      "dmPFC_R_global         -0.237  0.470  0.409       -0.279\n",
      "lPFC_L_global           0.077  0.078 -0.041       -0.008\n",
      "lPFC_R_global          -0.256  0.548  0.135        0.006\n",
      "ws_combhubs            -0.081  0.245  0.182       -0.164\n",
      "ws_nshubs              -0.265  0.042  0.307       -0.208\n",
      "ws_sochubs              0.394 -0.156 -0.250        0.187\n",
      "                     INDvsCOL Holism IRI_PT Ravens_nCorr\n",
      "combhubs_global         0.608  0.564  0.983        0.919\n",
      "Hippocampus_L_global    0.927  0.919  0.432        0.658\n",
      "Hippocampus_R_global    0.919  0.983  0.468        0.919\n",
      "diffhubs_global         0.844  0.558  0.919        0.844\n",
      "TPJ_L_global            0.927  0.927  0.919        0.980\n",
      "TPJ_R_global            0.865  0.468  0.919        0.834\n",
      "diffhubs_ns_global      0.608  0.093  0.468        0.608\n",
      "dmPFC_L_global          0.927  0.746  0.558        0.608\n",
      "dmPFC_R_global          0.608  0.288  0.432        0.608\n",
      "lPFC_L_global           0.919  0.919  0.927        0.983\n",
      "lPFC_R_global           0.608  0.105  0.844        0.983\n",
      "ws_combhubs             0.919  0.608  0.746        0.816\n",
      "ws_nshubs               0.608  0.927  0.564        0.691\n",
      "ws_sochubs              0.432  0.834  0.608        0.746\n"
     ]
    }
   ],
   "source": [
    "hub_var_list<-unique(c(hublist1,hublist2))\n",
    "traitvars<-c(\"INDvsCOL\",\"Holism\",\"IRI_PT\",\"Ravens_nCorr\")\n",
    "\n",
    "corr_mat<-corr.test(mdf[,c(hub_var_list,traitvars)],adjust=\"none\")\n",
    "pmat<-corr_mat$p[1:length(hub_var_list),(length(hub_var_list)+1):length(c(hub_var_list,traitvars))]\n",
    "rmat<-corr_mat$r[1:length(hub_var_list),(length(hub_var_list)+1):length(c(hub_var_list,traitvars))]\n",
    "fdr_pvec<-p.adjust(pmat,method=\"fdr\")\n",
    "fdr_pmat<-as.data.frame(matrix(fdr_pvec,nrow=14,ncol=4,byrow = FALSE),row.names = hub_var_list, col.names = traitvars)\n",
    "names(fdr_pmat)<-traitvars\n",
    "print(round(rmat,3))\n",
    "print(round(fdr_pmat,3))"
   ]
  }
 ],
 "metadata": {
  "kernelspec": {
   "display_name": "R",
   "language": "R",
   "name": "ir"
  },
  "language_info": {
   "codemirror_mode": "r",
   "file_extension": ".r",
   "mimetype": "text/x-r-source",
   "name": "R",
   "pygments_lexer": "r",
   "version": "3.4.0"
  }
 },
 "nbformat": 4,
 "nbformat_minor": 2
}
