{
 "cells": [
  {
   "cell_type": "code",
   "execution_count": 3,
   "metadata": {},
   "outputs": [
    {
     "name": "stdout",
     "output_type": "stream",
     "text": [
      "('matplotlib:', '2.2.2')\n",
      "('mne:', '0.16.2')\n",
      "('nibabel:', '2.3.0')\n",
      "('nilearn:', '0.4.2')\n",
      "('nipy:', '0.4.2')\n",
      "('nistats:', '0.0.1b')\n",
      "('numpy:', '1.16.4')\n",
      "('pandas:', u'0.23.0')\n",
      "('scipy:', '1.1.0')\n",
      "('seaborn:', '0.9.0')\n",
      "('statsmodels:', '0.9.0')\n"
     ]
    },
    {
     "name": "stderr",
     "output_type": "stream",
     "text": [
      "/Users/steventompson/anaconda2/lib/python2.7/site-packages/statsmodels/nonparametric/kde.py:22: RuntimeWarning: numpy.dtype size changed, may indicate binary incompatibility. Expected 96, got 88\n",
      "  from .linbin import fast_linbin\n",
      "/Users/steventompson/anaconda2/lib/python2.7/site-packages/statsmodels/nonparametric/kde.py:22: RuntimeWarning: numpy.ufunc size changed, may indicate binary incompatibility. Expected 216, got 192\n",
      "  from .linbin import fast_linbin\n",
      "/Users/steventompson/anaconda2/lib/python2.7/site-packages/statsmodels/nonparametric/smoothers_lowess.py:11: RuntimeWarning: numpy.dtype size changed, may indicate binary incompatibility. Expected 96, got 88\n",
      "  from ._smoothers_lowess import lowess as _lowess\n",
      "/Users/steventompson/anaconda2/lib/python2.7/site-packages/statsmodels/nonparametric/smoothers_lowess.py:11: RuntimeWarning: numpy.ufunc size changed, may indicate binary incompatibility. Expected 216, got 192\n",
      "  from ._smoothers_lowess import lowess as _lowess\n",
      "/Users/steventompson/anaconda2/lib/python2.7/site-packages/scipy/cluster/vq.py:78: RuntimeWarning: numpy.dtype size changed, may indicate binary incompatibility. Expected 96, got 88\n",
      "  from . import _vq\n",
      "/Users/steventompson/anaconda2/lib/python2.7/site-packages/scipy/cluster/vq.py:78: RuntimeWarning: numpy.ufunc size changed, may indicate binary incompatibility. Expected 216, got 192\n",
      "  from . import _vq\n",
      "/Users/steventompson/anaconda2/lib/python2.7/site-packages/scipy/cluster/hierarchy.py:178: RuntimeWarning: numpy.dtype size changed, may indicate binary incompatibility. Expected 96, got 88\n",
      "  from . import _hierarchy, _optimal_leaf_ordering\n",
      "/Users/steventompson/anaconda2/lib/python2.7/site-packages/scipy/cluster/hierarchy.py:178: RuntimeWarning: numpy.ufunc size changed, may indicate binary incompatibility. Expected 216, got 192\n",
      "  from . import _hierarchy, _optimal_leaf_ordering\n"
     ]
    }
   ],
   "source": [
    "import scipy, mne, statsmodels\n",
    "import nibabel, nilearn, nipy, nistats\n",
    "import numpy, pandas, seaborn, matplotlib\n",
    "\n",
    "\n",
    "#print('bct:',bct.version)\n",
    "print('matplotlib:',matplotlib.__version__)\n",
    "print('mne:',mne.__version__)\n",
    "print('nibabel:',nibabel.__version__)\n",
    "print('nilearn:',nilearn.__version__)\n",
    "print('nipy:',nipy.__version__)\n",
    "print('nistats:',nistats.__version__)\n",
    "print('numpy:',numpy.__version__)\n",
    "print('pandas:',pandas.__version__)\n",
    "print('scipy:',scipy.__version__)\n",
    "print('seaborn:',seaborn.__version__)\n",
    "print('statsmodels:',statsmodels.__version__)"
   ]
  },
  {
   "cell_type": "code",
   "execution_count": null,
   "metadata": {},
   "outputs": [],
   "source": []
  }
 ],
 "metadata": {
  "kernelspec": {
   "display_name": "Python 2",
   "language": "python",
   "name": "python2"
  },
  "language_info": {
   "codemirror_mode": {
    "name": "ipython",
    "version": 2
   },
   "file_extension": ".py",
   "mimetype": "text/x-python",
   "name": "python",
   "nbconvert_exporter": "python",
   "pygments_lexer": "ipython2",
   "version": "2.7.15"
  }
 },
 "nbformat": 4,
 "nbformat_minor": 2
}
