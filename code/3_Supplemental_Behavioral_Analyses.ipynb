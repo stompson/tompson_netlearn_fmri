{
 "cells": [
  {
   "cell_type": "markdown",
   "metadata": {},
   "source": [
    "# Supplementary Behavioral Results\n",
    "\n",
    "This script loads the trial-level behavioral data and individual-level neural data and runs mixed effects models to test the effect of node type and network type on RT as well as the moderating effect of brain connectivity. We separately include mean brain activation and head motion as covariates to control for these confounds and test whether connectivity moderates network learning above and beyond the effect of brain activity or head motion. Finally, we also test whether functional connectivity in a priori hubs identified in the main manuscript are correlated with social traits or IQ.\" "
   ]
  },
  {
   "cell_type": "markdown",
   "metadata": {},
   "source": [
    "## Step 1: Set up"
   ]
  },
  {
   "cell_type": "code",
   "execution_count": 1,
   "metadata": {},
   "outputs": [
    {
     "name": "stderr",
     "output_type": "stream",
     "text": [
      "Warning message:\n",
      "“package ‘reshape2’ was built under R version 3.4.3”Loading required package: boot\n",
      "Warning message:\n",
      "“package ‘boot’ was built under R version 3.4.1”Loading required package: MASS\n",
      "Warning message:\n",
      "“package ‘MASS’ was built under R version 3.4.4”\n",
      "Attaching package: ‘QuantPsyc’\n",
      "\n",
      "The following object is masked from ‘package:base’:\n",
      "\n",
      "    norm\n",
      "\n",
      "\n",
      "Attaching package: ‘psych’\n",
      "\n",
      "The following object is masked from ‘package:boot’:\n",
      "\n",
      "    logit\n",
      "\n",
      "Warning message:\n",
      "“package ‘ggplot2’ was built under R version 3.4.4”\n",
      "Attaching package: ‘ggplot2’\n",
      "\n",
      "The following objects are masked from ‘package:psych’:\n",
      "\n",
      "    %+%, alpha\n",
      "\n",
      "Warning message:\n",
      "“package ‘effects’ was built under R version 3.4.1”Loading required package: carData\n",
      "Warning message:\n",
      "“package ‘carData’ was built under R version 3.4.4”lattice theme set by effectsTheme()\n",
      "See ?effectsTheme for details.\n",
      "Warning message:\n",
      "“package ‘lme4’ was built under R version 3.4.4”Loading required package: Matrix\n",
      "Warning message:\n",
      "“package ‘Matrix’ was built under R version 3.4.4”Warning message:\n",
      "“package ‘lmerTest’ was built under R version 3.4.4”\n",
      "Attaching package: ‘lmerTest’\n",
      "\n",
      "The following object is masked from ‘package:lme4’:\n",
      "\n",
      "    lmer\n",
      "\n",
      "The following object is masked from ‘package:stats’:\n",
      "\n",
      "    step\n",
      "\n"
     ]
    }
   ],
   "source": [
    "## Load packages\n",
    "library(reshape2)\n",
    "library(plyr)\n",
    "library(QuantPsyc)\n",
    "library(psych)\n",
    "library(ggplot2)\n",
    "library(effects)\n",
    "library(lme4)\n",
    "library(lmerTest)\n",
    "\n",
    "## Set Working Directory to be location where CSV files are stored (change to the location you downloaded data to)\n",
    "wd1<-\"/Users/steventompson/Git/tompson_netlearn_fmri/data/subj_data/\"\n",
    "wd2<-\"/Users/steventompson/Git/tompson_netlearn_fmri/data/ppi_zscores/\"\n",
    "wd3<-\"/Users/steventompson/Git/tompson_netlearn_fmri/data/glm_means/\""
   ]
  },
  {
   "cell_type": "code",
   "execution_count": 2,
   "metadata": {},
   "outputs": [
    {
     "data": {
      "text/plain": [
       "R version 3.4.0 (2017-04-21)\n",
       "Platform: x86_64-apple-darwin15.6.0 (64-bit)\n",
       "Running under: macOS  10.14.6\n",
       "\n",
       "Matrix products: default\n",
       "BLAS: /Library/Frameworks/R.framework/Versions/3.4/Resources/lib/libRblas.0.dylib\n",
       "LAPACK: /Library/Frameworks/R.framework/Versions/3.4/Resources/lib/libRlapack.dylib\n",
       "\n",
       "locale:\n",
       "[1] en_US.UTF-8/en_US.UTF-8/en_US.UTF-8/C/en_US.UTF-8/en_US.UTF-8\n",
       "\n",
       "attached base packages:\n",
       "[1] stats     graphics  grDevices utils     datasets  methods   base     \n",
       "\n",
       "other attached packages:\n",
       " [1] lmerTest_3.0-1 lme4_1.1-19    Matrix_1.2-15  effects_4.0-0  carData_3.0-2 \n",
       " [6] ggplot2_3.1.0  psych_1.8.12   QuantPsyc_1.5  MASS_7.3-51.1  boot_1.3-20   \n",
       "[11] plyr_1.8.4     reshape2_1.4.3\n",
       "\n",
       "loaded via a namespace (and not attached):\n",
       " [1] pbdZMQ_0.3-3      tidyselect_0.2.5  repr_0.19.1       purrr_0.2.5      \n",
       " [5] splines_3.4.0     lattice_0.20-38   colorspace_1.4-0  htmltools_0.3.6  \n",
       " [9] base64enc_0.1-3   survival_2.43-3   rlang_0.3.1       pillar_1.3.1     \n",
       "[13] nloptr_1.2.1      foreign_0.8-71    glue_1.3.0        withr_2.1.2      \n",
       "[17] bindrcpp_0.2.2    uuid_0.1-2        bindr_0.1.1       stringr_1.3.1    \n",
       "[21] munsell_0.5.0     gtable_0.2.0      evaluate_0.12     parallel_3.4.0   \n",
       "[25] IRdisplay_0.7.0   Rcpp_1.0.0        scales_1.0.0      IRkernel_0.8.15  \n",
       "[29] jsonlite_1.6      mnormt_1.5-5      digest_0.6.18     stringi_1.2.4    \n",
       "[33] dplyr_0.7.8       numDeriv_2016.8-1 survey_3.35       grid_3.4.0       \n",
       "[37] tools_3.4.0       magrittr_1.5      lazyeval_0.2.1    tibble_2.0.1     \n",
       "[41] crayon_1.3.4      pkgconfig_2.0.2   assertthat_0.2.0  minqa_1.2.4      \n",
       "[45] R6_2.3.0          nnet_7.3-12       nlme_3.1-137      compiler_3.4.0   "
      ]
     },
     "metadata": {},
     "output_type": "display_data"
    }
   ],
   "source": [
    "sessionInfo()"
   ]
  },
  {
   "cell_type": "code",
   "execution_count": 3,
   "metadata": {},
   "outputs": [
    {
     "data": {
      "text/html": [
       "<table>\n",
       "<thead><tr><th scope=col>X</th><th scope=col>path</th><th scope=col>pID</th><th scope=col>walk</th><th scope=col>trialNum</th><th scope=col>altered</th><th scope=col>correct_raw</th><th scope=col>onset_raw</th><th scope=col>resp_raw</th><th scope=col>rt_raw</th><th scope=col>order</th><th scope=col>Cond</th><th scope=col>pre</th><th scope=col>transition</th><th scope=col>grouping</th></tr></thead>\n",
       "<tbody>\n",
       "\t<tr><td>1                      </td><td>img/18_circ.png        </td><td>1                      </td><td>2                      </td><td>0                      </td><td>False                  </td><td>0                      </td><td>0.00288415             </td><td>NA                     </td><td>      NA               </td><td>0                      </td><td>NS                     </td><td>0                      </td><td>0                      </td><td>x                      </td></tr>\n",
       "\t<tr><td>2                      </td><td>img/4_circ.png         </td><td>1                      </td><td>1                      </td><td>1                      </td><td>False                  </td><td>0                      </td><td>1.51719999             </td><td> 4                     </td><td>977.3271               </td><td>1                      </td><td>NS                     </td><td>0                      </td><td>0                      </td><td>x                      </td></tr>\n",
       "\t<tr><td>3                      </td><td>img/13_circ.png        </td><td>1                      </td><td>0                      </td><td>2                      </td><td>False                  </td><td>1                      </td><td>3.01679420             </td><td> 1                     </td><td>478.4188               </td><td>2                      </td><td>NS                     </td><td>0                      </td><td>0                      </td><td>x                      </td></tr>\n",
       "\t<tr><td>4                      </td><td>img/18_circ_rotated.png</td><td>1                      </td><td>2                      </td><td>3                      </td><td>True                   </td><td>0                      </td><td>4.51468945             </td><td> 1                     </td><td>681.2568               </td><td>3                      </td><td>NS                     </td><td>0                      </td><td>0                      </td><td>x                      </td></tr>\n",
       "\t<tr><td>5                      </td><td>img/15_circ.png        </td><td>1                      </td><td>3                      </td><td>4                      </td><td>False                  </td><td>0                      </td><td>6.01897907             </td><td> 4                     </td><td>327.5101               </td><td>4                      </td><td>NS                     </td><td>0                      </td><td>0                      </td><td>x                      </td></tr>\n",
       "\t<tr><td>6                      </td><td>img/18_circ.png        </td><td>1                      </td><td>2                      </td><td>5                      </td><td>False                  </td><td>1                      </td><td>7.51567698             </td><td> 1                     </td><td>263.9382               </td><td>5                      </td><td>NS                     </td><td>0                      </td><td>0                      </td><td>x                      </td></tr>\n",
       "</tbody>\n",
       "</table>\n"
      ],
      "text/latex": [
       "\\begin{tabular}{r|lllllllllllllll}\n",
       " X & path & pID & walk & trialNum & altered & correct\\_raw & onset\\_raw & resp\\_raw & rt\\_raw & order & Cond & pre & transition & grouping\\\\\n",
       "\\hline\n",
       "\t 1                         & img/18\\_circ.png         & 1                         & 2                         & 0                         & False                     & 0                         & 0.00288415                & NA                        &       NA                  & 0                         & NS                        & 0                         & 0                         & x                        \\\\\n",
       "\t 2                         & img/4\\_circ.png          & 1                         & 1                         & 1                         & False                     & 0                         & 1.51719999                &  4                        & 977.3271                  & 1                         & NS                        & 0                         & 0                         & x                        \\\\\n",
       "\t 3                         & img/13\\_circ.png         & 1                         & 0                         & 2                         & False                     & 1                         & 3.01679420                &  1                        & 478.4188                  & 2                         & NS                        & 0                         & 0                         & x                        \\\\\n",
       "\t 4                           & img/18\\_circ\\_rotated.png & 1                           & 2                           & 3                           & True                        & 0                           & 4.51468945                  &  1                          & 681.2568                    & 3                           & NS                          & 0                           & 0                           & x                          \\\\\n",
       "\t 5                         & img/15\\_circ.png         & 1                         & 3                         & 4                         & False                     & 0                         & 6.01897907                &  4                        & 327.5101                  & 4                         & NS                        & 0                         & 0                         & x                        \\\\\n",
       "\t 6                         & img/18\\_circ.png         & 1                         & 2                         & 5                         & False                     & 1                         & 7.51567698                &  1                        & 263.9382                  & 5                         & NS                        & 0                         & 0                         & x                        \\\\\n",
       "\\end{tabular}\n"
      ],
      "text/markdown": [
       "\n",
       "| X | path | pID | walk | trialNum | altered | correct_raw | onset_raw | resp_raw | rt_raw | order | Cond | pre | transition | grouping |\n",
       "|---|---|---|---|---|---|---|---|---|---|---|---|---|---|---|\n",
       "| 1                       | img/18_circ.png         | 1                       | 2                       | 0                       | False                   | 0                       | 0.00288415              | NA                      |       NA                | 0                       | NS                      | 0                       | 0                       | x                       |\n",
       "| 2                       | img/4_circ.png          | 1                       | 1                       | 1                       | False                   | 0                       | 1.51719999              |  4                      | 977.3271                | 1                       | NS                      | 0                       | 0                       | x                       |\n",
       "| 3                       | img/13_circ.png         | 1                       | 0                       | 2                       | False                   | 1                       | 3.01679420              |  1                      | 478.4188                | 2                       | NS                      | 0                       | 0                       | x                       |\n",
       "| 4                       | img/18_circ_rotated.png | 1                       | 2                       | 3                       | True                    | 0                       | 4.51468945              |  1                      | 681.2568                | 3                       | NS                      | 0                       | 0                       | x                       |\n",
       "| 5                       | img/15_circ.png         | 1                       | 3                       | 4                       | False                   | 0                       | 6.01897907              |  4                      | 327.5101                | 4                       | NS                      | 0                       | 0                       | x                       |\n",
       "| 6                       | img/18_circ.png         | 1                       | 2                       | 5                       | False                   | 1                       | 7.51567698              |  1                      | 263.9382                | 5                       | NS                      | 0                       | 0                       | x                       |\n",
       "\n"
      ],
      "text/plain": [
       "  X path                    pID walk trialNum altered correct_raw onset_raw \n",
       "1 1 img/18_circ.png         1   2    0        False   0           0.00288415\n",
       "2 2 img/4_circ.png          1   1    1        False   0           1.51719999\n",
       "3 3 img/13_circ.png         1   0    2        False   1           3.01679420\n",
       "4 4 img/18_circ_rotated.png 1   2    3        True    0           4.51468945\n",
       "5 5 img/15_circ.png         1   3    4        False   0           6.01897907\n",
       "6 6 img/18_circ.png         1   2    5        False   1           7.51567698\n",
       "  resp_raw rt_raw   order Cond pre transition grouping\n",
       "1 NA             NA 0     NS   0   0          x       \n",
       "2  4       977.3271 1     NS   0   0          x       \n",
       "3  1       478.4188 2     NS   0   0          x       \n",
       "4  1       681.2568 3     NS   0   0          x       \n",
       "5  4       327.5101 4     NS   0   0          x       \n",
       "6  1       263.9382 5     NS   0   0          x       "
      ]
     },
     "metadata": {},
     "output_type": "display_data"
    }
   ],
   "source": [
    "## Load trial-level behavioral data\n",
    "tdf<-read.csv(paste(wd1,\"tompson_netlearn_fmri_trial_data.csv\",sep=\"\"))\n",
    "\n",
    "tdfNS<-tdf[tdf$Cond==\"NS\",]\n",
    "tdfSoc<-tdf[tdf$Cond==\"Soc\",]\n",
    "head(tdf) "
   ]
  },
  {
   "cell_type": "markdown",
   "metadata": {},
   "source": [
    "## Step 2: Exclude bad subjects and trials"
   ]
  },
  {
   "cell_type": "code",
   "execution_count": 4,
   "metadata": {},
   "outputs": [
    {
     "name": "stdout",
     "output_type": "stream",
     "text": [
      "[1] \"\"\n",
      "[1] \"Combined Accuracy\"\n",
      "     1      2      4      5      8      9     11     12     13     15     16 \n",
      "0.7540 0.9230 0.8975 0.9010 0.9005 0.9085 0.8535 0.8845 0.3640 0.6020 0.9025 \n",
      "    18     19     20     21     23     24     25     26     27     28     29 \n",
      "0.8705 0.8610 0.4290 0.9580 0.7220 0.8960 0.9280 0.7190 0.8875 0.2390 0.9295 \n",
      "    30     31     32     33     34     35     36     37     39 \n",
      "0.8950 0.8590 0.7935 0.9025 0.7565 0.8320 0.8385 0.6340 0.9120 \n",
      "[1] \"\"\n",
      "[1] \"Non-Social Accuracy\"\n",
      "    1     2     4     5     8     9    11    12    13    15    16    18    19 \n",
      "0.753 0.916 0.887 0.926 0.913 0.873 0.886 0.884 0.728 0.645 0.892 0.861 0.881 \n",
      "   20    21    23    24    25    26    27    28    29    30    31    32    33 \n",
      "0.345 0.958 0.748 0.892 0.925 0.760 0.869 0.286 0.939 0.896 0.874 0.823 0.923 \n",
      "   34    35    36    37    39 \n",
      "0.636 0.818 0.801 0.636 0.910 \n",
      "[1] \"\"\n",
      "[1] \"Social Accuracy\"\n",
      "    1     2     4     5     8     9    11    12    15    16    18    19    20 \n",
      "0.755 0.930 0.908 0.876 0.888 0.944 0.821 0.885 0.559 0.913 0.880 0.841 0.513 \n",
      "   21    23    24    25    26    27    28    29    30    31    32    33    34 \n",
      "0.958 0.696 0.900 0.931 0.678 0.906 0.192 0.920 0.894 0.844 0.764 0.882 0.877 \n",
      "   35    36    37    39 \n",
      "0.846 0.876 0.632 0.914 \n"
     ]
    }
   ],
   "source": [
    "#################################################\n",
    "### check summary data for each subject to determine who to exclude\n",
    "#################################################\n",
    "\n",
    "print('')\n",
    "print('Combined Accuracy')\n",
    "print(tapply(tdf$correct,tdf$pID,function(i){sum(i,na.rm=T)/2000})) #percent correct trials\n",
    "\n",
    "print('')\n",
    "print('Non-Social Accuracy')\n",
    "print(tapply(tdfNS$correct,tdfNS$pID,function(i){sum(i,na.rm=T)/1000})) #percent correct trials\n",
    "\n",
    "print('')\n",
    "print('Social Accuracy')\n",
    "print(tapply(tdfSoc$correct,tdfSoc$pID,function(i){sum(i,na.rm=T)/1000})) #percent correct trials"
   ]
  },
  {
   "cell_type": "code",
   "execution_count": 5,
   "metadata": {},
   "outputs": [],
   "source": [
    "#################################################\n",
    "### Exclude subjects with fewer than 70% correct responses\n",
    "\n",
    "#NOTE: 18 subjects had greater than 70% correct\n",
    "#NOTE: 2 subjects missed greater than 50% of trials (20=43%, 28=24%)\n",
    "#NOTE: 2 subjects missed greater than 30% of trials (15=60%, 37=64%) but will keep them in for now\n",
    "#NOTE: 1 subject had to abort because they were feeling claustrophobic (13)\n",
    "#NOTE: 1 subject had to be excluded due to brain artifact (4=missing back part of parietal cortex)\n",
    "#################################################\n",
    "\n",
    "tdf<-subset(tdf,pID!= 1)\n",
    "tdf<-subset(tdf,pID!= 4)\n",
    "tdf<-subset(tdf,pID!= 13)\n",
    "#tdf<-subset(tdf,pID!= 15)\n",
    "tdf<-subset(tdf,pID!= 20)\n",
    "tdf<-subset(tdf,pID!= 28)\n",
    "#tdf<-subset(tdf,pID!= 37)"
   ]
  },
  {
   "cell_type": "code",
   "execution_count": 6,
   "metadata": {},
   "outputs": [
    {
     "name": "stdout",
     "output_type": "stream",
     "text": [
      "[1] \"# of transition trials\"\n",
      "  2   5   8   9  11  12  15  16  18  19  21  23  24  25  26  27  29  30  31  32 \n",
      " 97  99 108 103  97  99  65  91  89  83 104  97  94  99  99  98  97 107  86  82 \n",
      " 33  34  35  36  37  39 \n",
      " 85  93  90  89  67  95 \n",
      "[1] \"\"\n",
      "[1] \"Total # of subjects: 26\"\n"
     ]
    }
   ],
   "source": [
    "#################################################\n",
    "### Exclude bad trials and trials we won't use in analyses\n",
    "#################################################\n",
    "\n",
    "#remove incorrect trials\n",
    "tdf2<-subset(tdf,tdf$correct_raw==1)\n",
    "\n",
    "#remove altered trials\n",
    "tdf2<-subset(tdf2,tdf2$altered==\"False\")\n",
    "\n",
    "\n",
    "#Get rid of impossible reaction times (i.e., less than 100, >1500)\n",
    "tdf2 <- subset(tdf2, rt_raw < 1500)\n",
    "tdf2 <- subset(tdf2, rt_raw > 100)\n",
    "\n",
    "##remove Rts > 3 Sd from the mean\n",
    "tdf2 = ddply(tdf2, .(pID), transform, sRT = scale(rt_raw))\n",
    "tdf2= subset(tdf2, abs(sRT) < 3)\n",
    "\n",
    "#check # of transition trials left after cleaning\n",
    "print('# of transition trials')\n",
    "print(tapply(tdf2$grouping,tdf2$pID,function(i){sum(i==\"transition\",na.rm=T)})) #number of transition trials\n",
    "\n",
    "#convert trial grouping variable to a factor\n",
    "tdf2$grouping <- factor(tdf2$grouping, levels = c(\"x\", \"transition\"))\n",
    "\n",
    "\n",
    "rm(tdf,tdfNS,tdfSoc)\n",
    "\n",
    "print('')\n",
    "print(paste('Total # of subjects:',length(unique(tdf2$pID))))"
   ]
  },
  {
   "cell_type": "markdown",
   "metadata": {},
   "source": [
    "## Step 3: Load and merge neural data"
   ]
  },
  {
   "cell_type": "code",
   "execution_count": 7,
   "metadata": {},
   "outputs": [],
   "source": [
    "#################################################\n",
    "### Load data\n",
    "#################################################\n",
    "\n",
    "#Load IDs to link behavioral and neural data\n",
    "subjIDs<-read.csv(paste(wd1,\"netLearn_IDs_26subjs.csv\",sep=\"/\"))\n",
    "\n",
    "#Load head motion data file\n",
    "hmData<-read.csv(paste(wd1,\"netLearn_headMotion_26subjs.csv\",sep=\"/\"))\n",
    "\n",
    "#Define function for creating df\n",
    "create_df<-function(df_folder,dname1,dname2,df1,df2,add_cov=FALSE){\n",
    "  filepath<-paste(df_folder,\"netLearn_\",dname1,\n",
    "                  \"_26subjs_\",dname2,\".csv\",sep=\"\")\n",
    "  new.df<-read.csv(filepath,header=T,as.is=T)\n",
    "  new.df<-cbind(df1,new.df)\n",
    "  if(add_cov==TRUE){\n",
    "      new.df<-merge(new.df,df2,by=\"pID\")\n",
    "  }\n",
    "    \n",
    "  new.df$task<-gsub(\"Data\",\"\",unlist(strsplit(dname1,\"_\"))[1])\n",
    "  return(new.df)\n",
    "}\n",
    "\n",
    "# Load neural data and merge with behavioral/head motion data\n",
    "nsData_gc<-create_df(wd2,\"NSData_zscores\",\"sighubs_global_conn\",subjIDs,hmData,add_cov=TRUE)\n",
    "socData_gc<-create_df(wd2,\"SocData_zscores\",\"sighubs_global_conn\",subjIDs,hmData,add_cov=TRUE)\n",
    "\n",
    "nsData_ss<-create_df(wd2,\"NSData_zscores\",\"sighubs_to_sighubs\",subjIDs,hmData)\n",
    "socData_ss<-create_df(wd2,\"SocData_zscores\",\"sighubs_to_sighubs\",subjIDs,hmData)\n",
    "\n",
    "nsData_glm<-create_df(wd3,\"NSData_glm_transition\",\"sighubs_activation\",subjIDs,hmData)\n",
    "socData_glm<-create_df(wd3,\"SocData_glm_transition\",\"sighubs_activation\",subjIDs,hmData)\n",
    "\n",
    "\n",
    "#################################################\n",
    "# Combine neural dataframes\n",
    "#################################################\n",
    "\n",
    "longData_gc<-rbind(socData_gc,nsData_gc)\n",
    "longData_ss<-rbind(socData_ss,nsData_ss)\n",
    "longData_glm<-rbind(socData_glm,nsData_glm)\n",
    "\n",
    "\n",
    "longData<-merge(longData_gc,longData_ss,by = c(\"pID\",\"task\",\"CondNum\",\"rowID\",\"scanID\"))\n",
    "longData<-merge(longData,longData_glm,by = c(\"pID\",\"task\",\"CondNum\",\"rowID\",\"scanID\"))"
   ]
  },
  {
   "cell_type": "markdown",
   "metadata": {},
   "source": [
    "## Step 4: Test correlations between connectivity measures and brain activity"
   ]
  },
  {
   "cell_type": "code",
   "execution_count": 8,
   "metadata": {},
   "outputs": [],
   "source": [
    "hublist1<-c(\"combhubs_global\", \"Hippocampus_L_global\",\"Hippocampus_R_global\",\n",
    "            \"diffhubs_global\",\"TPJ_L_global\",\"TPJ_R_global\",\n",
    "            \"diffhubs_ns_global\",\"dmPFC_L_global\",\"dmPFC_R_global\",\"lPFC_L_global\",\"lPFC_R_global\")\n",
    "hublist2<-c(\"ws_combhubs\",\"ws_nshubs\",\"ws_sochubs\")\n",
    "glmlist1<-c(\"combhubs_glm\", \"Hippocampus_L_glm\",\"Hippocampus_R_glm\",\n",
    "            \"diffhubs_glm\",\"TPJ_L_glm\",\"TPJ_R_glm\",\n",
    "            \"diffhubs_ns_glm\",\"dmPFC_L_glm\",\"dmPFC_R_glm\",\"lPFC_L_glm\",\"lPFC_R_glm\")\n",
    "glmlist2<-c(\"combhubs_glm\", \"diffhubs_ns_glm\",\"diffhubs_glm\")"
   ]
  },
  {
   "cell_type": "code",
   "execution_count": 9,
   "metadata": {},
   "outputs": [
    {
     "name": "stdout",
     "output_type": "stream",
     "text": [
      "[1] \"combhubs_global corr with combhubs_glm\"\n",
      "[1] \"r = 0.09 p = 0.525\"\n",
      "[1] \"\"\n",
      "[1] \"Hippocampus_L_global corr with Hippocampus_L_glm\"\n",
      "[1] \"r = 0.057 p = 0.686\"\n",
      "[1] \"\"\n",
      "[1] \"Hippocampus_R_global corr with Hippocampus_R_glm\"\n",
      "[1] \"r = -0.02 p = 0.889\"\n",
      "[1] \"\"\n",
      "[1] \"diffhubs_global corr with diffhubs_glm\"\n",
      "[1] \"r = 0.107 p = 0.452\"\n",
      "[1] \"\"\n",
      "[1] \"TPJ_L_global corr with TPJ_L_glm\"\n",
      "[1] \"r = 0.129 p = 0.361\"\n",
      "[1] \"\"\n",
      "[1] \"TPJ_R_global corr with TPJ_R_glm\"\n",
      "[1] \"r = 0.064 p = 0.652\"\n",
      "[1] \"\"\n",
      "[1] \"diffhubs_ns_global corr with diffhubs_ns_glm\"\n",
      "[1] \"r = -0.002 p = 0.989\"\n",
      "[1] \"\"\n",
      "[1] \"dmPFC_L_global corr with dmPFC_L_glm\"\n",
      "[1] \"r = -0.054 p = 0.702\"\n",
      "[1] \"\"\n",
      "[1] \"dmPFC_R_global corr with dmPFC_R_glm\"\n",
      "[1] \"r = 0.069 p = 0.627\"\n",
      "[1] \"\"\n",
      "[1] \"lPFC_L_global corr with lPFC_L_glm\"\n",
      "[1] \"r = -0.018 p = 0.902\"\n",
      "[1] \"\"\n",
      "[1] \"lPFC_R_global corr with lPFC_R_glm\"\n",
      "[1] \"r = 0.065 p = 0.646\"\n",
      "[1] \"\"\n"
     ]
    }
   ],
   "source": [
    "for(i in 1:length(hublist1)){\n",
    "    name1<-hublist1[i]\n",
    "    name2<-glmlist1[i]\n",
    "    test<-cor.test(longData[,name1],longData[,name2])\n",
    "    print(paste(name1,'corr with',name2))\n",
    "    print(paste('r =',round(test$estimate,3),'p =',round(test$p.value,3)))\n",
    "    print('')\n",
    "}"
   ]
  },
  {
   "cell_type": "code",
   "execution_count": 10,
   "metadata": {},
   "outputs": [
    {
     "name": "stdout",
     "output_type": "stream",
     "text": [
      "[1] \"ws_combhubs corr with combhubs_glm\"\n",
      "[1] \"r = 0.126 p = 0.375\"\n",
      "[1] \"\"\n",
      "[1] \"ws_nshubs corr with diffhubs_ns_glm\"\n",
      "[1] \"r = -0.231 p = 0.099\"\n",
      "[1] \"\"\n",
      "[1] \"ws_sochubs corr with diffhubs_glm\"\n",
      "[1] \"r = 0.119 p = 0.399\"\n",
      "[1] \"\"\n"
     ]
    }
   ],
   "source": [
    "for(i in 1:length(hublist2)){\n",
    "    name1<-hublist2[i]\n",
    "    name2<-glmlist2[i]\n",
    "    test<-cor.test(longData[,name1],longData[,name2])\n",
    "    print(paste(name1,'corr with',name2))\n",
    "    print(paste('r =',round(test$estimate,3),'p =',round(test$p.value,3)))\n",
    "    print('')\n",
    "}"
   ]
  },
  {
   "cell_type": "markdown",
   "metadata": {},
   "source": [
    "## Step 5: Combine neural and trial-level data"
   ]
  },
  {
   "cell_type": "code",
   "execution_count": 11,
   "metadata": {},
   "outputs": [
    {
     "name": "stderr",
     "output_type": "stream",
     "text": [
      "Warning message in merge.data.frame(tdf2, longData, by.x = c(\"pID\", \"Cond\"), by.y = c(\"pID\", :\n",
      "“column names ‘X.x’, ‘X.y’ are duplicated in the result”"
     ]
    },
    {
     "data": {
      "text/html": [
       "<table>\n",
       "<thead><tr><th scope=col>pID</th><th scope=col>Cond</th><th scope=col>X.x</th><th scope=col>path</th><th scope=col>walk</th><th scope=col>trialNum</th><th scope=col>altered</th><th scope=col>correct_raw</th><th scope=col>onset_raw</th><th scope=col>resp_raw</th><th scope=col>⋯</th><th scope=col>Hippocampus_L_glm</th><th scope=col>Hippocampus_R_glm</th><th scope=col>diffhubs_glm</th><th scope=col>TPJ_L_glm</th><th scope=col>TPJ_R_glm</th><th scope=col>diffhubs_ns_glm</th><th scope=col>dmPFC_L_glm</th><th scope=col>dmPFC_R_glm</th><th scope=col>lPFC_L_glm</th><th scope=col>lPFC_R_glm</th></tr></thead>\n",
       "<tbody>\n",
       "\t<tr><td>11             </td><td>NS             </td><td>2002           </td><td>img/5_circ.png </td><td>9              </td><td>1              </td><td>False          </td><td>1              </td><td> 1.513404      </td><td>1              </td><td>⋯              </td><td>0.3777449      </td><td>0.09631367     </td><td>1.111413       </td><td>0.2089689      </td><td>1.562636       </td><td>0.6278472      </td><td>-0.130339      </td><td>0.7294553      </td><td>-0.5032621     </td><td>1.340994       </td></tr>\n",
       "\t<tr><td>11             </td><td>NS             </td><td>2003           </td><td>img/1_circ.png </td><td>8              </td><td>2              </td><td>False          </td><td>1              </td><td> 3.016448      </td><td>1              </td><td>⋯              </td><td>0.3777449      </td><td>0.09631367     </td><td>1.111413       </td><td>0.2089689      </td><td>1.562636       </td><td>0.6278472      </td><td>-0.130339      </td><td>0.7294553      </td><td>-0.5032621     </td><td>1.340994       </td></tr>\n",
       "\t<tr><td>11             </td><td>NS             </td><td>2005           </td><td>img/1_circ.png </td><td>8              </td><td>4              </td><td>False          </td><td>1              </td><td> 6.018421      </td><td>1              </td><td>⋯              </td><td>0.3777449      </td><td>0.09631367     </td><td>1.111413       </td><td>0.2089689      </td><td>1.562636       </td><td>0.6278472      </td><td>-0.130339      </td><td>0.7294553      </td><td>-0.5032621     </td><td>1.340994       </td></tr>\n",
       "\t<tr><td>11             </td><td>NS             </td><td>2007           </td><td>img/3_circ.png </td><td>4              </td><td>6              </td><td>False          </td><td>1              </td><td> 9.018356      </td><td>1              </td><td>⋯              </td><td>0.3777449      </td><td>0.09631367     </td><td>1.111413       </td><td>0.2089689      </td><td>1.562636       </td><td>0.6278472      </td><td>-0.130339      </td><td>0.7294553      </td><td>-0.5032621     </td><td>1.340994       </td></tr>\n",
       "\t<tr><td>11             </td><td>NS             </td><td>2009           </td><td>img/17_circ.png</td><td>1              </td><td>8              </td><td>False          </td><td>1              </td><td>12.018660      </td><td>1              </td><td>⋯              </td><td>0.3777449      </td><td>0.09631367     </td><td>1.111413       </td><td>0.2089689      </td><td>1.562636       </td><td>0.6278472      </td><td>-0.130339      </td><td>0.7294553      </td><td>-0.5032621     </td><td>1.340994       </td></tr>\n",
       "\t<tr><td>11             </td><td>NS             </td><td>2010           </td><td>img/18_circ.png</td><td>3              </td><td>9              </td><td>False          </td><td>1              </td><td>13.518142      </td><td>1              </td><td>⋯              </td><td>0.3777449      </td><td>0.09631367     </td><td>1.111413       </td><td>0.2089689      </td><td>1.562636       </td><td>0.6278472      </td><td>-0.130339      </td><td>0.7294553      </td><td>-0.5032621     </td><td>1.340994       </td></tr>\n",
       "</tbody>\n",
       "</table>\n"
      ],
      "text/latex": [
       "\\begin{tabular}{r|lllllllllllllllllllllllllllllllllllllllllllllllllllllllllllllllllllll}\n",
       " pID & Cond & X.x & path & walk & trialNum & altered & correct\\_raw & onset\\_raw & resp\\_raw & ⋯ & Hippocampus\\_L\\_glm & Hippocampus\\_R\\_glm & diffhubs\\_glm & TPJ\\_L\\_glm & TPJ\\_R\\_glm & diffhubs\\_ns\\_glm & dmPFC\\_L\\_glm & dmPFC\\_R\\_glm & lPFC\\_L\\_glm & lPFC\\_R\\_glm\\\\\n",
       "\\hline\n",
       "\t 11                & NS                & 2002              & img/5\\_circ.png  & 9                 & 1                 & False             & 1                 &  1.513404         & 1                 & ⋯                 & 0.3777449         & 0.09631367        & 1.111413          & 0.2089689         & 1.562636          & 0.6278472         & -0.130339         & 0.7294553         & -0.5032621        & 1.340994         \\\\\n",
       "\t 11                & NS                & 2003              & img/1\\_circ.png  & 8                 & 2                 & False             & 1                 &  3.016448         & 1                 & ⋯                 & 0.3777449         & 0.09631367        & 1.111413          & 0.2089689         & 1.562636          & 0.6278472         & -0.130339         & 0.7294553         & -0.5032621        & 1.340994         \\\\\n",
       "\t 11                & NS                & 2005              & img/1\\_circ.png  & 8                 & 4                 & False             & 1                 &  6.018421         & 1                 & ⋯                 & 0.3777449         & 0.09631367        & 1.111413          & 0.2089689         & 1.562636          & 0.6278472         & -0.130339         & 0.7294553         & -0.5032621        & 1.340994         \\\\\n",
       "\t 11                & NS                & 2007              & img/3\\_circ.png  & 4                 & 6                 & False             & 1                 &  9.018356         & 1                 & ⋯                 & 0.3777449         & 0.09631367        & 1.111413          & 0.2089689         & 1.562636          & 0.6278472         & -0.130339         & 0.7294553         & -0.5032621        & 1.340994         \\\\\n",
       "\t 11                & NS                & 2009              & img/17\\_circ.png & 1                 & 8                 & False             & 1                 & 12.018660         & 1                 & ⋯                 & 0.3777449         & 0.09631367        & 1.111413          & 0.2089689         & 1.562636          & 0.6278472         & -0.130339         & 0.7294553         & -0.5032621        & 1.340994         \\\\\n",
       "\t 11                & NS                & 2010              & img/18\\_circ.png & 3                 & 9                 & False             & 1                 & 13.518142         & 1                 & ⋯                 & 0.3777449         & 0.09631367        & 1.111413          & 0.2089689         & 1.562636          & 0.6278472         & -0.130339         & 0.7294553         & -0.5032621        & 1.340994         \\\\\n",
       "\\end{tabular}\n"
      ],
      "text/markdown": [
       "\n",
       "| pID | Cond | X.x | path | walk | trialNum | altered | correct_raw | onset_raw | resp_raw | ⋯ | Hippocampus_L_glm | Hippocampus_R_glm | diffhubs_glm | TPJ_L_glm | TPJ_R_glm | diffhubs_ns_glm | dmPFC_L_glm | dmPFC_R_glm | lPFC_L_glm | lPFC_R_glm |\n",
       "|---|---|---|---|---|---|---|---|---|---|---|---|---|---|---|---|---|---|---|---|---|\n",
       "| 11              | NS              | 2002            | img/5_circ.png  | 9               | 1               | False           | 1               |  1.513404       | 1               | ⋯               | 0.3777449       | 0.09631367      | 1.111413        | 0.2089689       | 1.562636        | 0.6278472       | -0.130339       | 0.7294553       | -0.5032621      | 1.340994        |\n",
       "| 11              | NS              | 2003            | img/1_circ.png  | 8               | 2               | False           | 1               |  3.016448       | 1               | ⋯               | 0.3777449       | 0.09631367      | 1.111413        | 0.2089689       | 1.562636        | 0.6278472       | -0.130339       | 0.7294553       | -0.5032621      | 1.340994        |\n",
       "| 11              | NS              | 2005            | img/1_circ.png  | 8               | 4               | False           | 1               |  6.018421       | 1               | ⋯               | 0.3777449       | 0.09631367      | 1.111413        | 0.2089689       | 1.562636        | 0.6278472       | -0.130339       | 0.7294553       | -0.5032621      | 1.340994        |\n",
       "| 11              | NS              | 2007            | img/3_circ.png  | 4               | 6               | False           | 1               |  9.018356       | 1               | ⋯               | 0.3777449       | 0.09631367      | 1.111413        | 0.2089689       | 1.562636        | 0.6278472       | -0.130339       | 0.7294553       | -0.5032621      | 1.340994        |\n",
       "| 11              | NS              | 2009            | img/17_circ.png | 1               | 8               | False           | 1               | 12.018660       | 1               | ⋯               | 0.3777449       | 0.09631367      | 1.111413        | 0.2089689       | 1.562636        | 0.6278472       | -0.130339       | 0.7294553       | -0.5032621      | 1.340994        |\n",
       "| 11              | NS              | 2010            | img/18_circ.png | 3               | 9               | False           | 1               | 13.518142       | 1               | ⋯               | 0.3777449       | 0.09631367      | 1.111413        | 0.2089689       | 1.562636        | 0.6278472       | -0.130339       | 0.7294553       | -0.5032621      | 1.340994        |\n",
       "\n"
      ],
      "text/plain": [
       "  pID Cond X.x  path            walk trialNum altered correct_raw onset_raw\n",
       "1 11  NS   2002 img/5_circ.png  9    1        False   1            1.513404\n",
       "2 11  NS   2003 img/1_circ.png  8    2        False   1            3.016448\n",
       "3 11  NS   2005 img/1_circ.png  8    4        False   1            6.018421\n",
       "4 11  NS   2007 img/3_circ.png  4    6        False   1            9.018356\n",
       "5 11  NS   2009 img/17_circ.png 1    8        False   1           12.018660\n",
       "6 11  NS   2010 img/18_circ.png 3    9        False   1           13.518142\n",
       "  resp_raw ⋯ Hippocampus_L_glm Hippocampus_R_glm diffhubs_glm TPJ_L_glm\n",
       "1 1        ⋯ 0.3777449         0.09631367        1.111413     0.2089689\n",
       "2 1        ⋯ 0.3777449         0.09631367        1.111413     0.2089689\n",
       "3 1        ⋯ 0.3777449         0.09631367        1.111413     0.2089689\n",
       "4 1        ⋯ 0.3777449         0.09631367        1.111413     0.2089689\n",
       "5 1        ⋯ 0.3777449         0.09631367        1.111413     0.2089689\n",
       "6 1        ⋯ 0.3777449         0.09631367        1.111413     0.2089689\n",
       "  TPJ_R_glm diffhubs_ns_glm dmPFC_L_glm dmPFC_R_glm lPFC_L_glm lPFC_R_glm\n",
       "1 1.562636  0.6278472       -0.130339   0.7294553   -0.5032621 1.340994  \n",
       "2 1.562636  0.6278472       -0.130339   0.7294553   -0.5032621 1.340994  \n",
       "3 1.562636  0.6278472       -0.130339   0.7294553   -0.5032621 1.340994  \n",
       "4 1.562636  0.6278472       -0.130339   0.7294553   -0.5032621 1.340994  \n",
       "5 1.562636  0.6278472       -0.130339   0.7294553   -0.5032621 1.340994  \n",
       "6 1.562636  0.6278472       -0.130339   0.7294553   -0.5032621 1.340994  "
      ]
     },
     "metadata": {},
     "output_type": "display_data"
    }
   ],
   "source": [
    "#################################################\n",
    "# Merge neural and trial-level data\n",
    "#################################################\n",
    "\n",
    "combData2<-merge(tdf2,longData,by.x = c(\"pID\",\"Cond\"),by.y=c(\"pID\",\"task\"))\n",
    "\n",
    "head(combData2)"
   ]
  },
  {
   "cell_type": "code",
   "execution_count": 12,
   "metadata": {},
   "outputs": [],
   "source": [
    "#################################################\n",
    "# Convert key variables to z-scores\n",
    "#################################################\n",
    "\n",
    "create_zscores<-function(varlist,df1){\n",
    "  newlist<-c()\n",
    "  for(var in varlist){\n",
    "    newvar<-paste(var,\"z\",sep=\"_\")\n",
    "    newlist<-c(newlist,newvar)\n",
    "    df1[,newvar]<-as.numeric(Make.Z(df1[,var]))\n",
    "  }\n",
    "  return(list(newlist,df1))\n",
    "}\n",
    "\n",
    "brain_var_list<-unique(c(hublist1,hublist2,glmlist1,glmlist2))\n",
    "zscores<-create_zscores(brain_var_list,combData2)\n",
    "zvars<-zscores[[1]]\n",
    "combData2<-zscores[[2]]"
   ]
  },
  {
   "cell_type": "markdown",
   "metadata": {},
   "source": [
    "## Step 6: Brain Connectivity Moderation Analyses with Confounds"
   ]
  },
  {
   "cell_type": "code",
   "execution_count": 13,
   "metadata": {},
   "outputs": [],
   "source": [
    "sighubs1<-c(\"Hippocampus_L_global_z\",\"diffhubs_global_z\",\"TPJ_L_global_z\",\"dmPFC_L_global_z\")\n",
    "sighubs2<-c(\"ws_sochubs_z\")\n",
    "sighubs<-c(sighubs1,sighubs2)\n",
    "\n",
    "i<-match(\"diffhubs_global\",hublist1)"
   ]
  },
  {
   "cell_type": "code",
   "execution_count": 14,
   "metadata": {},
   "outputs": [],
   "source": [
    "#################################################\n",
    "### Clean trial df\n",
    "#################################################\n",
    "\n",
    "# Create function to clean df\n",
    "clean_trial_df<-function(df1){\n",
    "    # Add order info to trial-level df\n",
    "    df1$order<-NA\n",
    "    for(subj in unique(df1$pID)){\n",
    "        df1$order[df1$pID==subj]<-subjIDs$CondNum[subjIDs$pID==subj]\n",
    "    }\n",
    "\n",
    "    #z-score variables\n",
    "    df1$strial<-as.numeric(Make.Z(df1$trialNum))\n",
    "\n",
    "    #contrast coding\n",
    "    contrasts(df1$grouping) <- contr.helmert(2) \n",
    "    contrasts(df1$grouping)\n",
    "  \n",
    "    df1$Cond<-factor(df1$Cond)\n",
    "    contrasts(df1$Cond) <- contr.helmert(2) \n",
    "    contrasts(df1$Cond)\n",
    "  \n",
    "    df1$order<-factor(df1$order)\n",
    "    contrasts(df1$order) <- contr.helmert(2) \n",
    "    contrasts(df1$order)\n",
    "    \n",
    "    #log-transform variables\n",
    "    df1$rt_log<-log(df1$rt_raw)\n",
    "    df1$rt_log<-df1$rt_log-mean(df1$rt_log)\n",
    "    return(df1)\n",
    "}\n",
    "\n",
    "#################################################\n",
    "### Clean merged trial/neural data\n",
    "#################################################\n",
    "combData2<-clean_trial_df(combData2)\n",
    "\n",
    "\n",
    "nsData2<-combData2[combData2$Cond=='NS',]\n",
    "socData2<-combData2[combData2$Cond=='Soc',]"
   ]
  },
  {
   "cell_type": "code",
   "execution_count": 15,
   "metadata": {},
   "outputs": [],
   "source": [
    "mm_TPJ<-lmer(rt_log~grouping*Cond*order*strial*TPJ_L_global_z + (1+grouping+Cond+strial | pID),data=combData2)\n",
    "mm_TPJ_glm<-lmer(rt_log~grouping*Cond*order*strial*TPJ_L_global_z + diffhubs_glm + (1+grouping+Cond+strial | pID),data=combData2)\n",
    "mm_TPJ_hm<-lmer(rt_log~grouping*Cond*order*strial*TPJ_L_global_z + mean_fd_all + (1+grouping+Cond+strial | pID),data=combData2)\n",
    "\n",
    "mm_sochubs_global<-lmer(rt_log~grouping*Cond*order*strial*diffhubs_global_z + (1+grouping+Cond+strial | pID),data=combData2)\n",
    "mm_sochubs_global_glm<-lmer(rt_log~grouping*Cond*order*strial*diffhubs_global_z + diffhubs_glm + (1+grouping+Cond+strial | pID),data=combData2)\n",
    "mm_sochubs_global_hm<-lmer(rt_log~grouping*Cond*order*strial*diffhubs_global_z + mean_fd_all + (1+grouping+Cond+strial | pID),data=combData2)\n",
    "\n",
    "mm_hipp<-lmer(rt_log~grouping*Cond*order*strial*Hippocampus_L_global_z + (1+grouping+Cond+strial | pID),data=combData2)\n",
    "mm_hipp_glm<-lmer(rt_log~grouping*Cond*order*strial*Hippocampus_L_global_z + diffhubs_glm + (1+grouping+Cond+strial | pID),data=combData2)\n",
    "mm_hipp_hm<-lmer(rt_log~grouping*Cond*order*strial*Hippocampus_L_global_z + mean_fd_all + (1+grouping+Cond+strial | pID),data=combData2)\n",
    "\n",
    "mm_dmPFC<-lmer(rt_log~grouping*Cond*order*strial*dmPFC_L_global_z + (1+grouping+Cond+strial | pID),data=combData2)\n",
    "mm_dmPFC_glm<-lmer(rt_log~grouping*Cond*order*strial*dmPFC_L_global_z + diffhubs_glm + (1+grouping+Cond+strial | pID),data=combData2)\n",
    "mm_dmPFC_hm<-lmer(rt_log~grouping*Cond*order*strial*dmPFC_L_global_z + mean_fd_all + (1+grouping+Cond+strial | pID),data=combData2)\n",
    "\n",
    "mm_ws_sochubs<-lmer(rt_log~grouping*Cond*order*strial*ws_sochubs_z + (1+grouping+Cond+strial | pID),data=combData2)\n",
    "mm_ws_sochubs_glm<-lmer(rt_log~grouping*Cond*order*strial*ws_sochubs_z + diffhubs_glm + (1+grouping+Cond+strial | pID),data=combData2)\n",
    "mm_ws_sochubs_hm<-lmer(rt_log~grouping*Cond*order*strial*ws_sochubs_z + mean_fd_all + (1+grouping+Cond+strial | pID),data=combData2)\n"
   ]
  },
  {
   "cell_type": "code",
   "execution_count": 16,
   "metadata": {},
   "outputs": [],
   "source": [
    "mm_og_3way_pvals<-c(summary(mm_hipp)$coefficients[21,][['Pr(>|t|)']],\n",
    "               summary(mm_ws_sochubs)$coefficients[21,][['Pr(>|t|)']],\n",
    "               summary(mm_dmPFC)$coefficients[21,][['Pr(>|t|)']],\n",
    "               summary(mm_sochubs_global)$coefficients[21,][['Pr(>|t|)']],\n",
    "               summary(mm_TPJ)$coefficients[21,][['Pr(>|t|)']])\n",
    "\n",
    "\n",
    "mm_glm_3way_pvals<-c(summary(mm_hipp_glm)$coefficients[22,][['Pr(>|t|)']],\n",
    "               summary(mm_ws_sochubs_glm)$coefficients[22,][['Pr(>|t|)']],\n",
    "               summary(mm_dmPFC_glm)$coefficients[22,][['Pr(>|t|)']],\n",
    "               summary(mm_sochubs_global_glm)$coefficients[22,][['Pr(>|t|)']],\n",
    "               summary(mm_TPJ_glm)$coefficients[22,][['Pr(>|t|)']])\n",
    "\n",
    "mm_hm_3way_pvals<-c(summary(mm_hipp_hm)$coefficients[22,][['Pr(>|t|)']],\n",
    "               summary(mm_ws_sochubs_hm)$coefficients[22,][['Pr(>|t|)']],\n",
    "               summary(mm_dmPFC_hm)$coefficients[22,][['Pr(>|t|)']],\n",
    "               summary(mm_sochubs_global_hm)$coefficients[22,][['Pr(>|t|)']],\n",
    "               summary(mm_TPJ_hm)$coefficients[22,][['Pr(>|t|)']])\n",
    "\n",
    "mm_og_2way_pvals<-c(summary(mm_hipp)$coefficients[13,][['Pr(>|t|)']],\n",
    "               summary(mm_ws_sochubs)$coefficients[13,][['Pr(>|t|)']],\n",
    "               summary(mm_dmPFC)$coefficients[13,][['Pr(>|t|)']],\n",
    "               summary(mm_sochubs_global)$coefficients[13,][['Pr(>|t|)']],\n",
    "               summary(mm_TPJ)$coefficients[13,][['Pr(>|t|)']])\n",
    "\n",
    "mm_glm_2way_pvals<-c(summary(mm_hipp_glm)$coefficients[14,][['Pr(>|t|)']],\n",
    "               summary(mm_ws_sochubs_glm)$coefficients[14,][['Pr(>|t|)']],\n",
    "               summary(mm_dmPFC_glm)$coefficients[14,][['Pr(>|t|)']],\n",
    "               summary(mm_sochubs_global_glm)$coefficients[14,][['Pr(>|t|)']],\n",
    "               summary(mm_TPJ_glm)$coefficients[14,][['Pr(>|t|)']])\n",
    "\n",
    "mm_hm_2way_pvals<-c(summary(mm_hipp_hm)$coefficients[14,][['Pr(>|t|)']],\n",
    "               summary(mm_ws_sochubs_hm)$coefficients[14,][['Pr(>|t|)']],\n",
    "               summary(mm_dmPFC_hm)$coefficients[14,][['Pr(>|t|)']],\n",
    "               summary(mm_sochubs_global_hm)$coefficients[14,][['Pr(>|t|)']],\n",
    "               summary(mm_TPJ_hm)$coefficients[14,][['Pr(>|t|)']])\n"
   ]
  },
  {
   "cell_type": "markdown",
   "metadata": {},
   "source": [
    "### Print results for mixed models controlling for confounds"
   ]
  },
  {
   "cell_type": "code",
   "execution_count": 17,
   "metadata": {},
   "outputs": [
    {
     "name": "stdout",
     "output_type": "stream",
     "text": [
      "[1] \"Results with Brain Activity as Covariate\"\n"
     ]
    },
    {
     "data": {
      "text/html": [
       "<table>\n",
       "<thead><tr><th></th><th scope=col>Estimate</th><th scope=col>Std. Error</th><th scope=col>df</th><th scope=col>t value</th><th scope=col>Pr(&gt;|t|)</th></tr></thead>\n",
       "<tbody>\n",
       "\t<tr><th scope=row>grouping1:Hippocampus_L_global_z</th><td>0.001  </td><td>0.003  </td><td>139.986</td><td>0.508  </td><td>0.612  </td></tr>\n",
       "\t<tr><th scope=row>grouping1:Cond1:Hippocampus_L_global_z</th><td>0.007  </td><td>0.003  </td><td>231.577</td><td>2.552  </td><td>0.011  </td></tr>\n",
       "</tbody>\n",
       "</table>\n"
      ],
      "text/latex": [
       "\\begin{tabular}{r|lllll}\n",
       "  & Estimate & Std. Error & df & t value & Pr(>\\textbar{}t\\textbar{})\\\\\n",
       "\\hline\n",
       "\tgrouping1:Hippocampus\\_L\\_global\\_z & 0.001   & 0.003   & 139.986 & 0.508   & 0.612  \\\\\n",
       "\tgrouping1:Cond1:Hippocampus\\_L\\_global\\_z & 0.007   & 0.003   & 231.577 & 2.552   & 0.011  \\\\\n",
       "\\end{tabular}\n"
      ],
      "text/markdown": [
       "\n",
       "| <!--/--> | Estimate | Std. Error | df | t value | Pr(>|t|) |\n",
       "|---|---|---|---|---|---|\n",
       "| grouping1:Hippocampus_L_global_z | 0.001   | 0.003   | 139.986 | 0.508   | 0.612   |\n",
       "| grouping1:Cond1:Hippocampus_L_global_z | 0.007   | 0.003   | 231.577 | 2.552   | 0.011   |\n",
       "\n"
      ],
      "text/plain": [
       "                                       Estimate Std. Error df      t value\n",
       "grouping1:Hippocampus_L_global_z       0.001    0.003      139.986 0.508  \n",
       "grouping1:Cond1:Hippocampus_L_global_z 0.007    0.003      231.577 2.552  \n",
       "                                       Pr(>|t|)\n",
       "grouping1:Hippocampus_L_global_z       0.612   \n",
       "grouping1:Cond1:Hippocampus_L_global_z 0.011   "
      ]
     },
     "metadata": {},
     "output_type": "display_data"
    },
    {
     "data": {
      "text/html": [
       "<table>\n",
       "<thead><tr><th></th><th scope=col>Estimate</th><th scope=col>Std. Error</th><th scope=col>df</th><th scope=col>t value</th><th scope=col>Pr(&gt;|t|)</th></tr></thead>\n",
       "<tbody>\n",
       "\t<tr><th scope=row>grouping1:ws_sochubs_z</th><td>0.007  </td><td>0.003  </td><td>153.729</td><td>2.262  </td><td>0.025  </td></tr>\n",
       "\t<tr><th scope=row>grouping1:Cond1:ws_sochubs_z</th><td>0.008  </td><td>0.003  </td><td>209.359</td><td>2.921  </td><td>0.004  </td></tr>\n",
       "</tbody>\n",
       "</table>\n"
      ],
      "text/latex": [
       "\\begin{tabular}{r|lllll}\n",
       "  & Estimate & Std. Error & df & t value & Pr(>\\textbar{}t\\textbar{})\\\\\n",
       "\\hline\n",
       "\tgrouping1:ws\\_sochubs\\_z & 0.007   & 0.003   & 153.729 & 2.262   & 0.025  \\\\\n",
       "\tgrouping1:Cond1:ws\\_sochubs\\_z & 0.008   & 0.003   & 209.359 & 2.921   & 0.004  \\\\\n",
       "\\end{tabular}\n"
      ],
      "text/markdown": [
       "\n",
       "| <!--/--> | Estimate | Std. Error | df | t value | Pr(>|t|) |\n",
       "|---|---|---|---|---|---|\n",
       "| grouping1:ws_sochubs_z | 0.007   | 0.003   | 153.729 | 2.262   | 0.025   |\n",
       "| grouping1:Cond1:ws_sochubs_z | 0.008   | 0.003   | 209.359 | 2.921   | 0.004   |\n",
       "\n"
      ],
      "text/plain": [
       "                             Estimate Std. Error df      t value Pr(>|t|)\n",
       "grouping1:ws_sochubs_z       0.007    0.003      153.729 2.262   0.025   \n",
       "grouping1:Cond1:ws_sochubs_z 0.008    0.003      209.359 2.921   0.004   "
      ]
     },
     "metadata": {},
     "output_type": "display_data"
    },
    {
     "data": {
      "text/html": [
       "<table>\n",
       "<thead><tr><th></th><th scope=col>Estimate</th><th scope=col>Std. Error</th><th scope=col>df</th><th scope=col>t value</th><th scope=col>Pr(&gt;|t|)</th></tr></thead>\n",
       "<tbody>\n",
       "\t<tr><th scope=row>grouping1:dmPFC_L_global_z</th><td> 0.001 </td><td>0.003  </td><td>198.412</td><td> 0.459 </td><td>0.646  </td></tr>\n",
       "\t<tr><th scope=row>grouping1:Cond1:dmPFC_L_global_z</th><td>-0.008 </td><td>0.003  </td><td>192.413</td><td>-2.876 </td><td>0.004  </td></tr>\n",
       "</tbody>\n",
       "</table>\n"
      ],
      "text/latex": [
       "\\begin{tabular}{r|lllll}\n",
       "  & Estimate & Std. Error & df & t value & Pr(>\\textbar{}t\\textbar{})\\\\\n",
       "\\hline\n",
       "\tgrouping1:dmPFC\\_L\\_global\\_z &  0.001  & 0.003   & 198.412 &  0.459  & 0.646  \\\\\n",
       "\tgrouping1:Cond1:dmPFC\\_L\\_global\\_z & -0.008  & 0.003   & 192.413 & -2.876  & 0.004  \\\\\n",
       "\\end{tabular}\n"
      ],
      "text/markdown": [
       "\n",
       "| <!--/--> | Estimate | Std. Error | df | t value | Pr(>|t|) |\n",
       "|---|---|---|---|---|---|\n",
       "| grouping1:dmPFC_L_global_z |  0.001  | 0.003   | 198.412 |  0.459  | 0.646   |\n",
       "| grouping1:Cond1:dmPFC_L_global_z | -0.008  | 0.003   | 192.413 | -2.876  | 0.004   |\n",
       "\n"
      ],
      "text/plain": [
       "                                 Estimate Std. Error df      t value Pr(>|t|)\n",
       "grouping1:dmPFC_L_global_z        0.001   0.003      198.412  0.459  0.646   \n",
       "grouping1:Cond1:dmPFC_L_global_z -0.008   0.003      192.413 -2.876  0.004   "
      ]
     },
     "metadata": {},
     "output_type": "display_data"
    },
    {
     "data": {
      "text/html": [
       "<table>\n",
       "<thead><tr><th></th><th scope=col>Estimate</th><th scope=col>Std. Error</th><th scope=col>df</th><th scope=col>t value</th><th scope=col>Pr(&gt;|t|)</th></tr></thead>\n",
       "<tbody>\n",
       "\t<tr><th scope=row>grouping1:diffhubs_global_z</th><td>0.008  </td><td>0.003  </td><td>190.633</td><td>2.773  </td><td>0.006  </td></tr>\n",
       "\t<tr><th scope=row>grouping1:Cond1:diffhubs_global_z</th><td>0.002  </td><td>0.003  </td><td>188.359</td><td>0.665  </td><td>0.507  </td></tr>\n",
       "</tbody>\n",
       "</table>\n"
      ],
      "text/latex": [
       "\\begin{tabular}{r|lllll}\n",
       "  & Estimate & Std. Error & df & t value & Pr(>\\textbar{}t\\textbar{})\\\\\n",
       "\\hline\n",
       "\tgrouping1:diffhubs\\_global\\_z & 0.008   & 0.003   & 190.633 & 2.773   & 0.006  \\\\\n",
       "\tgrouping1:Cond1:diffhubs\\_global\\_z & 0.002   & 0.003   & 188.359 & 0.665   & 0.507  \\\\\n",
       "\\end{tabular}\n"
      ],
      "text/markdown": [
       "\n",
       "| <!--/--> | Estimate | Std. Error | df | t value | Pr(>|t|) |\n",
       "|---|---|---|---|---|---|\n",
       "| grouping1:diffhubs_global_z | 0.008   | 0.003   | 190.633 | 2.773   | 0.006   |\n",
       "| grouping1:Cond1:diffhubs_global_z | 0.002   | 0.003   | 188.359 | 0.665   | 0.507   |\n",
       "\n"
      ],
      "text/plain": [
       "                                  Estimate Std. Error df      t value Pr(>|t|)\n",
       "grouping1:diffhubs_global_z       0.008    0.003      190.633 2.773   0.006   \n",
       "grouping1:Cond1:diffhubs_global_z 0.002    0.003      188.359 0.665   0.507   "
      ]
     },
     "metadata": {},
     "output_type": "display_data"
    },
    {
     "data": {
      "text/html": [
       "<table>\n",
       "<thead><tr><th></th><th scope=col>Estimate</th><th scope=col>Std. Error</th><th scope=col>df</th><th scope=col>t value</th><th scope=col>Pr(&gt;|t|)</th></tr></thead>\n",
       "<tbody>\n",
       "\t<tr><th scope=row>grouping1:TPJ_L_global_z</th><td>0.011  </td><td>0.003  </td><td>254.461</td><td>4.049  </td><td>0.000  </td></tr>\n",
       "\t<tr><th scope=row>grouping1:Cond1:TPJ_L_global_z</th><td>0.000  </td><td>0.003  </td><td>108.676</td><td>0.142  </td><td>0.887  </td></tr>\n",
       "</tbody>\n",
       "</table>\n"
      ],
      "text/latex": [
       "\\begin{tabular}{r|lllll}\n",
       "  & Estimate & Std. Error & df & t value & Pr(>\\textbar{}t\\textbar{})\\\\\n",
       "\\hline\n",
       "\tgrouping1:TPJ\\_L\\_global\\_z & 0.011   & 0.003   & 254.461 & 4.049   & 0.000  \\\\\n",
       "\tgrouping1:Cond1:TPJ\\_L\\_global\\_z & 0.000   & 0.003   & 108.676 & 0.142   & 0.887  \\\\\n",
       "\\end{tabular}\n"
      ],
      "text/markdown": [
       "\n",
       "| <!--/--> | Estimate | Std. Error | df | t value | Pr(>|t|) |\n",
       "|---|---|---|---|---|---|\n",
       "| grouping1:TPJ_L_global_z | 0.011   | 0.003   | 254.461 | 4.049   | 0.000   |\n",
       "| grouping1:Cond1:TPJ_L_global_z | 0.000   | 0.003   | 108.676 | 0.142   | 0.887   |\n",
       "\n"
      ],
      "text/plain": [
       "                               Estimate Std. Error df      t value Pr(>|t|)\n",
       "grouping1:TPJ_L_global_z       0.011    0.003      254.461 4.049   0.000   \n",
       "grouping1:Cond1:TPJ_L_global_z 0.000    0.003      108.676 0.142   0.887   "
      ]
     },
     "metadata": {},
     "output_type": "display_data"
    },
    {
     "name": "stdout",
     "output_type": "stream",
     "text": [
      "[1] \"FDR-corrected p-values\"\n",
      "[1] 0.019 0.011 0.011 0.634 0.887\n",
      "[1] 0.646 0.042 0.646 0.015 0.000\n"
     ]
    }
   ],
   "source": [
    "print('Results with Brain Activity as Covariate')\n",
    "round(summary(mm_hipp_glm)$coefficients[c(14,22),],3)\n",
    "round(summary(mm_ws_sochubs_glm)$coefficients[c(14,22),],3)\n",
    "round(summary(mm_dmPFC_glm)$coefficients[c(14,22),],3)\n",
    "round(summary(mm_sochubs_global_glm)$coefficients[c(14,22),],3)\n",
    "round(summary(mm_TPJ_glm)$coefficients[c(14,22),],3)\n",
    "\n",
    "print('FDR-corrected p-values')\n",
    "print(round(p.adjust(mm_glm_3way_pvals,method=\"fdr\"),3))\n",
    "print(round(p.adjust(mm_glm_2way_pvals,method=\"fdr\"),3))"
   ]
  },
  {
   "cell_type": "code",
   "execution_count": 18,
   "metadata": {},
   "outputs": [
    {
     "name": "stdout",
     "output_type": "stream",
     "text": [
      "[1] \"Results with Head Motion as Covariate\"\n"
     ]
    },
    {
     "data": {
      "text/html": [
       "<table>\n",
       "<thead><tr><th></th><th scope=col>Estimate</th><th scope=col>Std. Error</th><th scope=col>df</th><th scope=col>t value</th><th scope=col>Pr(&gt;|t|)</th></tr></thead>\n",
       "<tbody>\n",
       "\t<tr><th scope=row>grouping1:Hippocampus_L_global_z</th><td>0.001  </td><td>0.003  </td><td>139.348</td><td>0.531  </td><td>0.596  </td></tr>\n",
       "\t<tr><th scope=row>grouping1:Cond1:Hippocampus_L_global_z</th><td>0.007  </td><td>0.003  </td><td>230.148</td><td>2.560  </td><td>0.011  </td></tr>\n",
       "</tbody>\n",
       "</table>\n"
      ],
      "text/latex": [
       "\\begin{tabular}{r|lllll}\n",
       "  & Estimate & Std. Error & df & t value & Pr(>\\textbar{}t\\textbar{})\\\\\n",
       "\\hline\n",
       "\tgrouping1:Hippocampus\\_L\\_global\\_z & 0.001   & 0.003   & 139.348 & 0.531   & 0.596  \\\\\n",
       "\tgrouping1:Cond1:Hippocampus\\_L\\_global\\_z & 0.007   & 0.003   & 230.148 & 2.560   & 0.011  \\\\\n",
       "\\end{tabular}\n"
      ],
      "text/markdown": [
       "\n",
       "| <!--/--> | Estimate | Std. Error | df | t value | Pr(>|t|) |\n",
       "|---|---|---|---|---|---|\n",
       "| grouping1:Hippocampus_L_global_z | 0.001   | 0.003   | 139.348 | 0.531   | 0.596   |\n",
       "| grouping1:Cond1:Hippocampus_L_global_z | 0.007   | 0.003   | 230.148 | 2.560   | 0.011   |\n",
       "\n"
      ],
      "text/plain": [
       "                                       Estimate Std. Error df      t value\n",
       "grouping1:Hippocampus_L_global_z       0.001    0.003      139.348 0.531  \n",
       "grouping1:Cond1:Hippocampus_L_global_z 0.007    0.003      230.148 2.560  \n",
       "                                       Pr(>|t|)\n",
       "grouping1:Hippocampus_L_global_z       0.596   \n",
       "grouping1:Cond1:Hippocampus_L_global_z 0.011   "
      ]
     },
     "metadata": {},
     "output_type": "display_data"
    },
    {
     "data": {
      "text/html": [
       "<table>\n",
       "<thead><tr><th></th><th scope=col>Estimate</th><th scope=col>Std. Error</th><th scope=col>df</th><th scope=col>t value</th><th scope=col>Pr(&gt;|t|)</th></tr></thead>\n",
       "<tbody>\n",
       "\t<tr><th scope=row>grouping1:ws_sochubs_z</th><td>0.006  </td><td>0.003  </td><td>154.359</td><td>2.231  </td><td>0.027  </td></tr>\n",
       "\t<tr><th scope=row>grouping1:Cond1:ws_sochubs_z</th><td>0.008  </td><td>0.003  </td><td>210.401</td><td>2.878  </td><td>0.004  </td></tr>\n",
       "</tbody>\n",
       "</table>\n"
      ],
      "text/latex": [
       "\\begin{tabular}{r|lllll}\n",
       "  & Estimate & Std. Error & df & t value & Pr(>\\textbar{}t\\textbar{})\\\\\n",
       "\\hline\n",
       "\tgrouping1:ws\\_sochubs\\_z & 0.006   & 0.003   & 154.359 & 2.231   & 0.027  \\\\\n",
       "\tgrouping1:Cond1:ws\\_sochubs\\_z & 0.008   & 0.003   & 210.401 & 2.878   & 0.004  \\\\\n",
       "\\end{tabular}\n"
      ],
      "text/markdown": [
       "\n",
       "| <!--/--> | Estimate | Std. Error | df | t value | Pr(>|t|) |\n",
       "|---|---|---|---|---|---|\n",
       "| grouping1:ws_sochubs_z | 0.006   | 0.003   | 154.359 | 2.231   | 0.027   |\n",
       "| grouping1:Cond1:ws_sochubs_z | 0.008   | 0.003   | 210.401 | 2.878   | 0.004   |\n",
       "\n"
      ],
      "text/plain": [
       "                             Estimate Std. Error df      t value Pr(>|t|)\n",
       "grouping1:ws_sochubs_z       0.006    0.003      154.359 2.231   0.027   \n",
       "grouping1:Cond1:ws_sochubs_z 0.008    0.003      210.401 2.878   0.004   "
      ]
     },
     "metadata": {},
     "output_type": "display_data"
    },
    {
     "data": {
      "text/html": [
       "<table>\n",
       "<thead><tr><th></th><th scope=col>Estimate</th><th scope=col>Std. Error</th><th scope=col>df</th><th scope=col>t value</th><th scope=col>Pr(&gt;|t|)</th></tr></thead>\n",
       "<tbody>\n",
       "\t<tr><th scope=row>grouping1:dmPFC_L_global_z</th><td> 0.001 </td><td>0.003  </td><td>197.414</td><td> 0.444 </td><td>0.657  </td></tr>\n",
       "\t<tr><th scope=row>grouping1:Cond1:dmPFC_L_global_z</th><td>-0.008 </td><td>0.003  </td><td>191.665</td><td>-2.877 </td><td>0.004  </td></tr>\n",
       "</tbody>\n",
       "</table>\n"
      ],
      "text/latex": [
       "\\begin{tabular}{r|lllll}\n",
       "  & Estimate & Std. Error & df & t value & Pr(>\\textbar{}t\\textbar{})\\\\\n",
       "\\hline\n",
       "\tgrouping1:dmPFC\\_L\\_global\\_z &  0.001  & 0.003   & 197.414 &  0.444  & 0.657  \\\\\n",
       "\tgrouping1:Cond1:dmPFC\\_L\\_global\\_z & -0.008  & 0.003   & 191.665 & -2.877  & 0.004  \\\\\n",
       "\\end{tabular}\n"
      ],
      "text/markdown": [
       "\n",
       "| <!--/--> | Estimate | Std. Error | df | t value | Pr(>|t|) |\n",
       "|---|---|---|---|---|---|\n",
       "| grouping1:dmPFC_L_global_z |  0.001  | 0.003   | 197.414 |  0.444  | 0.657   |\n",
       "| grouping1:Cond1:dmPFC_L_global_z | -0.008  | 0.003   | 191.665 | -2.877  | 0.004   |\n",
       "\n"
      ],
      "text/plain": [
       "                                 Estimate Std. Error df      t value Pr(>|t|)\n",
       "grouping1:dmPFC_L_global_z        0.001   0.003      197.414  0.444  0.657   \n",
       "grouping1:Cond1:dmPFC_L_global_z -0.008   0.003      191.665 -2.877  0.004   "
      ]
     },
     "metadata": {},
     "output_type": "display_data"
    },
    {
     "data": {
      "text/html": [
       "<table>\n",
       "<thead><tr><th></th><th scope=col>Estimate</th><th scope=col>Std. Error</th><th scope=col>df</th><th scope=col>t value</th><th scope=col>Pr(&gt;|t|)</th></tr></thead>\n",
       "<tbody>\n",
       "\t<tr><th scope=row>grouping1:diffhubs_global_z</th><td>0.008  </td><td>0.003  </td><td>191.014</td><td>2.719  </td><td>0.007  </td></tr>\n",
       "\t<tr><th scope=row>grouping1:Cond1:diffhubs_global_z</th><td>0.002  </td><td>0.003  </td><td>188.714</td><td>0.710  </td><td>0.478  </td></tr>\n",
       "</tbody>\n",
       "</table>\n"
      ],
      "text/latex": [
       "\\begin{tabular}{r|lllll}\n",
       "  & Estimate & Std. Error & df & t value & Pr(>\\textbar{}t\\textbar{})\\\\\n",
       "\\hline\n",
       "\tgrouping1:diffhubs\\_global\\_z & 0.008   & 0.003   & 191.014 & 2.719   & 0.007  \\\\\n",
       "\tgrouping1:Cond1:diffhubs\\_global\\_z & 0.002   & 0.003   & 188.714 & 0.710   & 0.478  \\\\\n",
       "\\end{tabular}\n"
      ],
      "text/markdown": [
       "\n",
       "| <!--/--> | Estimate | Std. Error | df | t value | Pr(>|t|) |\n",
       "|---|---|---|---|---|---|\n",
       "| grouping1:diffhubs_global_z | 0.008   | 0.003   | 191.014 | 2.719   | 0.007   |\n",
       "| grouping1:Cond1:diffhubs_global_z | 0.002   | 0.003   | 188.714 | 0.710   | 0.478   |\n",
       "\n"
      ],
      "text/plain": [
       "                                  Estimate Std. Error df      t value Pr(>|t|)\n",
       "grouping1:diffhubs_global_z       0.008    0.003      191.014 2.719   0.007   \n",
       "grouping1:Cond1:diffhubs_global_z 0.002    0.003      188.714 0.710   0.478   "
      ]
     },
     "metadata": {},
     "output_type": "display_data"
    },
    {
     "data": {
      "text/html": [
       "<table>\n",
       "<thead><tr><th></th><th scope=col>Estimate</th><th scope=col>Std. Error</th><th scope=col>df</th><th scope=col>t value</th><th scope=col>Pr(&gt;|t|)</th></tr></thead>\n",
       "<tbody>\n",
       "\t<tr><th scope=row>grouping1:TPJ_L_global_z</th><td>0.011  </td><td>0.003  </td><td>254.044</td><td>3.997  </td><td>0.000  </td></tr>\n",
       "\t<tr><th scope=row>grouping1:Cond1:TPJ_L_global_z</th><td>0.000  </td><td>0.003  </td><td>108.523</td><td>0.128  </td><td>0.898  </td></tr>\n",
       "</tbody>\n",
       "</table>\n"
      ],
      "text/latex": [
       "\\begin{tabular}{r|lllll}\n",
       "  & Estimate & Std. Error & df & t value & Pr(>\\textbar{}t\\textbar{})\\\\\n",
       "\\hline\n",
       "\tgrouping1:TPJ\\_L\\_global\\_z & 0.011   & 0.003   & 254.044 & 3.997   & 0.000  \\\\\n",
       "\tgrouping1:Cond1:TPJ\\_L\\_global\\_z & 0.000   & 0.003   & 108.523 & 0.128   & 0.898  \\\\\n",
       "\\end{tabular}\n"
      ],
      "text/markdown": [
       "\n",
       "| <!--/--> | Estimate | Std. Error | df | t value | Pr(>|t|) |\n",
       "|---|---|---|---|---|---|\n",
       "| grouping1:TPJ_L_global_z | 0.011   | 0.003   | 254.044 | 3.997   | 0.000   |\n",
       "| grouping1:Cond1:TPJ_L_global_z | 0.000   | 0.003   | 108.523 | 0.128   | 0.898   |\n",
       "\n"
      ],
      "text/plain": [
       "                               Estimate Std. Error df      t value Pr(>|t|)\n",
       "grouping1:TPJ_L_global_z       0.011    0.003      254.044 3.997   0.000   \n",
       "grouping1:Cond1:TPJ_L_global_z 0.000    0.003      108.523 0.128   0.898   "
      ]
     },
     "metadata": {},
     "output_type": "display_data"
    },
    {
     "name": "stdout",
     "output_type": "stream",
     "text": [
      "[1] \"FDR-corrected p-values\"\n",
      "[1] 0.019 0.011 0.011 0.598 0.898\n",
      "[1] 0.657 0.045 0.657 0.018 0.000\n"
     ]
    }
   ],
   "source": [
    "print('Results with Head Motion as Covariate')\n",
    "round(summary(mm_hipp_hm)$coefficients[c(14,22),],3)\n",
    "round(summary(mm_ws_sochubs_hm)$coefficients[c(14,22),],3)\n",
    "round(summary(mm_dmPFC_hm)$coefficients[c(14,22),],3)\n",
    "round(summary(mm_sochubs_global_hm)$coefficients[c(14,22),],3)\n",
    "round(summary(mm_TPJ_hm)$coefficients[c(14,22),],3)\n",
    "\n",
    "print('FDR-corrected p-values')\n",
    "\n",
    "print(round(p.adjust(mm_hm_3way_pvals,method=\"fdr\"),3))\n",
    "print(round(p.adjust(mm_hm_2way_pvals,method=\"fdr\"),3))"
   ]
  },
  {
   "cell_type": "markdown",
   "metadata": {},
   "source": [
    "## Step 7: Correlation with Social Traits"
   ]
  },
  {
   "cell_type": "code",
   "execution_count": 19,
   "metadata": {},
   "outputs": [],
   "source": [
    "traits<-read.csv(paste(wd1,\"netLearn_self_report_measures_26subjs.csv\",sep=\"/\"))\n",
    "\n",
    "# Load neural data and merge with behavioral/head motion data\n",
    "diffData_gc<-create_df(wd2,\"diffData_zscores\",\"sighubs_global_conn\",subjIDs,hmData,add_cov=TRUE)\n",
    "\n",
    "diffData_ss<-create_df(wd2,\"diffData_zscores\",\"sighubs_to_sighubs\",subjIDs,hmData)\n",
    "\n",
    "#################################################\n",
    "# Combine neural dataframes\n",
    "#################################################\n",
    "\n",
    "\n",
    "mdf<-merge(diffData_gc,diffData_ss,by = c(\"pID\",\"task\",\"CondNum\",\"rowID\",\"scanID\"))\n",
    "#longData<-merge(longData,longData_glm,by = c(\"pID\",\"task\",\"CondNum\",\"rowID\",\"scanID\"))\n",
    "mdf=merge(mdf,traits,by=\"pID\")\n",
    "mdf_soc=mdf[mdf$task==\"Soc\",]\n",
    "mdf_ns=mdf[mdf$task==\"NS\",]\n"
   ]
  },
  {
   "cell_type": "code",
   "execution_count": 20,
   "metadata": {},
   "outputs": [
    {
     "name": "stdout",
     "output_type": "stream",
     "text": [
      "                     INDvsCOL Holism IRI_PT Ravens_nCorr\n",
      "combhubs_global        -0.234  0.304 -0.004       -0.103\n",
      "Hippocampus_L_global    0.056 -0.089 -0.399       -0.219\n",
      "Hippocampus_R_global   -0.069 -0.015 -0.355       -0.070\n",
      "diffhubs_global        -0.135  0.328 -0.090       -0.135\n",
      "TPJ_L_global           -0.049  0.061 -0.083       -0.023\n",
      "TPJ_R_global           -0.126  0.360 -0.102       -0.151\n",
      "diffhubs_ns_global     -0.266  0.586  0.357       -0.252\n",
      "dmPFC_L_global         -0.050  0.184  0.321       -0.247\n",
      "dmPFC_R_global         -0.237  0.470  0.409       -0.279\n",
      "lPFC_L_global           0.077  0.078 -0.041       -0.008\n",
      "lPFC_R_global          -0.256  0.548  0.135        0.006\n",
      "ws_combhubs            -0.081  0.245  0.182       -0.164\n",
      "ws_nshubs              -0.265  0.042  0.307       -0.208\n",
      "ws_sochubs              0.394 -0.156 -0.250        0.187\n",
      "                     INDvsCOL Holism IRI_PT Ravens_nCorr\n",
      "combhubs_global         0.608  0.564  0.983        0.919\n",
      "Hippocampus_L_global    0.927  0.919  0.432        0.658\n",
      "Hippocampus_R_global    0.919  0.983  0.468        0.919\n",
      "diffhubs_global         0.844  0.558  0.919        0.844\n",
      "TPJ_L_global            0.927  0.927  0.919        0.980\n",
      "TPJ_R_global            0.865  0.468  0.919        0.834\n",
      "diffhubs_ns_global      0.608  0.093  0.468        0.608\n",
      "dmPFC_L_global          0.927  0.746  0.558        0.608\n",
      "dmPFC_R_global          0.608  0.288  0.432        0.608\n",
      "lPFC_L_global           0.919  0.919  0.927        0.983\n",
      "lPFC_R_global           0.608  0.105  0.844        0.983\n",
      "ws_combhubs             0.919  0.608  0.746        0.816\n",
      "ws_nshubs               0.608  0.927  0.564        0.691\n",
      "ws_sochubs              0.432  0.834  0.608        0.746\n"
     ]
    }
   ],
   "source": [
    "hub_var_list<-unique(c(hublist1,hublist2))\n",
    "traitvars<-c(\"INDvsCOL\",\"Holism\",\"IRI_PT\",\"Ravens_nCorr\")\n",
    "\n",
    "corr_mat<-corr.test(mdf[,c(hub_var_list,traitvars)],adjust=\"none\")\n",
    "pmat<-corr_mat$p[1:length(hub_var_list),(length(hub_var_list)+1):length(c(hub_var_list,traitvars))]\n",
    "rmat<-corr_mat$r[1:length(hub_var_list),(length(hub_var_list)+1):length(c(hub_var_list,traitvars))]\n",
    "fdr_pvec<-p.adjust(pmat,method=\"fdr\")\n",
    "fdr_pmat<-as.data.frame(matrix(fdr_pvec,nrow=14,ncol=4,byrow = FALSE),row.names = hub_var_list, col.names = traitvars)\n",
    "names(fdr_pmat)<-traitvars\n",
    "print(round(rmat,3))\n",
    "print(round(fdr_pmat,3))"
   ]
  },
  {
   "cell_type": "markdown",
   "metadata": {},
   "source": [
    "## Step 8: Full Model Output for Mixed Effects Models"
   ]
  },
  {
   "cell_type": "code",
   "execution_count": 21,
   "metadata": {},
   "outputs": [
    {
     "name": "stdout",
     "output_type": "stream",
     "text": [
      "[1] \"Hub analyses for node type x network type interaction\"\n"
     ]
    }
   ],
   "source": [
    "#################################################\n",
    "### Loop over list of hubs and save results in list\n",
    "#################################################\n",
    "\n",
    "full_model_output<-list()\n",
    "grouping_main_effect<-list()\n",
    "brain_main_effect<-list()\n",
    "groupxcond_int<-list()\n",
    "groupxbrain_int<-list()\n",
    "condxbrain_int<-list()\n",
    "groupxbrainxcond_int<-list()\n",
    "\n",
    "hublist1<-c(\"combhubs_global_z\",\"Hippocampus_L_global_z\",\"Hippocampus_R_global_z\",\n",
    "            \"diffhubs_global_z\",\"TPJ_L_global_z\",\"TPJ_R_global_z\",\n",
    "            \"diffhubs_ns_global_z\",\"dmPFC_L_global_z\",\"dmPFC_R_global_z\",\"lPFC_L_global_z\",\"lPFC_R_global_z\")\n",
    "\n",
    "#hublist2<-c(\"Hippocampus_L_X_combhubs_z\",\"Hippocampus_L_X_nshubs_z\",\"Hippocampus_L_X_sochubs_z\",\n",
    "#            \"Hippocampus_R_X_combhubs_z\",\"Hippocampus_R_X_nshubs_z\",\"Hippocampus_R_X_sochubs_z\",\n",
    "#            \"ws_combhubs_z\",\"combhubs_X_nshubs_z\",\"combhubs_X_sochubs_z\",\n",
    "#            \"ws_nshubs_z\",\"nshubs_X_sochubs_z\",\"ws_sochubs_z\")\n",
    "\n",
    "hublist2<-c(\"ws_combhubs_z\",\"ws_nshubs_z\",\"ws_sochubs_z\")\n",
    "\n",
    "hublist<-c(hublist1,hublist2)\n",
    "print(\"Hub analyses for node type x network type interaction\")\n",
    "for(x in hublist){\n",
    "  mm1_cov= lmer(combData2[,\"rt_log\"] ~  \n",
    "                  combData2[,\"grouping\"]*combData2[,\"Cond\"]*combData2[,\"order\"]*combData2[,\"strial\"]*combData2[,x] +\n",
    "                  (1 + combData2[,\"grouping\"] + combData2[,\"Cond\"]+ combData2[,\"strial\"]| combData2[,\"pID\"]))\n",
    "  full_model_output[[paste(\"all\",x,sep=\"_\")]]<-mm1_cov\n",
    "  grouping_main_effect[[paste(\"all\",x,sep=\"_\")]]<-summary(mm1_cov)$coefficients[2,]\n",
    "  brain_main_effect[[paste(\"all\",x,sep=\"_\")]]<-summary(mm1_cov)$coefficients[6,]\n",
    "  groupxcond_int[[paste(\"all\",x,sep=\"_\")]]<-summary(mm1_cov)$coefficients[7,]\n",
    "  groupxbrain_int[[paste(\"all\",x,sep=\"_\")]]<-summary(mm1_cov)$coefficients[13,]\n",
    "  condxbrain_int[[paste(\"all\",x,sep=\"_\")]]<-summary(mm1_cov)$coefficients[14,]\n",
    "  groupxbrainxcond_int[[paste(\"all\",x,sep=\"_\")]]<-summary(mm1_cov)$coefficients[21,]\n",
    "}"
   ]
  },
  {
   "cell_type": "code",
   "execution_count": null,
   "metadata": {},
   "outputs": [
    {
     "name": "stdout",
     "output_type": "stream",
     "text": [
      "[1] \"combhubs_global_z\"\n",
      "[1] \"Brain main effect: fdr p= 0.922 unc p= 0.772\"\n",
      "[1] \"gxbxc 3-way interaction: fdr p= 0.846 unc p= 0.786\"\n",
      "[1] \"All trials gxb interaction: fdr p= 0.529 unc p= 0.378\"\n",
      "[1] \"\"\n",
      "[1] \"Hippocampus_L_global_z\"\n",
      "[1] \"Brain main effect: fdr p= 0.856 unc p= 0.063\"\n",
      "[1] \"gxbxc 3-way interaction: fdr p= 0.05 unc p= 0.011\"\n",
      "[1] \"All trials gxb interaction: fdr p= 0.698 unc p= 0.62\"\n",
      "[1] \"\"\n",
      "[1] \"Hippocampus_R_global_z\"\n",
      "[1] \"Brain main effect: fdr p= 0.922 unc p= 0.535\"\n",
      "[1] \"gxbxc 3-way interaction: fdr p= 0.233 unc p= 0.083\"\n",
      "[1] \"All trials gxb interaction: fdr p= 0.594 unc p= 0.467\"\n",
      "[1] \"\"\n",
      "[1] \"diffhubs_global_z\"\n",
      "[1] \"Brain main effect: fdr p= 0.993 unc p= 0.993\"\n",
      "[1] \"gxbxc 3-way interaction: fdr p= 0.679 unc p= 0.487\"\n",
      "[1] \"All trials gxb interaction: fdr p= 0.049 unc p= 0.007\"\n",
      "[1] \"\"\n",
      "[1] \"TPJ_L_global_z\"\n",
      "[1] \"Brain main effect: fdr p= 0.922 unc p= 0.742\"\n",
      "[1] \"gxbxc 3-way interaction: fdr p= 0.88 unc p= 0.88\"\n",
      "[1] \"All trials gxb interaction: fdr p= 0.001 unc p= 0\"\n",
      "[1] \"\"\n",
      "[1] \"TPJ_R_global_z\"\n",
      "[1] \"Brain main effect: fdr p= 0.922 unc p= 0.727\"\n",
      "[1] \"gxbxc 3-way interaction: fdr p= 0.679 unc p= 0.36\"\n",
      "[1] \"All trials gxb interaction: fdr p= 0.137 unc p= 0.04\"\n",
      "[1] \"\"\n",
      "[1] \"diffhubs_ns_global_z\"\n",
      "[1] \"Brain main effect: fdr p= 0.856 unc p= 0.134\"\n",
      "[1] \"gxbxc 3-way interaction: fdr p= 0.679 unc p= 0.519\"\n",
      "[1] \"All trials gxb interaction: fdr p= 0.137 unc p= 0.068\"\n",
      "[1] \"\"\n",
      "[1] \"dmPFC_L_global_z\"\n",
      "[1] \"Brain main effect: fdr p= 0.967 unc p= 0.898\"\n",
      "[1] \"gxbxc 3-way interaction: fdr p= 0.033 unc p= 0.005\"\n",
      "[1] \"All trials gxb interaction: fdr p= 0.698 unc p= 0.648\"\n",
      "[1] \"\"\n",
      "[1] \"dmPFC_R_global_z\"\n",
      "[1] \"Brain main effect: fdr p= 0.922 unc p= 0.346\"\n",
      "[1] \"gxbxc 3-way interaction: fdr p= 0.679 unc p= 0.555\"\n",
      "[1] \"All trials gxb interaction: fdr p= 0.137 unc p= 0.067\"\n",
      "[1] \"\"\n",
      "[1] \"lPFC_L_global_z\"\n",
      "[1] \"Brain main effect: fdr p= 0.922 unc p= 0.512\"\n",
      "[1] \"gxbxc 3-way interaction: fdr p= 0.101 unc p= 0.029\"\n",
      "[1] \"All trials gxb interaction: fdr p= 0.137 unc p= 0.057\"\n",
      "[1] \"\"\n",
      "[1] \"lPFC_R_global_z\"\n",
      "[1] \"Brain main effect: fdr p= 0.922 unc p= 0.79\"\n",
      "[1] \"gxbxc 3-way interaction: fdr p= 0.679 unc p= 0.582\"\n",
      "[1] \"All trials gxb interaction: fdr p= 0.308 unc p= 0.176\"\n",
      "[1] \"\"\n",
      "[1] \"ws_combhubs_z\"\n",
      "[1] \"Brain main effect: fdr p= 0.922 unc p= 0.698\"\n",
      "[1] \"gxbxc 3-way interaction: fdr p= 0.679 unc p= 0.405\"\n",
      "[1] \"All trials gxb interaction: fdr p= 0.529 unc p= 0.359\"\n",
      "[1] \"\"\n",
      "[1] \"ws_nshubs_z\"\n",
      "[1] \"Brain main effect: fdr p= 0.856 unc p= 0.183\"\n",
      "[1] \"gxbxc 3-way interaction: fdr p= 0.679 unc p= 0.331\"\n",
      "[1] \"All trials gxb interaction: fdr p= 0.76 unc p= 0.76\"\n",
      "[1] \"\"\n",
      "[1] \"ws_sochubs_z\"\n",
      "[1] \"Brain main effect: fdr p= 0.922 unc p= 0.546\"\n",
      "[1] \"gxbxc 3-way interaction: fdr p= 0.033 unc p= 0.004\"\n",
      "[1] \"All trials gxb interaction: fdr p= 0.126 unc p= 0.027\"\n",
      "[1] \"\"\n"
     ]
    }
   ],
   "source": [
    "#################################################\n",
    "### Apply fdr-correction to p-values\n",
    "#################################################\n",
    "\n",
    "b_me_pvals_all<-list()\n",
    "gxbxc_pvals_all<-list()\n",
    "gxb_pvals_all<-list()\n",
    "\n",
    "for(i in 1:length(hublist)){\n",
    "  x_all<-paste(\"all\",hublist[i],sep=\"_\")\n",
    "  b_me_pvals_all[i]<-brain_main_effect[[x_all]][5]\n",
    "  gxbxc_pvals_all[i]<-groupxbrainxcond_int[[x_all]][5]\n",
    "  gxb_pvals_all[i]<-groupxbrain_int[[x_all]][5]\n",
    "}\n",
    "\n",
    "\n",
    "# Compute fdr-corrected p-values\n",
    "b_me_fdr_pvals_all<-p.adjust(b_me_pvals_all,method = 'fdr')\n",
    "gxbxc_fdr_pvals_all<-p.adjust(gxbxc_pvals_all,method = 'fdr')\n",
    "gxb_fdr_pvals_all<-p.adjust(gxb_pvals_all,method = 'fdr')\n",
    "\n",
    "# Loop over hublist and add fdr-corrected p-value to results lists\n",
    "for(i in 1:length(hublist)){\n",
    "  x_all<-paste(\"all\",hublist[i],sep=\"_\")\n",
    "  brain_main_effect[[x_all]]['fdr_p']<-b_me_fdr_pvals_all[i]\n",
    "  groupxbrainxcond_int[[x_all]]['fdr_p']<-gxbxc_fdr_pvals_all[i]\n",
    "  groupxbrain_int[[x_all]]['fdr_p']<-gxb_fdr_pvals_all[i]\n",
    "}\n",
    "\n",
    "\n",
    "# Print results for hublist\n",
    "for(x in hublist){\n",
    "  x_all<-paste(\"all\",x,sep=\"_\")\n",
    "  pval_str1<-paste('Brain main effect: fdr p=',round(brain_main_effect[[x_all]]['fdr_p'],digits=3),'unc p=',round(brain_main_effect[[x_all]]['Pr(>|t|)'],digits=3))\n",
    "  pval_str2<-paste('gxbxc 3-way interaction: fdr p=',round(groupxbrainxcond_int[[x_all]]['fdr_p'],digits=3),'unc p=',round(groupxbrainxcond_int[[x_all]]['Pr(>|t|)'],digits=3))\n",
    "  pval_str3<-paste('All trials gxb interaction: fdr p=',round(groupxbrain_int[[x_all]]['fdr_p'],digits=3),'unc p=',round(groupxbrain_int[[x_all]]['Pr(>|t|)'],digits=3))\n",
    "  print(x)\n",
    "  print(pval_str1)\n",
    "  print(pval_str2)\n",
    "  print(pval_str3)\n",
    "  print('')\n",
    "  \n",
    "}"
   ]
  },
  {
   "cell_type": "code",
   "execution_count": null,
   "metadata": {},
   "outputs": [
    {
     "data": {
      "text/html": [
       "<ol>\n",
       "\t<li>0.771862481882545</li>\n",
       "\t<li>0.0632597104498754</li>\n",
       "\t<li>0.53482369033349</li>\n",
       "\t<li>0.992953791229678</li>\n",
       "\t<li>0.741780383025505</li>\n",
       "\t<li>0.727139773256958</li>\n",
       "\t<li>0.133955131271642</li>\n",
       "\t<li>0.898223123827308</li>\n",
       "\t<li>0.346358837281197</li>\n",
       "\t<li>0.512226655158532</li>\n",
       "\t<li>0.790443782641787</li>\n",
       "\t<li>0.697540110256129</li>\n",
       "\t<li>0.183449929399872</li>\n",
       "\t<li>0.54629795906699</li>\n",
       "</ol>\n"
      ],
      "text/latex": [
       "\\begin{enumerate}\n",
       "\\item 0.771862481882545\n",
       "\\item 0.0632597104498754\n",
       "\\item 0.53482369033349\n",
       "\\item 0.992953791229678\n",
       "\\item 0.741780383025505\n",
       "\\item 0.727139773256958\n",
       "\\item 0.133955131271642\n",
       "\\item 0.898223123827308\n",
       "\\item 0.346358837281197\n",
       "\\item 0.512226655158532\n",
       "\\item 0.790443782641787\n",
       "\\item 0.697540110256129\n",
       "\\item 0.183449929399872\n",
       "\\item 0.54629795906699\n",
       "\\end{enumerate}\n"
      ],
      "text/markdown": [
       "1. 0.771862481882545\n",
       "2. 0.0632597104498754\n",
       "3. 0.53482369033349\n",
       "4. 0.992953791229678\n",
       "5. 0.741780383025505\n",
       "6. 0.727139773256958\n",
       "7. 0.133955131271642\n",
       "8. 0.898223123827308\n",
       "9. 0.346358837281197\n",
       "10. 0.512226655158532\n",
       "11. 0.790443782641787\n",
       "12. 0.697540110256129\n",
       "13. 0.183449929399872\n",
       "14. 0.54629795906699\n",
       "\n",
       "\n"
      ],
      "text/plain": [
       "[[1]]\n",
       "[1] 0.7718625\n",
       "\n",
       "[[2]]\n",
       "[1] 0.06325971\n",
       "\n",
       "[[3]]\n",
       "[1] 0.5348237\n",
       "\n",
       "[[4]]\n",
       "[1] 0.9929538\n",
       "\n",
       "[[5]]\n",
       "[1] 0.7417804\n",
       "\n",
       "[[6]]\n",
       "[1] 0.7271398\n",
       "\n",
       "[[7]]\n",
       "[1] 0.1339551\n",
       "\n",
       "[[8]]\n",
       "[1] 0.8982231\n",
       "\n",
       "[[9]]\n",
       "[1] 0.3463588\n",
       "\n",
       "[[10]]\n",
       "[1] 0.5122267\n",
       "\n",
       "[[11]]\n",
       "[1] 0.7904438\n",
       "\n",
       "[[12]]\n",
       "[1] 0.6975401\n",
       "\n",
       "[[13]]\n",
       "[1] 0.1834499\n",
       "\n",
       "[[14]]\n",
       "[1] 0.546298\n"
      ]
     },
     "metadata": {},
     "output_type": "display_data"
    }
   ],
   "source": [
    "b_me_pvals_all"
   ]
  },
  {
   "cell_type": "markdown",
   "metadata": {},
   "source": [
    "### Print full model output for each model"
   ]
  },
  {
   "cell_type": "code",
   "execution_count": null,
   "metadata": {},
   "outputs": [
    {
     "name": "stdout",
     "output_type": "stream",
     "text": [
      "[1] \"combhubs_global_z_Main_Effect\"\n",
      "  Estimate Std. Error         df    t value   Pr(>|t|) \n",
      "     0.003      0.010     23.914      0.293      0.772 \n",
      "[1] \"\"\n",
      "[1] \"Hippocampus_L_global_z_Main_Effect\"\n",
      "  Estimate Std. Error         df    t value   Pr(>|t|) \n",
      "     0.020      0.010     25.168      1.943      0.063 \n",
      "[1] \"\"\n",
      "[1] \"Hippocampus_R_global_z_Main_Effect\"\n",
      "  Estimate Std. Error         df    t value   Pr(>|t|) \n",
      "     0.006      0.009     24.701      0.629      0.535 \n",
      "[1] \"\"\n",
      "[1] \"diffhubs_global_z_Main_Effect\"\n",
      "  Estimate Std. Error         df    t value   Pr(>|t|) \n",
      "     0.000      0.011     25.655      0.009      0.993 \n",
      "[1] \"\"\n",
      "[1] \"TPJ_L_global_z_Main_Effect\"\n",
      "  Estimate Std. Error         df    t value   Pr(>|t|) \n",
      "     0.004      0.011     24.826      0.333      0.742 \n",
      "[1] \"\"\n",
      "[1] \"TPJ_R_global_z_Main_Effect\"\n",
      "  Estimate Std. Error         df    t value   Pr(>|t|) \n",
      "     0.004      0.011     25.680      0.353      0.727 \n",
      "[1] \"\"\n",
      "[1] \"diffhubs_ns_global_z_Main_Effect\"\n",
      "  Estimate Std. Error         df    t value   Pr(>|t|) \n",
      "     0.020      0.013     25.262      1.548      0.134 \n",
      "[1] \"\"\n",
      "[1] \"dmPFC_L_global_z_Main_Effect\"\n",
      "  Estimate Std. Error         df    t value   Pr(>|t|) \n",
      "    -0.002      0.013     22.996     -0.129      0.898 \n",
      "[1] \"\"\n",
      "[1] \"dmPFC_R_global_z_Main_Effect\"\n",
      "  Estimate Std. Error         df    t value   Pr(>|t|) \n",
      "     0.012      0.012     25.362      0.960      0.346 \n",
      "[1] \"\"\n",
      "[1] \"lPFC_L_global_z_Main_Effect\"\n",
      "  Estimate Std. Error         df    t value   Pr(>|t|) \n",
      "    -0.009      0.013     25.660     -0.665      0.512 \n",
      "[1] \"\"\n",
      "[1] \"lPFC_R_global_z_Main_Effect\"\n",
      "  Estimate Std. Error         df    t value   Pr(>|t|) \n",
      "     0.003      0.012     25.945      0.268      0.790 \n",
      "[1] \"\"\n",
      "[1] \"ws_combhubs_z_Main_Effect\"\n",
      "  Estimate Std. Error         df    t value   Pr(>|t|) \n",
      "    -0.005      0.013     26.687     -0.393      0.698 \n",
      "[1] \"\"\n",
      "[1] \"ws_nshubs_z_Main_Effect\"\n",
      "  Estimate Std. Error         df    t value   Pr(>|t|) \n",
      "     0.016      0.011     24.093      1.370      0.183 \n",
      "[1] \"\"\n",
      "[1] \"ws_sochubs_z_Main_Effect\"\n",
      "  Estimate Std. Error         df    t value   Pr(>|t|) \n",
      "    -0.006      0.010     26.114     -0.611      0.546 \n",
      "[1] \"\"\n"
     ]
    }
   ],
   "source": [
    "for(x in hublist){\n",
    "    output<-summary(full_model_output[[paste('all',x,sep='_')]])$coefficient[c(6),]\n",
    "    #row.names(output)<-gsub(\" \",\"\",row.names(output))\n",
    "    #row.names(output)<-gsub(\"combData2_ss\",\"\",row.names(output))\n",
    "    #row.names(output)<-gsub(\"combData2_gc\",\"\",row.names(output))\n",
    "    \n",
    "    print(paste(x,'_Main_Effect',sep=\"\"))\n",
    "    print(round(output,digits=3))\n",
    "    print('')\n",
    "}"
   ]
  },
  {
   "cell_type": "code",
   "execution_count": null,
   "metadata": {},
   "outputs": [
    {
     "name": "stdout",
     "output_type": "stream",
     "text": [
      "[1] \"NodeTypexcombhubs_global_z\"\n",
      "  Estimate Std. Error         df    t value   Pr(>|t|) \n",
      "     0.002      0.003    293.809      0.883      0.378 \n",
      "[1] \"\"\n",
      "[1] \"NodeTypexHippocampus_L_global_z\"\n",
      "  Estimate Std. Error         df    t value   Pr(>|t|) \n",
      "     0.001      0.003    139.794      0.497      0.620 \n",
      "[1] \"\"\n",
      "[1] \"NodeTypexHippocampus_R_global_z\"\n",
      "  Estimate Std. Error         df    t value   Pr(>|t|) \n",
      "     0.002      0.003    334.956      0.728      0.467 \n",
      "[1] \"\"\n",
      "[1] \"NodeTypexdiffhubs_global_z\"\n",
      "  Estimate Std. Error         df    t value   Pr(>|t|) \n",
      "     0.008      0.003    190.896      2.730      0.007 \n",
      "[1] \"\"\n",
      "[1] \"NodeTypexTPJ_L_global_z\"\n",
      "  Estimate Std. Error         df    t value   Pr(>|t|) \n",
      "     0.011      0.003    253.785      4.018      0.000 \n",
      "[1] \"\"\n",
      "[1] \"NodeTypexTPJ_R_global_z\"\n",
      "  Estimate Std. Error         df    t value   Pr(>|t|) \n",
      "     0.006      0.003    178.551      2.069      0.040 \n",
      "[1] \"\"\n",
      "[1] \"NodeTypexdiffhubs_ns_global_z\"\n",
      "  Estimate Std. Error         df    t value   Pr(>|t|) \n",
      "    -0.005      0.003     81.715     -1.847      0.068 \n",
      "[1] \"\"\n",
      "[1] \"NodeTypexdmPFC_L_global_z\"\n",
      "  Estimate Std. Error         df    t value   Pr(>|t|) \n",
      "     0.001      0.003    196.829      0.458      0.648 \n",
      "[1] \"\"\n",
      "[1] \"NodeTypexdmPFC_R_global_z\"\n",
      "  Estimate Std. Error         df    t value   Pr(>|t|) \n",
      "    -0.005      0.003     81.597     -1.856      0.067 \n",
      "[1] \"\"\n",
      "[1] \"NodeTypexlPFC_L_global_z\"\n",
      "  Estimate Std. Error         df    t value   Pr(>|t|) \n",
      "     0.006      0.003    162.695      1.914      0.057 \n",
      "[1] \"\"\n",
      "[1] \"NodeTypexlPFC_R_global_z\"\n",
      "  Estimate Std. Error         df    t value   Pr(>|t|) \n",
      "    -0.004      0.003    114.875     -1.362      0.176 \n",
      "[1] \"\"\n",
      "[1] \"NodeTypexws_combhubs_z\"\n",
      "  Estimate Std. Error         df    t value   Pr(>|t|) \n",
      "     0.003      0.003    125.979      0.921      0.359 \n",
      "[1] \"\"\n",
      "[1] \"NodeTypexws_nshubs_z\"\n",
      "  Estimate Std. Error         df    t value   Pr(>|t|) \n",
      "     0.001      0.003    220.471      0.305      0.760 \n",
      "[1] \"\"\n",
      "[1] \"NodeTypexws_sochubs_z\"\n",
      "  Estimate Std. Error         df    t value   Pr(>|t|) \n",
      "     0.006      0.003    153.308      2.231      0.027 \n",
      "[1] \"\"\n"
     ]
    }
   ],
   "source": [
    "for(x in hublist){\n",
    "    output<-summary(full_model_output[[paste('all',x,sep='_')]])$coefficient[c(13),]\n",
    "    #row.names(output)<-gsub(\" \",\"\",row.names(output))\n",
    "    #row.names(output)<-gsub(\"combData2_ss\",\"\",row.names(output))\n",
    "    #row.names(output)<-gsub(\"combData2_gc\",\"\",row.names(output))\n",
    "    \n",
    "    print(paste('NodeTypex',x,sep=\"\"))\n",
    "    print(round(output,digits=3))\n",
    "    print('')\n",
    "}"
   ]
  },
  {
   "cell_type": "code",
   "execution_count": null,
   "metadata": {},
   "outputs": [
    {
     "name": "stdout",
     "output_type": "stream",
     "text": [
      "[1] \"NodeTypexNetworkTypexcombhubs_global_z\"\n",
      "  Estimate Std. Error         df    t value   Pr(>|t|) \n",
      "     0.001      0.003    159.363      0.272      0.786 \n",
      "[1] \"\"\n",
      "[1] \"NodeTypexNetworkTypexHippocampus_L_global_z\"\n",
      "  Estimate Std. Error         df    t value   Pr(>|t|) \n",
      "     0.007      0.003    231.161      2.571      0.011 \n",
      "[1] \"\"\n",
      "[1] \"NodeTypexNetworkTypexHippocampus_R_global_z\"\n",
      "  Estimate Std. Error         df    t value   Pr(>|t|) \n",
      "     0.005      0.003    103.790      1.748      0.083 \n",
      "[1] \"\"\n",
      "[1] \"NodeTypexNetworkTypexdiffhubs_global_z\"\n",
      "  Estimate Std. Error         df    t value   Pr(>|t|) \n",
      "     0.002      0.003    188.561      0.697      0.487 \n",
      "[1] \"\"\n",
      "[1] \"NodeTypexNetworkTypexTPJ_L_global_z\"\n",
      "  Estimate Std. Error         df    t value   Pr(>|t|) \n",
      "     0.000      0.003    108.452      0.152      0.880 \n",
      "[1] \"\"\n",
      "[1] \"NodeTypexNetworkTypexTPJ_R_global_z\"\n",
      "  Estimate Std. Error         df    t value   Pr(>|t|) \n",
      "     0.002      0.003    185.543      0.917      0.360 \n",
      "[1] \"\"\n",
      "[1] \"NodeTypexNetworkTypexdiffhubs_ns_global_z\"\n",
      "  Estimate Std. Error         df    t value   Pr(>|t|) \n",
      "     0.002      0.003    209.982      0.646      0.519 \n",
      "[1] \"\"\n",
      "[1] \"NodeTypexNetworkTypexdmPFC_L_global_z\"\n",
      "  Estimate Std. Error         df    t value   Pr(>|t|) \n",
      "    -0.008      0.003    191.080     -2.859      0.005 \n",
      "[1] \"\"\n",
      "[1] \"NodeTypexNetworkTypexdmPFC_R_global_z\"\n",
      "  Estimate Std. Error         df    t value   Pr(>|t|) \n",
      "     0.002      0.003    211.062      0.591      0.555 \n",
      "[1] \"\"\n",
      "[1] \"NodeTypexNetworkTypexlPFC_L_global_z\"\n",
      "  Estimate Std. Error         df    t value   Pr(>|t|) \n",
      "    -0.007      0.003    155.636     -2.205      0.029 \n",
      "[1] \"\"\n",
      "[1] \"NodeTypexNetworkTypexlPFC_R_global_z\"\n",
      "  Estimate Std. Error         df    t value   Pr(>|t|) \n",
      "     0.002      0.003    152.132      0.551      0.582 \n",
      "[1] \"\"\n",
      "[1] \"NodeTypexNetworkTypexws_combhubs_z\"\n",
      "  Estimate Std. Error         df    t value   Pr(>|t|) \n",
      "    -0.002      0.003    283.347     -0.834      0.405 \n",
      "[1] \"\"\n",
      "[1] \"NodeTypexNetworkTypexws_nshubs_z\"\n",
      "  Estimate Std. Error         df    t value   Pr(>|t|) \n",
      "    -0.003      0.003     88.467     -0.977      0.331 \n",
      "[1] \"\"\n",
      "[1] \"NodeTypexNetworkTypexws_sochubs_z\"\n",
      "  Estimate Std. Error         df    t value   Pr(>|t|) \n",
      "     0.008      0.003    208.908      2.898      0.004 \n",
      "[1] \"\"\n"
     ]
    }
   ],
   "source": [
    "for(x in hublist){\n",
    "    output<-summary(full_model_output[[paste('all',x,sep='_')]])$coefficient[c(21),]\n",
    "    #row.names(output)<-gsub(\" \",\"\",row.names(output))\n",
    "    #row.names(output)<-gsub(\"combData2_ss\",\"\",row.names(output))\n",
    "    #row.names(output)<-gsub(\"combData2_gc\",\"\",row.names(output))\n",
    "    \n",
    "    print(paste('NodeTypexNetworkTypex',x,sep=\"\"))\n",
    "    print(round(output,digits=3))\n",
    "    print('')\n",
    "}"
   ]
  },
  {
   "cell_type": "markdown",
   "metadata": {},
   "source": [
    "Steven Tompson | 2019"
   ]
  }
 ],
 "metadata": {
  "kernelspec": {
   "display_name": "R",
   "language": "R",
   "name": "ir"
  },
  "language_info": {
   "codemirror_mode": "r",
   "file_extension": ".r",
   "mimetype": "text/x-r-source",
   "name": "R",
   "pygments_lexer": "r",
   "version": "3.4.0"
  }
 },
 "nbformat": 4,
 "nbformat_minor": 2
}
